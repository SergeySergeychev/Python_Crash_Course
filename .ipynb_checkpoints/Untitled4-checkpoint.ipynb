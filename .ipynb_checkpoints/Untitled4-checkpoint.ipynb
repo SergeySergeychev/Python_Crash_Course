{
 "cells": [
  {
   "cell_type": "code",
   "execution_count": null,
   "metadata": {},
   "outputs": [],
   "source": [
    "strings = int(input('Write number of strings: '))\n",
    "\n",
    "for i in range(strings):\n",
    "    print('*'*(i+1))\n",
    "    \n",
    "    \n"
   ]
  },
  {
   "cell_type": "code",
   "execution_count": null,
   "metadata": {
    "scrolled": true
   },
   "outputs": [],
   "source": [
    "limit = int(input('Enter the limit: '))\n",
    "\n",
    "for i in range(limit+1):\n",
    "    if i % 2 == 0:\n",
    "        print(f'{i} is even')\n",
    "    else:\n",
    "        print(f'{i} is odd')\n",
    "    \n",
    "    \n"
   ]
  },
  {
   "cell_type": "code",
   "execution_count": 1,
   "metadata": {},
   "outputs": [
    {
     "name": "stdout",
     "output_type": "stream",
     "text": [
      "Write number of strings: 2\n",
      "0 is even\n",
      "1 is odd\n",
      "2 is even\n"
     ]
    }
   ],
   "source": [
    "strings = input('Write number of strings: ')\n",
    "number = int(strings)\n",
    "\n",
    "for i in range(number+1):\n",
    "    if i % 2 == 0:\n",
    "        print(f'{i} is even')\n",
    "    else:\n",
    "        print(f'{i} is odd')\n",
    "    \n",
    "    \n"
   ]
  },
  {
   "cell_type": "code",
   "execution_count": 10,
   "metadata": {},
   "outputs": [
    {
     "name": "stdout",
     "output_type": "stream",
     "text": [
      "write the number: 10\n"
     ]
    },
    {
     "data": {
      "text/plain": [
       "33"
      ]
     },
     "execution_count": 10,
     "metadata": {},
     "output_type": "execute_result"
    }
   ],
   "source": [
    "number = int(input('write the number: '))\n",
    "total_sum = 0\n",
    "\n",
    "for i in range(number+1):\n",
    "    if i % 3 == 0 or i % 5 == 0:  \n",
    "        total_sum += i\n",
    "total_sum\n",
    "     "
   ]
  },
  {
   "cell_type": "markdown",
   "metadata": {},
   "source": []
  },
  {
   "cell_type": "code",
   "execution_count": 11,
   "metadata": {},
   "outputs": [
    {
     "name": "stdout",
     "output_type": "stream",
     "text": [
      "Enter the limit: 10\n",
      "Total sum = 33\n"
     ]
    }
   ],
   "source": [
    "limit = int(input('Enter the limit: '))\n",
    "total_sum = sum([x for x in range(limit+1) if x % 3 == 0 or x % 5 == 0])\n",
    "print(f'Total sum = {total_sum}')"
   ]
  },
  {
   "cell_type": "code",
   "execution_count": 34,
   "metadata": {},
   "outputs": [
    {
     "data": {
      "text/plain": [
       "[([12, 14], [1, 3, 5])]"
      ]
     },
     "execution_count": 34,
     "metadata": {},
     "output_type": "execute_result"
    }
   ],
   "source": [
    "first_list = [ 1,2,3,4,5,6]\n",
    "second_list = [11,12,13,14,15]\n",
    "new_list = []\n",
    "\n",
    "odd = [x for x in first_list if x % 2 != 0]\n",
    "even = [y for y in second_list if y % 2 == 0]\n",
    "new_list.append((odd,even))\n",
    "new_list\n",
    "\n",
    "            "
   ]
  },
  {
   "cell_type": "code",
   "execution_count": 55,
   "metadata": {},
   "outputs": [
    {
     "data": {
      "text/plain": [
       "[([12, 14], [1, 3, 5])]"
      ]
     },
     "execution_count": 55,
     "metadata": {},
     "output_type": "execute_result"
    }
   ],
   "source": [
    "first_list = [ 1,2,3,4,5,6]\n",
    "second_list = [11,12,13,14,15]\n",
    "even = []\n",
    "odd = []\n",
    "new_list = []\n",
    "\n",
    "for x in  first_list:\n",
    "    if x % 2 != 0:\n",
    "        odd.append(x)\n",
    "for y in second_list:\n",
    "    if y % 2 == 0:\n",
    "        even.append(y)\n",
    "new_list.append((even,odd))\n",
    "new_list\n",
    "\n",
    "               \n",
    "        \n",
    "    "
   ]
  },
  {
   "cell_type": "code",
   "execution_count": 57,
   "metadata": {},
   "outputs": [
    {
     "name": "stdout",
     "output_type": "stream",
     "text": [
      "Merge list: [1, 3, 5, 12, 14] \n"
     ]
    }
   ],
   "source": [
    "first_list = [ 1,2,3,4,5,6]\n",
    "second_list = [11,12,13,14,15]\n",
    "\n",
    "joined_list = []\n",
    "for x in first_list:\n",
    "    if x % 2 != 0:\n",
    "        joined_list.append(x)\n",
    "for x in second_list:\n",
    "    if x % 2 == 0:\n",
    "        joined_list.append(x)\n",
    "print(f'Merge list: {joined_list} ')        "
   ]
  },
  {
   "cell_type": "code",
   "execution_count": 12,
   "metadata": {},
   "outputs": [
    {
     "name": "stdout",
     "output_type": "stream",
     "text": [
      "Merge list: [1, 3, 5, 12, 14]\n"
     ]
    }
   ],
   "source": [
    "first_list = [ 1,2,3,4,5,6]\n",
    "second_list = [11,12,13,14,15]\n",
    "joined_list = []\n",
    "odds = [x for x in first_list if x % 2 != 0]\n",
    "evens =[x for x in second_list if x % 2 == 0]\n",
    "joined_list = odds + evens\n",
    "print(f'Merge list: {joined_list}')        "
   ]
  },
  {
   "cell_type": "code",
   "execution_count": 16,
   "metadata": {},
   "outputs": [
    {
     "name": "stdout",
     "output_type": "stream",
     "text": [
      "[-1, 1, 1, -1, -1]\n"
     ]
    }
   ],
   "source": [
    "current_hand = {'A': -1,3: 1,4: 1,10: -1,'J': -1,4: 1}\n",
    "total_sum = (list(current_hand.values()))\n",
    "print(total_sum)\n"
   ]
  },
  {
   "cell_type": "code",
   "execution_count": 18,
   "metadata": {},
   "outputs": [
    {
     "data": {
      "text/plain": [
       "6"
      ]
     },
     "execution_count": 18,
     "metadata": {},
     "output_type": "execute_result"
    }
   ],
   "source": [
    "current_hand = [2, 2, 2, 2, 2, 2]\n",
    "cards = {2: 1}\n",
    "\n",
    "cards_sum =sum([cards[x] for x in current_hand])\n",
    "cards_sum"
   ]
  },
  {
   "cell_type": "code",
   "execution_count": 36,
   "metadata": {},
   "outputs": [
    {
     "name": "stdout",
     "output_type": "stream",
     "text": [
      "You have flush\n"
     ]
    }
   ],
   "source": [
    "table_cards = [\"A_S\", \"A_S\", \"7_D\", \"8_D\", \"10_D\"]\n",
    "hand_cards = [\"J_D\", \"3_D\"]\n",
    "\n",
    "new_hand =' '.join([str(elem) for elem in table_cards + hand_cards])\n",
    "looking_flush = new_hand.count('D')\n",
    "\n",
    "if looking_flush >= 5:\n",
    "    print('You have flush')\n",
    "\n",
    "    \n",
    "    "
   ]
  },
  {
   "cell_type": "code",
   "execution_count": 49,
   "metadata": {},
   "outputs": [
    {
     "name": "stdout",
     "output_type": "stream",
     "text": [
      "Palindrome\n"
     ]
    }
   ],
   "source": [
    "number = 222\n",
    "number_palindrome = 222\n",
    "\n",
    "first_number = number//100\n",
    "second_number = number%100//10\n",
    "third_number = number%10\n",
    "\n",
    "palindrome_first_number = number_palindrome//100\n",
    "palindrome_second_number = number%100//10\n",
    "palindrome_third_number = number%10\n",
    "\n",
    "statement = True\n",
    "if first_number - palindrome_third_number + second_number - palindrome_second_number + third_number - palindrome_first_number == 0:\n",
    "    print(\"Palindrome\")\n",
    "else:\n",
    "    print(\"No Palindrome\")\n",
    "\n",
    "    \n",
    "\n",
    "\n",
    "    "
   ]
  },
  {
   "cell_type": "code",
   "execution_count": null,
   "metadata": {},
   "outputs": [],
   "source": [
    "number = int(input(\"Enter a number\"))\n",
    "    \n",
    "reversed_number = 0\n",
    "tmp_original = number\n",
    "\n",
    "while tmp_original > 0:\n",
    "    reversed_number =(reversend_number*10)+tmp_original%10\n",
    "    tmp_original = tmp_original//10\n",
    "    \n",
    "if number == reversed_number:\n",
    "    print('Palindrome')\n",
    "else:\n",
    "    print('No Palindrome')"
   ]
  },
  {
   "cell_type": "code",
   "execution_count": null,
   "metadata": {},
   "outputs": [],
   "source": [
    "\n"
   ]
  },
  {
   "cell_type": "code",
   "execution_count": null,
   "metadata": {},
   "outputs": [],
   "source": []
  }
 ],
 "metadata": {
  "kernelspec": {
   "display_name": "Python 3",
   "language": "python",
   "name": "python3"
  },
  "language_info": {
   "codemirror_mode": {
    "name": "ipython",
    "version": 3
   },
   "file_extension": ".py",
   "mimetype": "text/x-python",
   "name": "python",
   "nbconvert_exporter": "python",
   "pygments_lexer": "ipython3",
   "version": "3.8.5"
  }
 },
 "nbformat": 4,
 "nbformat_minor": 4
}
