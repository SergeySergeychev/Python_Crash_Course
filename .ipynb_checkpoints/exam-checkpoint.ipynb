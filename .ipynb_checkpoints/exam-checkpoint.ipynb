{
 "cells": [
  {
   "cell_type": "code",
   "execution_count": 11,
   "metadata": {},
   "outputs": [
    {
     "name": "stdout",
     "output_type": "stream",
     "text": [
      "Write your total amount of cups: 12\n",
      "You have 2 bonus coffee\n"
     ]
    }
   ],
   "source": [
    "cup_quantity = input (\"Write your total amount of cups: \")\n",
    "cup = int(cup_quantity)\n",
    "bonus_cup = int(cup/6)\n",
    "print ( \"You have {} bonus coffee\".format(bonus_cup))\n"
   ]
  },
  {
   "cell_type": "code",
   "execution_count": 30,
   "metadata": {},
   "outputs": [
    {
     "name": "stdout",
     "output_type": "stream",
     "text": [
      "Write x1 coordinates: 1252\n",
      "Write y1 coordinates: 345345\n",
      "Write x2 coordinates: 34534\n",
      "Write y2 coordinates: 3453\n",
      "The result is  343508.124\n"
     ]
    }
   ],
   "source": [
    "x1 = input (\"Write x1 coordinates: \")\n",
    "x1coord = float(x1)\n",
    "y1 = input (\"Write y1 coordinates: \")\n",
    "y1coord = float(y1)\n",
    "x2 = input (\"Write x2 coordinates: \")\n",
    "x2coord = float(x2)\n",
    "y2 = input (\"Write y2 coordinates: \")\n",
    "y2coord = float(y2)\n",
    "from math import sqrt\n",
    "distance1 = sqrt((x1coord-x2coord)**2+(y1coord-y2coord)**2)\n",
    "print(f\"The result is: {distance1: 1.3f}\")\n"
   ]
  },
  {
   "cell_type": "markdown",
   "metadata": {},
   "source": [
    "# "
   ]
  },
  {
   "cell_type": "code",
   "execution_count": null,
   "metadata": {},
   "outputs": [],
   "source": []
  }
 ],
 "metadata": {
  "kernelspec": {
   "display_name": "Python 3",
   "language": "python",
   "name": "python3"
  },
  "language_info": {
   "codemirror_mode": {
    "name": "ipython",
    "version": 3
   },
   "file_extension": ".py",
   "mimetype": "text/x-python",
   "name": "python",
   "nbconvert_exporter": "python",
   "pygments_lexer": "ipython3",
   "version": "3.8.5"
  }
 },
 "nbformat": 4,
 "nbformat_minor": 4
}
