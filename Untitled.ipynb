{
 "cells": [
  {
   "cell_type": "code",
   "execution_count": 1,
   "metadata": {},
   "outputs": [
    {
     "name": "stdout",
     "output_type": "stream",
     "text": [
      "Before calling f()\n",
      "-- Inside f()\n",
      "After calling f()\n"
     ]
    }
   ],
   "source": [
    "def f():\n",
    "\n",
    "    s = '-- Inside f()'\n",
    "\n",
    "    print(s)\n",
    "\n",
    "\n",
    "print('Before calling f()')\n",
    "\n",
    "f()\n",
    "\n",
    "print('After calling f()')"
   ]
  },
  {
   "cell_type": "code",
   "execution_count": 3,
   "metadata": {},
   "outputs": [
    {
     "name": "stdout",
     "output_type": "stream",
     "text": [
      "Enter any number: 1331\n",
      "The number is palindrome!\n"
     ]
    }
   ],
   "source": [
    "number = int(input(\"Enter any number: \"))\n",
    "# store a copy of this number\n",
    "temp = number\n",
    "# calculate reverse of this number\n",
    "reverse_num = 0\n",
    "while(number > 0) :\n",
    "    # extract last digit\n",
    "    digit =  number%10\n",
    "    # append this digit in reversed number\n",
    "    reverse_num = reverse_num*10+digit\n",
    "    #floor divide the number leave out the last digit from number\n",
    "    number = number//10\n",
    "    # compare reverse to original number\n",
    "if(temp == reverse_num):\n",
    "        print(\"The number is palindrome!\")\n",
    "else:\n",
    "        print(\"The number is not a palindrome!\")\n"
   ]
  },
  {
   "cell_type": "code",
   "execution_count": null,
   "metadata": {},
   "outputs": [],
   "source": []
  }
 ],
 "metadata": {
  "kernelspec": {
   "display_name": "Python 3",
   "language": "python",
   "name": "python3"
  },
  "language_info": {
   "codemirror_mode": {
    "name": "ipython",
    "version": 3
   },
   "file_extension": ".py",
   "mimetype": "text/x-python",
   "name": "python",
   "nbconvert_exporter": "python",
   "pygments_lexer": "ipython3",
   "version": "3.8.5"
  }
 },
 "nbformat": 4,
 "nbformat_minor": 4
}
