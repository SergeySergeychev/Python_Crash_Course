{
 "cells": [
  {
   "cell_type": "code",
   "execution_count": 13,
   "metadata": {},
   "outputs": [
    {
     "name": "stdout",
     "output_type": "stream",
     "text": [
      "Write your total amount of cups: 2\n",
      "You have 0 bonus coffee.\n",
      "I will make you 2 cups of coffee \n"
     ]
    }
   ],
   "source": [
    "cup_quantity = input (\"Write your total amount of cups: \")\n",
    "cup = int(cup_quantity)\n",
    "bonus_cup = int(cup / 6)\n",
    "all_cups = bonus_cup+cup\n",
    "print ( \"You have {} bonus coffee.\\nI will make you {} cups of coffee \".format(bonus_cup, all_cups))\n"
   ]
  },
  {
   "cell_type": "code",
   "execution_count": null,
   "metadata": {},
   "outputs": [],
   "source": []
  },
  {
   "cell_type": "code",
   "execution_count": 16,
   "metadata": {},
   "outputs": [
    {
     "name": "stdout",
     "output_type": "stream",
     "text": [
      "Write x1 coordinates: 13413\n",
      "Write y1 coordinates: 24\n",
      "Write x2 coordinates: 24\n",
      "Write y2 coordinates: 234\n",
      "The result is: 13390.6468\n"
     ]
    }
   ],
   "source": [
    "x1 = input (\"Write x1 coordinates: \")\n",
    "x1coord = float(x1)\n",
    "y1 = input (\"Write y1 coordinates: \")\n",
    "y1coord = float(y1)\n",
    "x2 = input (\"Write x2 coordinates: \")\n",
    "x2coord = float(x2)\n",
    "y2 = input (\"Write y2 coordinates: \")\n",
    "y2coord = float(y2)\n",
    "from math import sqrt\n",
    "distance1 = round(sqrt((x1coord-x2coord)**2+(y1coord-y2coord)**2), 4)\n",
    "print(f\"The result is: {distance1}\")\n"
   ]
  },
  {
   "cell_type": "markdown",
   "metadata": {},
   "source": [
    "### "
   ]
  },
  {
   "cell_type": "markdown",
   "metadata": {},
   "source": [
    "# "
   ]
  }
 ],
 "metadata": {
  "kernelspec": {
   "display_name": "Python 3",
   "language": "python",
   "name": "python3"
  },
  "language_info": {
   "codemirror_mode": {
    "name": "ipython",
    "version": 3
   },
   "file_extension": ".py",
   "mimetype": "text/x-python",
   "name": "python",
   "nbconvert_exporter": "python",
   "pygments_lexer": "ipython3",
   "version": "3.8.5"
  }
 },
 "nbformat": 4,
 "nbformat_minor": 4
}
