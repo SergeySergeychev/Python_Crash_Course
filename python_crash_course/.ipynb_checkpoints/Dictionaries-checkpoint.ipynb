{
 "cells": [
  {
   "cell_type": "code",
   "execution_count": 1,
   "metadata": {},
   "outputs": [],
   "source": [
    "# Dictionaries"
   ]
  },
  {
   "cell_type": "code",
   "execution_count": 3,
   "metadata": {
    "scrolled": true
   },
   "outputs": [
    {
     "name": "stdout",
     "output_type": "stream",
     "text": [
      "green\n",
      "5\n"
     ]
    }
   ],
   "source": [
    "alien_0 = {'color': 'green', 'points': 5}\n",
    "\n",
    "print(alien_0['color']) # When you provide key , Python returns the value\n",
    "print(alien_0['points'])"
   ]
  },
  {
   "cell_type": "code",
   "execution_count": 4,
   "metadata": {},
   "outputs": [],
   "source": [
    "# Each key is connected to a value, and you can use a key to access \n",
    "# the value associatd with that key."
   ]
  },
  {
   "cell_type": "code",
   "execution_count": 5,
   "metadata": {},
   "outputs": [
    {
     "name": "stdout",
     "output_type": "stream",
     "text": [
      "You just earned 5 points!\n"
     ]
    }
   ],
   "source": [
    "alien_0 = {'color': 'green', 'points': 5}\n",
    "\n",
    "new_points = alien_0['points']# Pulls value associated with the key 'points'\n",
    "print(\"You just earned \" + str(new_points) + \" points!\")                     "
   ]
  },
  {
   "cell_type": "code",
   "execution_count": 7,
   "metadata": {},
   "outputs": [
    {
     "name": "stdout",
     "output_type": "stream",
     "text": [
      "{'color': 'green', 'points': 5}\n",
      "{'color': 'green', 'points': 5, 'x_position': 0, 'y_position': 25}\n"
     ]
    }
   ],
   "source": [
    "alien_0 = {'color': 'green', 'points': 5}\n",
    "print(alien_0)\n",
    "\n",
    "alien_0['x_position'] = 0 # adding key and value to dictionary\n",
    "alien_0['y_position'] = 25 # Python doesn't care about the order, how we \n",
    "                             # stored the key-value\n",
    "print(alien_0)"
   ]
  },
  {
   "cell_type": "code",
   "execution_count": 8,
   "metadata": {},
   "outputs": [],
   "source": [
    "# Starting with an Emty Dictionary\n"
   ]
  },
  {
   "cell_type": "code",
   "execution_count": 10,
   "metadata": {},
   "outputs": [
    {
     "name": "stdout",
     "output_type": "stream",
     "text": [
      "{'color': 'green', 'points': 5}\n"
     ]
    }
   ],
   "source": [
    "alien_0 = {}\n",
    "\n",
    "alien_0['color'] = 'green'\n",
    "alien_0['points'] = 5\n",
    "\n",
    "print(alien_0)"
   ]
  },
  {
   "cell_type": "code",
   "execution_count": 71,
   "metadata": {},
   "outputs": [
    {
     "name": "stdout",
     "output_type": "stream",
     "text": [
      "The alien is green.\n",
      "The alien is now blue.\n"
     ]
    }
   ],
   "source": [
    "# Modifying Values in a Dictionary\n",
    "\n",
    "alien_0 = {'color': 'green'}\n",
    "print(\"The alien is \" + alien_0['color'] + \".\")\n",
    "\n",
    "alien_0['color'] = 'yellow' # We change the value associated with key 'color'\n",
    "print(\"The alien is now \" + alien_0['color'] + \".\") "
   ]
  },
  {
   "cell_type": "code",
   "execution_count": 20,
   "metadata": {},
   "outputs": [
    {
     "name": "stdout",
     "output_type": "stream",
     "text": [
      "Original x_position: 0\n",
      "New x-position: 3\n",
      "{'x_position': 3, 'y_position': 25, 'speed': 'very fast'}\n"
     ]
    }
   ],
   "source": [
    "alien_0 = {'x_position': 0, 'y_position': 25, 'speed': 'medium'}\n",
    "alien_0['speed'] = 'very fast'\n",
    "print(\"Original x_position: \" + str(alien_0['x_position']))\n",
    "\n",
    "# Move the alien to the right.\n",
    "# Determine how far to move the alien based on its current speed.\n",
    "\n",
    "if alien_0['speed'] == 'slow':\n",
    "    x_increment = 1\n",
    "elif alien_0['speed'] == 'medium':\n",
    "    x_increment = 2\n",
    "else:\n",
    "    #This must be a fast alien.\n",
    "    x_increment = 3\n",
    "    \n",
    "# The new position is the old position plus the increment.\n",
    "alien_0['x_position'] = alien_0['x_position'] + x_increment\n",
    "# The result will be stored in key 'x_position'\n",
    "\n",
    "print(\"New x-position: \" + str(alien_0['x_position'])) \n",
    "print(alien_0)"
   ]
  },
  {
   "cell_type": "code",
   "execution_count": null,
   "metadata": {},
   "outputs": [],
   "source": [
    "# Removing Key-Value Pairs\n",
    "# We can use del statement to completly remove a key-value pair.\n",
    "# All del need is the name of the cdictionary and the key that you want to rem."
   ]
  },
  {
   "cell_type": "code",
   "execution_count": 22,
   "metadata": {},
   "outputs": [
    {
     "name": "stdout",
     "output_type": "stream",
     "text": [
      "{'x_position': 0, 'y_position': 25, 'speed': 'medium'}\n",
      "{'y_position': 25, 'speed': 'medium'}\n"
     ]
    }
   ],
   "source": [
    "alien_0 = {'x_position': 0, 'y_position': 25, 'speed': 'medium'}\n",
    "print(alien_0)\n",
    "\n",
    "del alien_0['x_position'] # Remove key and value from dictionary\n",
    "print(alien_0)"
   ]
  },
  {
   "cell_type": "code",
   "execution_count": 23,
   "metadata": {},
   "outputs": [],
   "source": [
    "# A Dictionary of Similar Objects"
   ]
  },
  {
   "cell_type": "code",
   "execution_count": 25,
   "metadata": {},
   "outputs": [
    {
     "name": "stdout",
     "output_type": "stream",
     "text": [
      "Sarah's favorite language is C.\n"
     ]
    }
   ],
   "source": [
    "favorite_languages = {\n",
    "    'jen': 'python',\n",
    "    'sarah': 'c',\n",
    "    'edward': 'ruby',\n",
    "    'phil': 'python',\n",
    "    }\n",
    "print(\"Sarah's favorite language is \" +\n",
    "     favorite_languages['sarah'].title() +\n",
    "     \".\")"
   ]
  },
  {
   "cell_type": "code",
   "execution_count": 31,
   "metadata": {},
   "outputs": [
    {
     "name": "stdout",
     "output_type": "stream",
     "text": [
      "Sergey\n",
      "Sergeychev\n",
      "34\n",
      "Kadaga\n"
     ]
    }
   ],
   "source": [
    "persons_information = {\n",
    "    'first_name': 'sergey', \n",
    "    'last_name': 'sergeychev',\n",
    "    'age': 34,\n",
    "    'city': 'kadaga',\n",
    "    }\n",
    "print(persons_information['first_name'].title())\n",
    "print(persons_information['last_name'].title())\n",
    "print(persons_information['age'])\n",
    "print(persons_information['city'].title())"
   ]
  },
  {
   "cell_type": "code",
   "execution_count": 38,
   "metadata": {},
   "outputs": [
    {
     "name": "stdout",
     "output_type": "stream",
     "text": [
      "Lucies favorite number is 5\n",
      "Nick's favorite number is 7\n",
      "Andrew's favorite number is 8\n",
      "Sofias favorite number is 13\n",
      "Roland's favorite number is 11\n"
     ]
    }
   ],
   "source": [
    "names_numbers = {\n",
    "    'lucy': 5, \n",
    "    'nick': 7, \n",
    "    'andrew': 8,\n",
    "    'roland': 11,\n",
    "    'sofia': 13,\n",
    "    }\n",
    "print(\"Lucies favorite number is \" + str(names_numbers['lucy']))\n",
    "print(\"Nick's favorite number is \" + str(names_numbers['nick']))\n",
    "print(\"Andrew's favorite number is \" + str(names_numbers['andrew']))\n",
    "print(\"Sofias favorite number is \" + str(names_numbers['sofia']))\n",
    "print(\"Roland's favorite number is \" + str(names_numbers['roland']))"
   ]
  },
  {
   "cell_type": "code",
   "execution_count": 54,
   "metadata": {},
   "outputs": [
    {
     "name": "stdout",
     "output_type": "stream",
     "text": [
      "conditionals : \n",
      " if, elif, else\n",
      "boolean : \n",
      " True or False\n",
      "bigO : \n",
      " O(n), O(log(n))\n",
      "string : \n",
      " str\n",
      "integer : \n",
      " int\n"
     ]
    }
   ],
   "source": [
    "glossary = {\n",
    "   'conditionals': 'if, elif, else',\n",
    "    'boolean': 'True or False',\n",
    "    'bigO': 'O(n), O(log(n))',\n",
    "    'string': 'str',\n",
    "    'integer': 'int',\n",
    "    }\n",
    "for key, value in glossary.items():\n",
    "    print(key, ':','\\n', value)"
   ]
  },
  {
   "cell_type": "code",
   "execution_count": 49,
   "metadata": {},
   "outputs": [
    {
     "name": "stdout",
     "output_type": "stream",
     "text": [
      "{'conditionals': 'if, elif, else', 'boolean': 'True or False', 'bigO': 'O(n), O(log(n))', 'string': 'str', 'integer': 'int'}\n"
     ]
    }
   ],
   "source": [
    "print(glossary)"
   ]
  },
  {
   "cell_type": "code",
   "execution_count": 55,
   "metadata": {},
   "outputs": [],
   "source": [
    "# Looping Trough a Dictionary"
   ]
  },
  {
   "cell_type": "code",
   "execution_count": 56,
   "metadata": {
    "scrolled": true
   },
   "outputs": [
    {
     "name": "stdout",
     "output_type": "stream",
     "text": [
      "\n",
      "Key: username\n",
      "Value: efermi\n",
      "\n",
      "Key: first\n",
      "Value: enrico\n",
      "\n",
      "Key: last\n",
      "Value: fermi\n"
     ]
    }
   ],
   "source": [
    "user_0 = {\n",
    "    'username': 'efermi',\n",
    "    'first': 'enrico',\n",
    "    'last': 'fermi',\n",
    "    }\n",
    "for key, value in user_0.items():\n",
    "    print(\"\\nKey: \" + key)\n",
    "    print(\"Value: \" + value)"
   ]
  },
  {
   "cell_type": "code",
   "execution_count": 57,
   "metadata": {},
   "outputs": [
    {
     "name": "stdout",
     "output_type": "stream",
     "text": [
      "Jen's favorite language is Python.\n",
      "Sarah's favorite language is C.\n",
      "Edward's favorite language is Ruby.\n",
      "Phil's favorite language is Python.\n"
     ]
    }
   ],
   "source": [
    "favorite_languages = {\n",
    "    'jen': 'python',\n",
    "    'sarah': 'c',\n",
    "    'edward': 'ruby',\n",
    "    'phil': 'python',\n",
    "    }\n",
    "for name, language in favorite_languages.items():\n",
    "    print(name.title() + \"'s favorite language is \" +\n",
    "         language.title() + \".\")"
   ]
  },
  {
   "cell_type": "code",
   "execution_count": 59,
   "metadata": {},
   "outputs": [
    {
     "name": "stdout",
     "output_type": "stream",
     "text": [
      "Jen\n",
      "Sarah\n",
      "Edward\n",
      "Phil\n"
     ]
    }
   ],
   "source": [
    "# Looping Trought ALL the Keys in a Dictionary\n",
    "\n",
    "favorite_languages = {\n",
    "    'jen': 'python',\n",
    "    'sarah': 'c',\n",
    "    'edward': 'ruby',\n",
    "    'phil': 'python',\n",
    "    }\n",
    "for name in favorite_languages.keys():\n",
    "    print(name.title())"
   ]
  },
  {
   "cell_type": "code",
   "execution_count": 60,
   "metadata": {},
   "outputs": [
    {
     "name": "stdout",
     "output_type": "stream",
     "text": [
      "Jen\n",
      "Sarah\n",
      " Hi Sarah, I see yo favorite language is C!\n",
      "Edward\n",
      "Phil\n",
      " Hi Phil, I see yo favorite language is Python!\n"
     ]
    }
   ],
   "source": [
    "favorite_languages = {\n",
    "    'jen': 'python',\n",
    "    'sarah': 'c',\n",
    "    'edward': 'ruby',\n",
    "    'phil': 'python',\n",
    "    }\n",
    "friends = ['phil', 'sarah']\n",
    "for name in favorite_languages.keys():\n",
    "    print(name.title())\n",
    "    \n",
    "    if name in friends:\n",
    "        print (\" Hi \" + name.title() + \n",
    "               \", I see yo favorite language is \" +\n",
    "              favorite_languages[name].title() + \"!\")"
   ]
  },
  {
   "cell_type": "code",
   "execution_count": 61,
   "metadata": {},
   "outputs": [
    {
     "name": "stdout",
     "output_type": "stream",
     "text": [
      "Erin, please take our poll!\n"
     ]
    }
   ],
   "source": [
    "favorite_languages = {\n",
    "    'jen': 'python',\n",
    "    'sarah': 'c',\n",
    "    'edward': 'ruby',\n",
    "    'phil': 'python',\n",
    "    }\n",
    "if 'erin' not in favorite_languages.keys():\n",
    "    print(\"Erin, please take our poll!\")"
   ]
  },
  {
   "cell_type": "code",
   "execution_count": 65,
   "metadata": {},
   "outputs": [
    {
     "name": "stdout",
     "output_type": "stream",
     "text": [
      "Ahil, thank you for taking the poll.\n",
      "Barah, thank you for taking the poll.\n",
      "Cdward, thank you for taking the poll.\n",
      "Den, thank you for taking the poll.\n"
     ]
    }
   ],
   "source": [
    "# Looping Trough a Dictionary's in order \n",
    "favorite_languages = {\n",
    "    'ken': 'python',\n",
    "    'sarah': 'c',\n",
    "    'edward': 'ruby',\n",
    "    'phil': 'python',\n",
    "    }\n",
    "\n",
    "for name in sorted(favorite_languages.keys()):\n",
    "    print(name.title() + \", thank you for taking the poll.\")"
   ]
  },
  {
   "cell_type": "code",
   "execution_count": 66,
   "metadata": {},
   "outputs": [
    {
     "name": "stdout",
     "output_type": "stream",
     "text": [
      "The following languages have been mentioned:\n",
      "Python\n",
      "C\n",
      "Ruby\n",
      "Python\n"
     ]
    }
   ],
   "source": [
    "favorite_languages = {\n",
    "    'jen': 'python',\n",
    "    'sarah': 'c',\n",
    "    'edward': 'ruby',\n",
    "    'phil': 'python',\n",
    "    }\n",
    "\n",
    "print(\"The following languages have been mentioned:\")\n",
    "for language in favorite_languages.values():\n",
    "    # This approach pulls all the values from the dictionary without\n",
    "    # checking for repeats.\n",
    "    print(language.title())"
   ]
  },
  {
   "cell_type": "code",
   "execution_count": 67,
   "metadata": {},
   "outputs": [
    {
     "name": "stdout",
     "output_type": "stream",
     "text": [
      "The following languages have been mentioned:\n",
      "C\n",
      "Ruby\n",
      "Python\n"
     ]
    }
   ],
   "source": [
    "favorite_languages = {\n",
    "    'jen': 'python',\n",
    "    'sarah': 'c',\n",
    "    'edward': 'ruby',\n",
    "    'phil': 'python',\n",
    "    }\n",
    "\n",
    "print(\"The following languages have been mentioned:\")\n",
    "for language in set(favorite_languages.values()):\n",
    "    # Will be pulled only unique values with method set().\n",
    "    print(language.title())"
   ]
  },
  {
   "cell_type": "code",
   "execution_count": 68,
   "metadata": {
    "scrolled": true
   },
   "outputs": [
    {
     "name": "stdout",
     "output_type": "stream",
     "text": [
      "conditionals : if, elif, else\n",
      "boolean : True or False\n",
      "bigO : O(n), O(log(n))\n",
      "string : str\n",
      "integer : int\n"
     ]
    }
   ],
   "source": [
    "glossary = {\n",
    "   'conditionals': 'if, elif, else',\n",
    "    'boolean': 'True or False',\n",
    "    'bigO': 'O(n), O(log(n))',\n",
    "    'string': 'str',\n",
    "    'integer': 'int',\n",
    "    }\n",
    "for key, value in glossary.items():\n",
    "    print(key, ':', value)"
   ]
  },
  {
   "cell_type": "code",
   "execution_count": 70,
   "metadata": {},
   "outputs": [
    {
     "name": "stdout",
     "output_type": "stream",
     "text": [
      "The Gauja runs through Latvia.\n",
      "The Lena runs through Russia.\n",
      "The Amazonka runs through Brazil.\n",
      "The Nil runs through Egypt.\n",
      "The Dunaj runs through Germany.\n"
     ]
    }
   ],
   "source": [
    "rivers_in_countries = {\n",
    "    'latvia': 'gauja',\n",
    "    'russia': 'lena',\n",
    "    'brazil': 'amazonka',\n",
    "    'egypt': 'nil',\n",
    "    'germany': 'dunaj'\n",
    "    }\n",
    "for country, river in rivers_in_countries.items():\n",
    "    print(\"The \" + river.title() + \n",
    "          \" runs through \" +\n",
    "          country.title() + \".\")"
   ]
  },
  {
   "cell_type": "code",
   "execution_count": 102,
   "metadata": {},
   "outputs": [
    {
     "name": "stdout",
     "output_type": "stream",
     "text": [
      "Jen, thanks for your vote.\n",
      "\n",
      "Sarah, thanks for your vote.\n",
      "\n",
      "Edward, thanks for your vote.\n",
      "\n",
      "Phil, thanks for your vote.\n",
      "\n",
      "Erica, you can vote.\n"
     ]
    }
   ],
   "source": [
    "favorite_languages = {\n",
    "    'jen': 'python',\n",
    "    'sarah': 'c',\n",
    "    'edward': 'ruby',\n",
    "    'phil': 'python',\n",
    "    }\n",
    "new_voter = ['erica']\n",
    "\n",
    "for name in favorite_languages:\n",
    "    print(name.title() + \", thanks for your vote.\\n\")    \n",
    "else:\n",
    "    if 'erica' not in favorite_languages:\n",
    "        print(new_voter[0].title() + \", you can vote.\")\n",
    "    \n",
    "  "
   ]
  },
  {
   "cell_type": "code",
   "execution_count": 104,
   "metadata": {},
   "outputs": [
    {
     "name": "stdout",
     "output_type": "stream",
     "text": [
      "{'color': 'green', 'points': 5}\n",
      "{'color': 'yellow', 'points': 10}\n",
      "{'coloro': 'red', 'points': 15}\n"
     ]
    }
   ],
   "source": [
    "# Nesting\n",
    "alien_0 = {'color': 'green', 'points': 5} \n",
    "alien_1 = {'color': 'yellow', 'points': 10}\n",
    "alien_2 = {'coloro': 'red', 'points': 15}\n",
    "\n",
    "aliens = [alien_0, alien_1,alien_2]\n",
    "\n",
    "for alien in aliens:\n",
    "    print(alien)"
   ]
  },
  {
   "cell_type": "code",
   "execution_count": 106,
   "metadata": {},
   "outputs": [
    {
     "name": "stdout",
     "output_type": "stream",
     "text": [
      "{'color': 'green', 'points': 5}\n",
      "{'color': 'green', 'points': 5}\n",
      "{'color': 'green', 'points': 5}\n",
      "{'color': 'green', 'points': 5}\n",
      "{'color': 'green', 'points': 5}\n",
      "...\n",
      "Total number of aliens: 30\n"
     ]
    }
   ],
   "source": [
    "# Make an empty list for storing aliens\n",
    "aliens = []\n",
    "\n",
    "# Make 30 green aliens\n",
    "for alien_number in range(30):\n",
    "    new_alien = {'color': 'green', 'points': 5} \n",
    "    aliens.append(new_alien)\n",
    "\n",
    "# Show the first 5 aliens:\n",
    "for alien in aliens[:5]:\n",
    "    print(alien)\n",
    "print(\"...\")    \n",
    "\n",
    "# Show how many aliens have beem created.\n",
    "print(\"Total number of aliens: \" + str(len(aliens)))"
   ]
  },
  {
   "cell_type": "code",
   "execution_count": 67,
   "metadata": {},
   "outputs": [
    {
     "name": "stdout",
     "output_type": "stream",
     "text": [
      "{'color': 'red', 'points': 10, 'speed': 'fast', 'point': 15}\n",
      "{'color': 'red', 'points': 10, 'speed': 'fast', 'point': 15}\n",
      "{'color': 'red', 'points': 10, 'speed': 'fast', 'point': 15}\n",
      "{'color': 'green', 'points': 5, 'speed': 'slow'}\n",
      "{'color': 'green', 'points': 5, 'speed': 'slow'}\n",
      "...\n"
     ]
    }
   ],
   "source": [
    "# Make an empty list for storing aliens.\n",
    "aliens = []\n",
    "\n",
    "# Make 30 green aliens\n",
    "for alien_number in range(30):\n",
    "    new_alien = {'color': 'green', 'points': 5, 'speed': 'slow'}\n",
    "    aliens.append(new_alien)\n",
    "\n",
    "for alien in aliens[0:3]:\n",
    "    if alien['color'] == 'green':\n",
    "        alien['color'] = 'yellow'\n",
    "        alien['speed'] = 'medium'\n",
    "        alien['points'] = 10\n",
    "    if alien['color'] == 'yellow':\n",
    "        alien['color'] = 'red'\n",
    "        alien['speed'] = 'fast'\n",
    "        alien['point'] = 15\n",
    "        \n",
    "# Show the first 5 aliens:\n",
    "for alien in aliens[0:5]:\n",
    "    print(alien)\n",
    "print(\"...\")"
   ]
  },
  {
   "cell_type": "code",
   "execution_count": 68,
   "metadata": {},
   "outputs": [
    {
     "name": "stdout",
     "output_type": "stream",
     "text": [
      "You ordered a thick - crust pizza with the following toppings:\n",
      "\tmushrooms\n",
      "\textra cheese\n"
     ]
    }
   ],
   "source": [
    "# Store information about a pizza being ordered.\n",
    "pizza = {\n",
    "    'crust': 'thick',\n",
    "    'toppings': ['mushrooms', 'extra cheese'],\n",
    "    }\n",
    "# Summarize the order.\n",
    "print(\"You ordered a \" + pizza['crust'] +\" - crust pizza \" +\n",
    "     \"with the following toppings:\")\n",
    "\n",
    "for topping in pizza['toppings']:\n",
    "    print(\"\\t\" + topping)"
   ]
  },
  {
   "cell_type": "code",
   "execution_count": 155,
   "metadata": {},
   "outputs": [
    {
     "name": "stdout",
     "output_type": "stream",
     "text": [
      "\n",
      "Jen's favorite language are:\n",
      "\tPython\n",
      "\tPython\n",
      "\n",
      "Sarah's favorite language are:\n",
      "\tC\n",
      "\n",
      "Edward's favorite language are:\n",
      "\tRuby\n",
      "\tRuby\n",
      "\n",
      "Phil's favorite language are:\n",
      "\tPython\n",
      "\tPython\n"
     ]
    }
   ],
   "source": [
    "favorite_languages = {\n",
    "    'jen': ['python', 'ruby'],\n",
    "    'sarah': ['c'],\n",
    "    'edward': ['ruby', 'go'],\n",
    "    'phil': ['python', 'haskell'],\n",
    "    }\n",
    "\n",
    "for name, languages in favorite_languages.items():\n",
    "    print(\"\\n\" + name.title() + \"'s favorite language are:\")\n",
    "    for language in languages:\n",
    "        print(\"\\t\" + languages[0].title() )\n"
   ]
  },
  {
   "cell_type": "code",
   "execution_count": 156,
   "metadata": {},
   "outputs": [],
   "source": [
    "# A Dictionary in a Dictionary"
   ]
  },
  {
   "cell_type": "code",
   "execution_count": 157,
   "metadata": {},
   "outputs": [
    {
     "name": "stdout",
     "output_type": "stream",
     "text": [
      "\n",
      "Username: aeinstein\n",
      "\tFull name: Albert Einstein\n",
      "\tLocation: Princenton\n",
      "\n",
      "Username: mcurie\n",
      "\tFull name: Marie Curie\n",
      "\tLocation: Paris\n"
     ]
    }
   ],
   "source": [
    "users = {\n",
    "    'aeinstein': {\n",
    "        'first': 'albert',\n",
    "        'last': 'einstein',\n",
    "        'location': 'princenton',\n",
    "        },\n",
    "    'mcurie':{\n",
    "        'first': 'marie',\n",
    "        'last': 'curie',\n",
    "        'location': 'paris'\n",
    "        },\n",
    "    }\n",
    "\n",
    "for username, user_info in users.items():\n",
    "    print(\"\\nUsername: \" + username)\n",
    "    full_name = user_info['first'] + \" \" + user_info['last']\n",
    "    location = user_info['location']\n",
    "    \n",
    "    print(\"\\tFull name: \" + full_name.title())\n",
    "    print(\"\\tLocation: \" + location.title())"
   ]
  },
  {
   "cell_type": "code",
   "execution_count": 31,
   "metadata": {},
   "outputs": [
    {
     "name": "stdout",
     "output_type": "stream",
     "text": [
      "{'first_name': 'sergey', 'last_name': 'sergeychev', 'age': 34, 'city': 'kadaga'}\n",
      "{'first_name': 'renate', 'last_name': 'sergeycheva', 'age': 33, 'city': 'kadaga'}\n",
      "{'first_name': 'maksims', 'last_name': 'sergeychev', 'age': 3, 'city': 'kadaga'}\n"
     ]
    }
   ],
   "source": [
    "person_1 = {\n",
    "    'first_name': 'sergey', \n",
    "    'last_name': 'sergeychev',\n",
    "    'age': 34,\n",
    "    'city': 'kadaga',\n",
    "    }\n",
    "person_2 = {\n",
    "    'first_name': 'renate', \n",
    "    'last_name': 'sergeycheva',\n",
    "    'age': 33,\n",
    "    'city': 'kadaga',\n",
    "    }\n",
    "person_3 = {\n",
    "    'first_name': 'maksims',\n",
    "    'last_name': 'sergeychev',\n",
    "    'age': 3,\n",
    "    'city': 'kadaga',\n",
    "    }\n",
    "people = [person_1, person_2, person_3]\n",
    "          \n",
    "for person in people:\n",
    "    print(person)\n",
    "    \n",
    "    \n",
    "    \n",
    "\n",
    "          "
   ]
  },
  {
   "cell_type": "code",
   "execution_count": 41,
   "metadata": {},
   "outputs": [
    {
     "name": "stdout",
     "output_type": "stream",
     "text": [
      "{'kind of pet': 'dog', 'owners name': 'sergey'}\n",
      "{'kind of pet': 'parrot', 'owners name': 'alex'}\n",
      "{'kind of pet': 'dog', 'owners name': 'vladimir'}\n"
     ]
    }
   ],
   "source": [
    "anakonda = {'kind of pet': 'dog',\n",
    "            'owners name': 'sergey'}\n",
    "\n",
    "kesha = {'kind of pet': 'parrot',\n",
    "         'owners name': 'alex'}\n",
    "\n",
    "arik = {'kind of pet': 'dog',\n",
    "        'owners name': 'vladimir'}\n",
    "\n",
    "pets = [anakonda, kesha, arik]\n",
    "\n",
    "for pet in pets:\n",
    "    print(pet)\n",
    "    "
   ]
  },
  {
   "cell_type": "code",
   "execution_count": 14,
   "metadata": {},
   "outputs": [
    {
     "name": "stdout",
     "output_type": "stream",
     "text": [
      "\n",
      "Maksim's, favorite place is :\n",
      "\tOdessa\n",
      "\tKipr\n",
      "\n",
      "Sergey's, favorite place is :\n",
      "\tSwitzerland\n",
      "\tSlovenia\n",
      "\n",
      "Renate's, favorite place is :\n",
      "\tBali\n",
      "\tHolland\n"
     ]
    }
   ],
   "source": [
    "favorite_places = {\n",
    "    'maksim': ['odessa','kipr'],\n",
    "    'sergey': ['switzerland', 'slovenia'],\n",
    "    'renate': ['bali','holland']\n",
    "                   }\n",
    "for names, places in favorite_places.items():\n",
    "    print(\"\\n\" + names.title()+ \"'s\" + \", favorite place is :\")\n",
    "    for place in places:\n",
    "        print(\"\\t\" + place.title())"
   ]
  },
  {
   "cell_type": "code",
   "execution_count": null,
   "metadata": {},
   "outputs": [],
   "source": [
    "names_numbers = {\n",
    "    'lucy': [5, 7] \n",
    "    'nick': [7, 10] \n",
    "    'andrew': [8, 10]\n",
    "    'roland': [11, 12]\n",
    "    'sofia': [13, 14]\n",
    "    }"
   ]
  },
  {
   "cell_type": "code",
   "execution_count": 62,
   "metadata": {},
   "outputs": [
    {
     "name": "stdout",
     "output_type": "stream",
     "text": [
      "\n",
      "Lucy's favorite number is 5, 7\n",
      "\n",
      "Nick's favorite number is 7, 10\n",
      "\n",
      "Andrew's favorite number is 8, 10\n",
      "\n",
      "Roland's favorite number is 11, 12\n",
      "\n",
      "Sofia's favorite number is 13, 14\n"
     ]
    }
   ],
   "source": [
    "names_numbers = {\n",
    "    'lucy': [5, 7], \n",
    "    'nick': [7, 10],\n",
    "    'andrew': [8, 10],\n",
    "    'roland': [11, 12],\n",
    "    'sofia': [13, 14]\n",
    "    }\n",
    "\n",
    "for name, numbers in names_numbers.items():\n",
    "        new_numbers = str(numbers[0]) + \", \" + str(numbers[1])\n",
    "        print(\"\\n\" + name.title() + \"'s favorite number is \" + new_numbers)"
   ]
  },
  {
   "cell_type": "code",
   "execution_count": 66,
   "metadata": {},
   "outputs": [
    {
     "name": "stdout",
     "output_type": "stream",
     "text": [
      "\n",
      "Cities name: Riga\n",
      "It's capital city of Latvia with population two million people and it was built in 1201\n",
      "\n",
      "Cities name: Vilnius\n",
      "It's capital city of Lithuania with population 3 million people and it was built in 1323\n",
      "\n",
      "Cities name: Tallinn\n",
      "It's capital city of Estonia with population one and a half million people and it  was built in 1219\n"
     ]
    }
   ],
   "source": [
    "cities = {\n",
    "    'riga': {\n",
    "        'country': 'latvia',\n",
    "        'population': 'two million people',\n",
    "        'fact': 'was built in 1201'\n",
    "        },\n",
    "    'vilnius': {\n",
    "        'country': 'lithuania',\n",
    "        'population': '3 million people',\n",
    "        'fact': 'was built in 1323'\n",
    "        },\n",
    "    'tallinn': {\n",
    "        'country': 'estonia',\n",
    "        'population': 'one and a half million people',\n",
    "        'fact': ' was built in 1219'\n",
    "        }\n",
    "    }\n",
    "\n",
    "for city, cities_info in cities.items():\n",
    "    print(\"\\nCities name: \" + city.title())\n",
    "    country = cities_info['country']\n",
    "    population = cities_info['population']\n",
    "    fact = cities_info['fact']\n",
    "    \n",
    "    print(\"It's capital city of \" + \n",
    "          country.title() + \" with population \" +\n",
    "          population + \" and it \" + fact)\n",
    "        \n",
    "    "
   ]
  },
  {
   "cell_type": "code",
   "execution_count": 4,
   "metadata": {},
   "outputs": [
    {
     "name": "stdout",
     "output_type": "stream",
     "text": [
      "The alien is green.\n",
      "The alien is now yellow.\n",
      "{'color': 'yellow', 'points': 6}\n"
     ]
    }
   ],
   "source": [
    "# Modifying Values in a Dictionary\n",
    "\n",
    "alien_0 = {'color': 'green'}\n",
    "print(\"The alien is \" + alien_0['color'] + \".\")\n",
    "alien_0['points'] = 6\n",
    "alien_0['speed'] = 'fast'\n",
    "del alien_0['speed']\n",
    "alien_0['color'] = 'yellow' # We change the value associated with key 'color'\n",
    "print(\"The alien is now \" + alien_0['color'] + \".\")\n",
    "print(alien_0)"
   ]
  },
  {
   "cell_type": "code",
   "execution_count": 1,
   "metadata": {},
   "outputs": [
    {
     "name": "stdout",
     "output_type": "stream",
     "text": [
      "eric\n",
      "matthes\n",
      "43\n",
      "sitka\n"
     ]
    }
   ],
   "source": [
    "person = {\n",
    "    'first_name': 'eric',\n",
    "    'last_name': 'matthes',\n",
    "    'age': 43,\n",
    "    'city': 'sitka',\n",
    "    }\n",
    "\n",
    "print(person['first_name'])\n",
    "print(person['last_name'])\n",
    "print(person['age'])\n",
    "print(person['city'])"
   ]
  },
  {
   "cell_type": "code",
   "execution_count": null,
   "metadata": {},
   "outputs": [],
   "source": []
  }
 ],
 "metadata": {
  "kernelspec": {
   "display_name": "Python 3",
   "language": "python",
   "name": "python3"
  },
  "language_info": {
   "codemirror_mode": {
    "name": "ipython",
    "version": 3
   },
   "file_extension": ".py",
   "mimetype": "text/x-python",
   "name": "python",
   "nbconvert_exporter": "python",
   "pygments_lexer": "ipython3",
   "version": "3.8.5"
  }
 },
 "nbformat": 4,
 "nbformat_minor": 4
}
