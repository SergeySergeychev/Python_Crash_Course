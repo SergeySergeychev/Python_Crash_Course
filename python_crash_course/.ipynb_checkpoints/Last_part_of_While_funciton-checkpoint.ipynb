{
 "cells": [
  {
   "cell_type": "code",
   "execution_count": null,
   "metadata": {},
   "outputs": [],
   "source": [
    "# Using a while Loop with Lists and Dictionaries.\n",
    "# Moving items form one List to Another."
   ]
  },
  {
   "cell_type": "code",
   "execution_count": null,
   "metadata": {},
   "outputs": [],
   "source": [
    "# Start with users that need to be verified,\n",
    "# and an empty list to hold confirmed users.\n",
    "\n",
    "unconfirmed_users = ['alice', 'brian', 'candace']\n",
    "confirmed_users = []\n",
    "\n",
    "# Verify each user until there are no more uncofirmed users.\n",
    "# Move each verified user into the list of confirmed users.\n",
    "while unconfirmed_users:\n",
    "    current_user = unconfirmed_users.pop()\n",
    "    \n",
    "    print(\"Verifying user: \" + current_user.title())\n",
    "    confirmed_users.append(current_user)\n",
    "    \n",
    "# Display all confirmed users.\n",
    "print(\"\\nThe following users have been confirmed:\")\n",
    "for confirmed_user in confirmed_users:\n",
    "    print(confirmed_user.title())"
   ]
  },
  {
   "cell_type": "code",
   "execution_count": null,
   "metadata": {},
   "outputs": [],
   "source": [
    "pets = ['dog', 'cat', 'dog', 'goldfish', 'cat', 'rabbit', 'cat']\n",
    "print(pets)\n",
    "\n",
    "while 'cat' in pets:\n",
    "    pets.remove('cat')\n",
    "\n",
    "print(pets)"
   ]
  },
  {
   "cell_type": "code",
   "execution_count": null,
   "metadata": {},
   "outputs": [],
   "source": [
    "# Filling a Dictionary with User Input\n",
    "\n",
    "responses = {}\n",
    "\n",
    "# Set a flag to indicate that polling is active.\n",
    "polling_active = True\n",
    "\n",
    "while polling_active:\n",
    "    # Prompt fot he person's name and response.\n",
    "    name = input(\"\\nWhat is you name? \")\n",
    "    response = input(\"Which mountain would you like to climb someday? \")\n",
    "    \n",
    "    # Store response in the dictionary:\n",
    "    responses[name] = response\n",
    "    print(responses)\n",
    "    \n",
    "    #Find out if anyone else is going to take a poll.\n",
    "    repeat = input(\"Would you liketo let another person respond? (yes/ no) \")\n",
    "    if repeat == 'no':\n",
    "        polling_active = False\n",
    "        \n",
    "# Polling is complete. Show the results.\n",
    "print(\"\\n ---Poll Results ---\")\n",
    "for name, response in responses.items():\n",
    "    print(name.title() + \" would like to climb \" + response.title() + \".\")\n"
   ]
  },
  {
   "cell_type": "code",
   "execution_count": null,
   "metadata": {
    "scrolled": true
   },
   "outputs": [],
   "source": [
    "sandwich_orders = ['cheese sandwich', 'pastrami', 'organic sandwich', 'pastrami', 'meet sandwich','pastrami']\n",
    "finished_sandwiches = []\n",
    "\n",
    "while sandwich_orders:\n",
    "    making_sandwich = sandwich_orders.pop()\n",
    "    \n",
    "    print(\"I'm making \" + making_sandwich + \".\")\n",
    "    finished_sandwiches.append(making_sandwich)\n",
    "    \n",
    "for finished_sandwiche in finished_sandwiches:\n",
    "    print(finished_sandwiche.title() + \" was made.\")"
   ]
  },
  {
   "cell_type": "code",
   "execution_count": null,
   "metadata": {},
   "outputs": [],
   "source": [
    "sandwich_orders = ['cheese sandwich', 'pastrami', 'organic sandwich', 'pastrami', 'meet sandwich','pastrami']\n",
    "finished_sandwiches = []\n",
    "print(\"The deli has run out of pastrami.\\n\")\n",
    "\n",
    "while 'pastrami' in sandwich_orders:\n",
    "    sandwich_orders.remove('pastrami')\n",
    "    print(sandwich_orders)\n",
    "    \n",
    "for finished_sandwich in sandwich_orders:\n",
    "    finished_sandwiches.append(finished_sandwich)\n",
    "        \n",
    "print(finished_sandwiches)\n",
    "\n",
    "    \n",
    "\n"
   ]
  },
  {
   "cell_type": "code",
   "execution_count": null,
   "metadata": {},
   "outputs": [],
   "source": [
    "# Filling a Dictionary with User Input\n",
    "\n",
    "responses = {}\n",
    "\n",
    "# Set a flag to indicate that polling is active.\n",
    "polling_active = True\n",
    "\n",
    "while polling_active:\n",
    "    # Prompt fot he person's name and response.\n",
    "    name = input(\"\\nWhat is you name? \")\n",
    "    response = input(\"Which mountain would you like to climb someday? \")\n",
    "    \n",
    "    # Store response in the dictionary:\n",
    "    responses[name] = response\n",
    "    print(responses)\n",
    "    \n",
    "    #Find out if anyone else is going to take a poll.\n",
    "    repeat = input(\"Would you like to let another person respond? (yes/ no) \")\n",
    "    if repeat == 'no':\n",
    "        polling_active = False\n",
    "        \n",
    "# Polling is complete. Show the results.\n",
    "print(\"\\n ---Poll Results---\")\n",
    "for name, response in responses.items():\n",
    "    print(name.title() + \" would like to climb \" + response.title() + \".\")\n",
    "\n",
    "    "
   ]
  },
  {
   "cell_type": "code",
   "execution_count": null,
   "metadata": {},
   "outputs": [],
   "source": []
  },
  {
   "cell_type": "code",
   "execution_count": 1,
   "metadata": {},
   "outputs": [
    {
     "name": "stdout",
     "output_type": "stream",
     "text": [
      "\n",
      "What is your name? sergey\n",
      "If you could visit one place in the world, where would you go? new-york\n",
      "{'sergey': 'new-york'}\n",
      "Would you like to let another person respond? (yes/no)no\n",
      "\n",
      " ---Poll Results---\n",
      "Sergey would like to visit New-York.\n"
     ]
    }
   ],
   "source": [
    "responses = {}\n",
    "\n",
    "polling_active = True\n",
    "\n",
    "while polling_active:\n",
    "    name  = input(\"\\nWhat is your name? \")\n",
    "    response = input(\"If you could visit one place in the world, where would you go? \")\n",
    "    \n",
    "    responses[name] =response\n",
    "    print(responses)\n",
    "    \n",
    "    repeat = input(\"Would you like to let another person respond? (yes/no)\")\n",
    "    if repeat == 'no':\n",
    "        polling_active = False\n",
    "        \n",
    "print(\"\\n ---Poll Results---\")        \n",
    "for name, response in responses.items():\n",
    "    print(name.title() + \" would like to visit \" + response.title() + \".\")"
   ]
  },
  {
   "cell_type": "code",
   "execution_count": null,
   "metadata": {},
   "outputs": [],
   "source": []
  }
 ],
 "metadata": {
  "kernelspec": {
   "display_name": "Python 3",
   "language": "python",
   "name": "python3"
  },
  "language_info": {
   "codemirror_mode": {
    "name": "ipython",
    "version": 3
   },
   "file_extension": ".py",
   "mimetype": "text/x-python",
   "name": "python",
   "nbconvert_exporter": "python",
   "pygments_lexer": "ipython3",
   "version": "3.8.5"
  }
 },
 "nbformat": 4,
 "nbformat_minor": 4
}
