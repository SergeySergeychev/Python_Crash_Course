{
 "cells": [
  {
   "cell_type": "code",
   "execution_count": 1,
   "metadata": {},
   "outputs": [
    {
     "name": "stdout",
     "output_type": "stream",
     "text": [
      "['trek', 'cannondale', 'redline', 'specialized']\n"
     ]
    }
   ],
   "source": [
    "# LIST - is a collection of items in a particular order.\n",
    "# In Python square brackets []\" idicate a list , and individual elements are separated by commas.\n",
    "\n",
    "bicycles = ['trek', 'cannondale', 'redline', 'specialized']\n",
    "\n",
    "print(bicycles) # Python will print output of the list with square brackets.\n"
   ]
  },
  {
   "cell_type": "code",
   "execution_count": 3,
   "metadata": {},
   "outputs": [
    {
     "name": "stdout",
     "output_type": "stream",
     "text": [
      "trek\n"
     ]
    }
   ],
   "source": [
    "# Accesing Elements in a List\n",
    "\n",
    "# To access an element in a list write the name of the list followed by the index of the item enclosed in square brackets.\n",
    "\n",
    "\n",
    "bicycles = ['trek', 'cannondale', 'redline', 'specialized']\n",
    "print(bicycles[0])# we are asking Python to print index Nr. 0 (we are couinting elements from 0 to -1)."
   ]
  },
  {
   "cell_type": "code",
   "execution_count": 5,
   "metadata": {},
   "outputs": [
    {
     "name": "stdout",
     "output_type": "stream",
     "text": [
      "Trek\n"
     ]
    }
   ],
   "source": [
    "print(bicycles[0].title()) # we are using method .title to uppercase first letter of the word."
   ]
  },
  {
   "cell_type": "code",
   "execution_count": 6,
   "metadata": {},
   "outputs": [
    {
     "name": "stdout",
     "output_type": "stream",
     "text": [
      "specialized\n"
     ]
    }
   ],
   "source": [
    "print(bicycles[3]) # to access the fourth item in a list we request at index 3."
   ]
  },
  {
   "cell_type": "code",
   "execution_count": 7,
   "metadata": {},
   "outputs": [
    {
     "name": "stdout",
     "output_type": "stream",
     "text": [
      "specialized\n"
     ]
    }
   ],
   "source": [
    "print(bicycles[-1]) # we are asking access to last word with an index -1."
   ]
  },
  {
   "cell_type": "code",
   "execution_count": 8,
   "metadata": {},
   "outputs": [
    {
     "name": "stdout",
     "output_type": "stream",
     "text": [
      "redline\n"
     ]
    }
   ],
   "source": [
    "print(bicycles[-2]) # the code will return second value from the end of the list."
   ]
  },
  {
   "cell_type": "code",
   "execution_count": 16,
   "metadata": {},
   "outputs": [
    {
     "name": "stdout",
     "output_type": "stream",
     "text": [
      "My first bicycle was a Trek.\n"
     ]
    }
   ],
   "source": [
    "message = \"My first bicycle was a \" + bicycles[0].title() + \".\" # composing elements with the list element \n",
    "print(message)"
   ]
  },
  {
   "cell_type": "code",
   "execution_count": 10,
   "metadata": {},
   "outputs": [
    {
     "name": "stdout",
     "output_type": "stream",
     "text": [
      "['trek', 'cannondale', 'redline', 'specialized']\n"
     ]
    }
   ],
   "source": [
    "print(bicycles)"
   ]
  },
  {
   "cell_type": "code",
   "execution_count": 19,
   "metadata": {},
   "outputs": [
    {
     "name": "stdout",
     "output_type": "stream",
     "text": [
      "Aleksander\n",
      "Natasha\n",
      "Natasha\n",
      "Aleksander\n"
     ]
    }
   ],
   "source": [
    "name = ['Aleksander', 'Natasha']\n",
    "print(name[0])\n",
    "print(name[1])\n",
    "print(name[-1])\n",
    "print(name[-2])"
   ]
  },
  {
   "cell_type": "code",
   "execution_count": 21,
   "metadata": {},
   "outputs": [
    {
     "name": "stdout",
     "output_type": "stream",
     "text": [
      "Hello to you Aleksander\n",
      "Hello to you Natasha\n"
     ]
    }
   ],
   "source": [
    "message_to_Aleksander = \"Hello to you \" + name[0]\n",
    "message_to_Natasha = \"Hello to you \" + name[1]\n",
    "print(message_to_Aleksander)\n",
    "print(message_to_Natasha)"
   ]
  },
  {
   "cell_type": "code",
   "execution_count": 26,
   "metadata": {},
   "outputs": [
    {
     "name": "stdout",
     "output_type": "stream",
     "text": [
      "If it's bad weather i would chouse car to go to job.\n"
     ]
    }
   ],
   "source": [
    "mode_of_transportation = ['bicycle', 'car', 'plane', 'boat']\n",
    "statement = \"If it's bad weather i would chouse \" + mode_of_transportation[1] +\" \"+ \"to go to job\" + \".\" \n",
    "print(statement)"
   ]
  },
  {
   "cell_type": "code",
   "execution_count": null,
   "metadata": {},
   "outputs": [],
   "source": [
    "# Changing, Adding , and Removing Elements\n",
    "\n",
    "# For modifying an elemt in list , use the same name of list followed by the index of the element you want to change\n",
    "# and provide the new value you want that item to have."
   ]
  },
  {
   "cell_type": "code",
   "execution_count": 28,
   "metadata": {},
   "outputs": [
    {
     "name": "stdout",
     "output_type": "stream",
     "text": [
      "['honda', 'yamaxa', 'suzuki']\n",
      "['ducati', 'yamaxa', 'suzuki']\n"
     ]
    }
   ],
   "source": [
    "motorcycles = ['honda','yamaxa', 'suzuki']\n",
    "print(motorcycles)\n",
    "\n",
    "motorcycles[0] = 'ducati'# we are changing element in the list by index 0\n",
    "print(motorcycles)"
   ]
  },
  {
   "cell_type": "code",
   "execution_count": 30,
   "metadata": {},
   "outputs": [
    {
     "name": "stdout",
     "output_type": "stream",
     "text": [
      "['ducati', 'yamaxa', 'suzuki', 'ducati']\n"
     ]
    }
   ],
   "source": [
    "#Adding Element to a List.\n",
    "\n",
    "#Appending Element to the End of a List.\n",
    "\n",
    "motorcycles.append('ducati') # we are adding new element to the end of the list by method .append.\n",
    "print(motorcycles)"
   ]
  },
  {
   "cell_type": "code",
   "execution_count": 31,
   "metadata": {},
   "outputs": [
    {
     "name": "stdout",
     "output_type": "stream",
     "text": [
      "['honda', 'yamaha', 'suzuki']\n"
     ]
    }
   ],
   "source": [
    "motorcycles = []\n",
    "\n",
    "motorcycles.append('honda')\n",
    "motorcycles.append('yamaha')\n",
    "motorcycles.append('suzuki')\n",
    "\n",
    "print(motorcycles)"
   ]
  },
  {
   "cell_type": "code",
   "execution_count": 41,
   "metadata": {},
   "outputs": [
    {
     "name": "stdout",
     "output_type": "stream",
     "text": [
      "['honda', 'yawa', 'yamaxa', 'suzuki']\n"
     ]
    }
   ],
   "source": [
    "# Inserting Elements into a List.\n",
    "\n",
    "# We can add a new element at any position in our list by using the insert() method.\n",
    "\n",
    "motorcycles = ['honda','yamaxa', 'suzuki']\n",
    "motorcycles.insert(1, 'yawa') # the insert method opens a space  at position 1 and stores the value. Previous element moves.\n",
    "print(motorcycles)"
   ]
  },
  {
   "cell_type": "code",
   "execution_count": 42,
   "metadata": {},
   "outputs": [
    {
     "name": "stdout",
     "output_type": "stream",
     "text": [
      "['yawa', 'yamaxa', 'suzuki']\n"
     ]
    }
   ],
   "source": [
    "# Removing Elements from a List.\n",
    "\n",
    "# Removig an Item Using del Statement.\n",
    "\n",
    "del motorcycles[0] # removing the first element of the code by del statement.\n",
    "print(motorcycles)"
   ]
  },
  {
   "cell_type": "code",
   "execution_count": 43,
   "metadata": {},
   "outputs": [
    {
     "name": "stdout",
     "output_type": "stream",
     "text": [
      "['yawa', 'suzuki']\n"
     ]
    }
   ],
   "source": [
    "del motorcycles[1] # we can remove item from any position of the list if we know it's index.\n",
    "print(motorcycles)"
   ]
  },
  {
   "cell_type": "code",
   "execution_count": 44,
   "metadata": {},
   "outputs": [],
   "source": [
    "# BOTH EXAMPLES shows that we can no longer access the value that was removed from the list after del statement is used."
   ]
  },
  {
   "cell_type": "code",
   "execution_count": 45,
   "metadata": {},
   "outputs": [],
   "source": [
    "# Removing an Item Using the pop() Method.\n",
    "\n",
    "# Sometimes you'll want to use the value of an item after you remove it from a list.\n",
    "# The pop() method removes the last item in a list, but it lets you work with that item after removing it."
   ]
  },
  {
   "cell_type": "code",
   "execution_count": 47,
   "metadata": {},
   "outputs": [
    {
     "name": "stdout",
     "output_type": "stream",
     "text": [
      "['honda', 'yamaxa', 'suzuki']\n"
     ]
    }
   ],
   "source": [
    "motorcycles = ['honda','yamaxa', 'suzuki']\n",
    "print(motorcycles)"
   ]
  },
  {
   "cell_type": "code",
   "execution_count": 53,
   "metadata": {},
   "outputs": [
    {
     "name": "stdout",
     "output_type": "stream",
     "text": [
      "['honda', 'yamaxa']\n",
      "suzuki\n"
     ]
    }
   ],
   "source": [
    "motorcycles = ['honda','yamaxa', 'suzuki']\n",
    "popped_motorcycle = motorcycles.pop()\n",
    "print(motorcycles)\n",
    "print(popped_motorcycle)\n"
   ]
  },
  {
   "cell_type": "code",
   "execution_count": 54,
   "metadata": {},
   "outputs": [
    {
     "name": "stdout",
     "output_type": "stream",
     "text": [
      "The last motorcycle i owned was a Suzuki.\n"
     ]
    }
   ],
   "source": [
    "motorcycles = ['honda','yamaxa', 'suzuki']\n",
    "last_owned = motorcycles.pop() # We can use  method .pop() as chronological timer to see what was the last motorcycle .\n",
    "print(\"The last motorcycle i owned was a \" + last_owned.title() + \".\")"
   ]
  },
  {
   "cell_type": "code",
   "execution_count": 55,
   "metadata": {},
   "outputs": [
    {
     "name": "stdout",
     "output_type": "stream",
     "text": [
      "The first motorcycle i owned was a Honda.\n"
     ]
    }
   ],
   "source": [
    "# Poping items from any Position in a List.\n",
    "\n",
    "# We can use .pop() to remove an item from any position of the list , by including its index.\n",
    "\n",
    "first_owned = motorcycles.pop(0) # when we .pop() an element it releaseas from quotes.\n",
    "print('The first motorcycle i owned was a ' + first_owned.title() + '.') "
   ]
  },
  {
   "cell_type": "code",
   "execution_count": 56,
   "metadata": {},
   "outputs": [],
   "source": [
    "# REMEMBER each time we use pop(), the item we work with is no longer stored  in the list."
   ]
  },
  {
   "cell_type": "code",
   "execution_count": 57,
   "metadata": {},
   "outputs": [],
   "source": [
    "# Removing an Item by Value"
   ]
  },
  {
   "cell_type": "code",
   "execution_count": 59,
   "metadata": {},
   "outputs": [
    {
     "name": "stdout",
     "output_type": "stream",
     "text": [
      "['honda', 'yamaxa', 'suzuki']\n",
      "['yamaxa', 'suzuki']\n"
     ]
    }
   ],
   "source": [
    "# If we want to remove an item , but we know only its value. We can do it by .remove('value') method.\n",
    "\n",
    "motorcycles = ['honda','yamaxa', 'suzuki']\n",
    "print(motorcycles)\n",
    "\n",
    "motorcycles.remove('honda')\n",
    "print(motorcycles)"
   ]
  },
  {
   "cell_type": "code",
   "execution_count": 1,
   "metadata": {},
   "outputs": [
    {
     "name": "stdout",
     "output_type": "stream",
     "text": [
      "['honda', 'yamaxa']\n",
      "\n",
      "A Suzuki is too expenesive for me.\n"
     ]
    }
   ],
   "source": [
    "motorcycles = ['honda','yamaxa', 'suzuki']\n",
    "too_expensive = 'suzuki'\n",
    "motorcycles.remove(too_expensive)\n",
    "print(motorcycles)\n",
    "print(\"\\nA \" + too_expensive.title() + \" is too expenesive for me.\")\n"
   ]
  },
  {
   "cell_type": "code",
   "execution_count": 4,
   "metadata": {},
   "outputs": [
    {
     "name": "stdout",
     "output_type": "stream",
     "text": [
      "Vladimir i'm inviting you to dinner with me.\n"
     ]
    }
   ],
   "source": [
    "friends_list = ['Max', 'Renate', 'Vladimir']\n",
    "print( friends_list[2] + \" i'm inviting you to dinner with me.\")"
   ]
  },
  {
   "cell_type": "code",
   "execution_count": 5,
   "metadata": {},
   "outputs": [
    {
     "name": "stdout",
     "output_type": "stream",
     "text": [
      "Vladimir can't go with us.\n"
     ]
    }
   ],
   "source": [
    "friends_list = ['Max', 'Renate', 'Vladimir']\n",
    "print(friends_list[2] + \" can't go with us.\")"
   ]
  },
  {
   "cell_type": "code",
   "execution_count": 7,
   "metadata": {},
   "outputs": [
    {
     "name": "stdout",
     "output_type": "stream",
     "text": [
      "['Max', 'Renate', 'Arnis']\n"
     ]
    }
   ],
   "source": [
    "friends_list[2] = 'Arnis'\n",
    "print(friends_list)"
   ]
  },
  {
   "cell_type": "code",
   "execution_count": 12,
   "metadata": {},
   "outputs": [
    {
     "name": "stdout",
     "output_type": "stream",
     "text": [
      "Max, Renate, Arnis,  I would like to invite you for the dinner.\n"
     ]
    }
   ],
   "source": [
    "print(friends_list[0] + \", \" + friends_list[1] + \", \" + friends_list[2] + \", \" + \" I would like to invite you for the dinner.\")"
   ]
  },
  {
   "cell_type": "code",
   "execution_count": 19,
   "metadata": {},
   "outputs": [
    {
     "name": "stdout",
     "output_type": "stream",
     "text": [
      "['Oskar', 'Max', 'Renate', 'Janis', 'Vladimir', 'Gunars'] \n",
      "\n",
      "\n",
      " Oskar, Max, Renate, Janis, Vladimir, Gunars\n"
     ]
    }
   ],
   "source": [
    "friends_list = ['Max', 'Renate', 'Vladimir']\n",
    "# str(test_list)[1:-1]\n",
    "friends_list.insert(0,'Oskar')\n",
    "friends_list.insert(3,'Janis')\n",
    "friends_list.insert(5,'Gunars')\n",
    "\n",
    "print(friends_list,'\\n')\n",
    "\n",
    "friends = str(friends_list)[1:-1]\n",
    "friends_mod = friends.replace(\"'\",\"\")\n",
    "print('\\n',friends_mod)"
   ]
  },
  {
   "cell_type": "code",
   "execution_count": 9,
   "metadata": {},
   "outputs": [
    {
     "name": "stdout",
     "output_type": "stream",
     "text": [
      "Oskar I invite you for the dinner.\n",
      "\n"
     ]
    }
   ],
   "source": [
    "print(friends_list[0] + \" I invite you for the dinner.\" )"
   ]
  },
  {
   "cell_type": "code",
   "execution_count": 73,
   "metadata": {},
   "outputs": [
    {
     "name": "stdout",
     "output_type": "stream",
     "text": [
      "['Oskar', 'Max', 'Renate', 'Janis', 'Vladimir', 'Gunars'] \n",
      "\n",
      "Hello Oskar, Max, Renate, Janis, Vladimir, Gunars my apologize, but i can invite only two persons. \n",
      "\n",
      "Sorry , but i can't invite you Oskar\n",
      "Sorry , but i can't invite you Max\n",
      "Sorry , but i can't invite you Renate\n",
      "Sorry , but i can't invite you Janis\n",
      "Vladimir, Gunars I cant still invite you.\n",
      "[]\n"
     ]
    }
   ],
   "source": [
    "friends_list = ['Max', 'Renate', 'Vladimir']\n",
    "# str(test_list)[1:-1]\n",
    "friends_list.insert(0,'Oskar')\n",
    "friends_list.insert(3,'Janis')\n",
    "friends_list.insert(5,'Gunars')\n",
    "\n",
    "print(friends_list,'\\n')\n",
    "\n",
    "message =\"Hello \" + friends_mod + \" \" + \"my apologize, but i can invite only two persons.\"\n",
    "\n",
    "print(message,'\\n')\n",
    "\n",
    "print(\"Sorry , but i can't invite you \" + friends_list.pop(0))\n",
    "print(\"Sorry , but i can't invite you \" + friends_list.pop(0))\n",
    "print(\"Sorry , but i can't invite you \" + friends_list.pop(0))\n",
    "print(\"Sorry , but i can't invite you \" + friends_list.pop(0))\n",
    "\n",
    "print(friends_list[0] + \", \" + friends_list[1] + \" \" + \"I cant still invite you.\")\n",
    "\n",
    "del friends_list[0:2]\n",
    "\n",
    "print(friends_list)\n"
   ]
  },
  {
   "cell_type": "code",
   "execution_count": 75,
   "metadata": {},
   "outputs": [
    {
     "name": "stdout",
     "output_type": "stream",
     "text": [
      "\n",
      " ['audi', 'bmw', 'subaru', 'toyota']\n"
     ]
    }
   ],
   "source": [
    "# Sortig a List Permanently with the sort() Method.\n",
    "\n",
    "cars = ['bmw', 'audi', 'toyota', 'subaru']\n",
    "cars.sort() # The list now in alphabetical order, and we can never  revert to the original order.\n",
    "print('\\n',cars)"
   ]
  },
  {
   "cell_type": "code",
   "execution_count": 76,
   "metadata": {},
   "outputs": [
    {
     "name": "stdout",
     "output_type": "stream",
     "text": [
      "\n",
      " ['toyota', 'subaru', 'bmw', 'audi']\n"
     ]
    }
   ],
   "source": [
    "cars = ['bmw', 'audi', 'toyota', 'subaru']\n",
    "cars.sort(reverse = True) # Sorting the list in reverse alphabetical order.\n",
    "print('\\n', cars)"
   ]
  },
  {
   "cell_type": "code",
   "execution_count": 77,
   "metadata": {},
   "outputs": [],
   "source": [
    "# Sorting a List Temporarily with the sorted() Function\n",
    "# To maintain the original order of a list but presentit in a sorted order."
   ]
  },
  {
   "cell_type": "code",
   "execution_count": 78,
   "metadata": {},
   "outputs": [
    {
     "name": "stdout",
     "output_type": "stream",
     "text": [
      "Here is the orginal list:\n",
      "['bmw', 'audi', 'toyota', 'subaru']\n",
      "\n",
      "Here is sorted list\n",
      "['audi', 'bmw', 'subaru', 'toyota']\n",
      "\n",
      "Here is the orginal list:\n",
      "['bmw', 'audi', 'toyota', 'subaru']\n"
     ]
    }
   ],
   "source": [
    "cars = ['bmw', 'audi', 'toyota', 'subaru']\n",
    "\n",
    "print(\"Here is the orginal list:\")\n",
    "print(cars)\n",
    "\n",
    "print(\"\\nHere is sorted list\") # function sorted list in an alphabetical order.\n",
    "print(sorted(cars))\n",
    "\n",
    "print(\"\\nHere is the orginal list:\") # function sorted() stored the primary list in it's order\n",
    "print(cars)"
   ]
  },
  {
   "cell_type": "code",
   "execution_count": 79,
   "metadata": {},
   "outputs": [
    {
     "name": "stdout",
     "output_type": "stream",
     "text": [
      "['bmw', 'audi', 'toyota', 'subaru']\n",
      "['subaru', 'toyota', 'audi', 'bmw']\n",
      "['bmw', 'audi', 'toyota', 'subaru']\n"
     ]
    }
   ],
   "source": [
    "# Printing a List in Reverse Order.\n",
    "\n",
    "cars = ['bmw', 'audi', 'toyota', 'subaru']\n",
    "print(cars)\n",
    "\n",
    "cars.reverse() # The reverse() method changes the order permamently in alphabetical squence.\n",
    "print(cars)\n",
    "\n",
    "cars.reverse() # In any time we can call reverse() method again to get primary list.\n",
    "print(cars)"
   ]
  },
  {
   "cell_type": "code",
   "execution_count": 81,
   "metadata": {},
   "outputs": [
    {
     "data": {
      "text/plain": [
       "4"
      ]
     },
     "execution_count": 81,
     "metadata": {},
     "output_type": "execute_result"
    }
   ],
   "source": [
    "# Finding the Lenght of a List\n",
    "\n",
    "cars = ['bmw', 'audi', 'toyota', 'subaru']\n",
    "len(cars) # we can quickly find the lenght of the list by using len() function\n",
    "# Python count lenght of the list starting with one."
   ]
  },
  {
   "cell_type": "code",
   "execution_count": 106,
   "metadata": {},
   "outputs": [
    {
     "name": "stdout",
     "output_type": "stream",
     "text": [
      "['South Africa', 'Australie', 'New Zeland', 'New York', 'Canada'] \n",
      "\n",
      "['South Africa', 'New Zeland', 'New York', 'Canada', 'Australie'] \n",
      "\n",
      "['South Africa', 'Australie', 'New Zeland', 'New York', 'Canada'] \n",
      "\n",
      "['Canada', 'New York', 'New Zeland', 'Australie', 'South Africa'] \n",
      "\n",
      "['South Africa', 'Australie', 'New Zeland', 'New York', 'Canada'] \n",
      "\n",
      "['Australie', 'Canada', 'New York', 'New Zeland', 'South Africa'] \n",
      "\n",
      "['South Africa', 'New Zeland', 'New York', 'Canada', 'Australie']\n"
     ]
    },
    {
     "data": {
      "text/plain": [
       "5"
      ]
     },
     "execution_count": 106,
     "metadata": {},
     "output_type": "execute_result"
    }
   ],
   "source": [
    "place_to_visit = ['South Africa', 'Australie', 'New Zeland', 'New York', 'Canada']\n",
    "print(place_to_visit, '\\n')\n",
    "\n",
    "\n",
    "print(sorted(place_to_visit, reverse = True), '\\n')\n",
    "print(place_to_visit,'\\n')\n",
    "\n",
    "place_to_visit.reverse()\n",
    "print(place_to_visit,'\\n')\n",
    "\n",
    "place_to_visit.reverse()\n",
    "print(place_to_visit,'\\n')\n",
    "\n",
    "place_to_visit.sort()\n",
    "print(place_to_visit,'\\n')\n",
    "\n",
    "place_to_visit.sort(reverse = True)\n",
    "print(place_to_visit)\n",
    "\n",
    "place_to_visit = ['South Africa', 'Australie', 'New Zeland', 'New York', 'Canada']\n",
    "len(place_to_visit)"
   ]
  },
  {
   "cell_type": "code",
   "execution_count": 111,
   "metadata": {},
   "outputs": [
    {
     "name": "stdout",
     "output_type": "stream",
     "text": [
      "gauja\n"
     ]
    }
   ],
   "source": [
    "rivers = ['Daugava', 'gauja', 'Salaca', 'Vejupe', 'Nil']\n",
    "print(rivers[1])"
   ]
  },
  {
   "cell_type": "code",
   "execution_count": 112,
   "metadata": {},
   "outputs": [
    {
     "name": "stdout",
     "output_type": "stream",
     "text": [
      "Gauja\n"
     ]
    }
   ],
   "source": [
    "print(rivers[1].title())"
   ]
  },
  {
   "cell_type": "code",
   "execution_count": 114,
   "metadata": {
    "scrolled": true
   },
   "outputs": [
    {
     "name": "stdout",
     "output_type": "stream",
     "text": [
      "gauja\n",
      "Nil\n",
      "Daugava\n"
     ]
    }
   ],
   "source": [
    "print(rivers[1])\n",
    "print(rivers[-1])\n",
    "print(rivers[0])"
   ]
  },
  {
   "cell_type": "code",
   "execution_count": 116,
   "metadata": {},
   "outputs": [
    {
     "name": "stdout",
     "output_type": "stream",
     "text": [
      "The longest river in Latvia is Gauja\n"
     ]
    }
   ],
   "source": [
    "message = \"The longest river in Latvia is \" + rivers[1].title() \n",
    "print(message)"
   ]
  },
  {
   "cell_type": "code",
   "execution_count": 118,
   "metadata": {},
   "outputs": [
    {
     "name": "stdout",
     "output_type": "stream",
     "text": [
      "['Volga', 'gauja', 'Salaca', 'Vejupe', 'Nil']\n"
     ]
    }
   ],
   "source": [
    "rivers = ['Daugava', 'gauja', 'Salaca', 'Vejupe', 'Nil']\n",
    "rivers[0] = 'Volga'\n",
    "\n",
    "print(rivers)"
   ]
  },
  {
   "cell_type": "code",
   "execution_count": 120,
   "metadata": {},
   "outputs": [
    {
     "name": "stdout",
     "output_type": "stream",
     "text": [
      "['Daugava', 'gauja', 'Salaca', 'Vejupe', 'Nil', 'Volga']\n"
     ]
    }
   ],
   "source": [
    "rivers = ['Daugava', 'gauja', 'Salaca', 'Vejupe', 'Nil']\n",
    "rivers.append('Volga')\n",
    "\n",
    "print(rivers)"
   ]
  },
  {
   "cell_type": "code",
   "execution_count": 122,
   "metadata": {},
   "outputs": [
    {
     "data": {
      "text/plain": [
       "['Daugava', 'gauja', 'Salaca']"
      ]
     },
     "execution_count": 122,
     "metadata": {},
     "output_type": "execute_result"
    }
   ],
   "source": [
    "rivers = []\n",
    "rivers.append('Daugava')\n",
    "rivers.append('gauja')\n",
    "rivers.append('Salaca')\n",
    "rivers"
   ]
  },
  {
   "cell_type": "code",
   "execution_count": 124,
   "metadata": {},
   "outputs": [
    {
     "name": "stdout",
     "output_type": "stream",
     "text": [
      "['Janisej', 'Daugava', 'Dunaj', 'Lena', 'gauja', 'Salaca', 'Vejupe', 'Nil']\n"
     ]
    }
   ],
   "source": [
    "rivers = ['Daugava', 'gauja', 'Salaca', 'Vejupe', 'Nil']\n",
    "rivers.insert(1, 'Lena')\n",
    "rivers.insert(0, 'Janisej')\n",
    "rivers.insert(2, 'Dunaj')\n",
    "print(rivers)"
   ]
  },
  {
   "cell_type": "code",
   "execution_count": 125,
   "metadata": {},
   "outputs": [
    {
     "data": {
      "text/plain": [
       "['Dunaj', 'Lena', 'gauja', 'Salaca', 'Vejupe', 'Nil']"
      ]
     },
     "execution_count": 125,
     "metadata": {},
     "output_type": "execute_result"
    }
   ],
   "source": [
    "del rivers[0]\n",
    "rivers\n",
    "\n",
    "del rivers[0]\n",
    "rivers"
   ]
  },
  {
   "cell_type": "code",
   "execution_count": 126,
   "metadata": {},
   "outputs": [
    {
     "name": "stdout",
     "output_type": "stream",
     "text": [
      "['Dunaj', 'Lena', 'gauja', 'Salaca', 'Vejupe']\n"
     ]
    }
   ],
   "source": [
    "rivers.pop()\n",
    "print(rivers)"
   ]
  },
  {
   "cell_type": "code",
   "execution_count": 133,
   "metadata": {},
   "outputs": [
    {
     "data": {
      "text/plain": [
       "['Vejupe', 'Nil']"
      ]
     },
     "execution_count": 133,
     "metadata": {},
     "output_type": "execute_result"
    }
   ],
   "source": [
    "rivers.pop(0)\n",
    "rivers"
   ]
  },
  {
   "cell_type": "code",
   "execution_count": 134,
   "metadata": {},
   "outputs": [
    {
     "name": "stdout",
     "output_type": "stream",
     "text": [
      "['Daugava', 'Vejupe', 'Nil']\n"
     ]
    }
   ],
   "source": [
    "rivers = ['Daugava', 'gauja', 'Salaca', 'Vejupe', 'Nil']\n",
    "\n",
    "rivers.remove('Salaca')\n",
    "rivers.remove('gauja')\n",
    "\n",
    "print(rivers)"
   ]
  },
  {
   "cell_type": "code",
   "execution_count": 149,
   "metadata": {},
   "outputs": [
    {
     "data": {
      "text/plain": [
       "['daugava', 'gauja', 'nil', 'salaca', 'vejupe']"
      ]
     },
     "execution_count": 149,
     "metadata": {},
     "output_type": "execute_result"
    }
   ],
   "source": [
    "rivers = ['daugava', 'gauja', 'salaca', 'vejupe', 'nil']\n",
    "\n",
    "rivers.sort()\n",
    "rivers"
   ]
  },
  {
   "cell_type": "code",
   "execution_count": 139,
   "metadata": {},
   "outputs": [
    {
     "data": {
      "text/plain": [
       "['gauja', 'Vejupe', 'Salaca', 'Nil', 'Daugava']"
      ]
     },
     "execution_count": 139,
     "metadata": {},
     "output_type": "execute_result"
    }
   ],
   "source": [
    "rivers.sort(reverse = True)\n",
    "rivers"
   ]
  },
  {
   "cell_type": "code",
   "execution_count": 141,
   "metadata": {},
   "outputs": [
    {
     "data": {
      "text/plain": [
       "['Daugava', 'gauja', 'Salaca', 'Vejupe', 'Nil']"
      ]
     },
     "execution_count": 141,
     "metadata": {},
     "output_type": "execute_result"
    }
   ],
   "source": [
    "rivers = ['Daugava', 'gauja', 'Salaca', 'Vejupe', 'Nil']\n",
    "\n",
    "sorted(rivers)\n",
    "rivers"
   ]
  },
  {
   "cell_type": "code",
   "execution_count": 151,
   "metadata": {},
   "outputs": [
    {
     "data": {
      "text/plain": [
       "['Nil', 'Vejupe', 'Salaca', 'gauja', 'Daugava']"
      ]
     },
     "execution_count": 151,
     "metadata": {},
     "output_type": "execute_result"
    }
   ],
   "source": [
    "rivers = ['Daugava', 'gauja', 'Salaca', 'Vejupe', 'Nil']\n",
    "rivers.reverse()\n",
    "rivers"
   ]
  },
  {
   "cell_type": "code",
   "execution_count": null,
   "metadata": {},
   "outputs": [],
   "source": []
  }
 ],
 "metadata": {
  "kernelspec": {
   "display_name": "Python 3",
   "language": "python",
   "name": "python3"
  },
  "language_info": {
   "codemirror_mode": {
    "name": "ipython",
    "version": 3
   },
   "file_extension": ".py",
   "mimetype": "text/x-python",
   "name": "python",
   "nbconvert_exporter": "python",
   "pygments_lexer": "ipython3",
   "version": "3.8.5"
  }
 },
 "nbformat": 4,
 "nbformat_minor": 4
}
