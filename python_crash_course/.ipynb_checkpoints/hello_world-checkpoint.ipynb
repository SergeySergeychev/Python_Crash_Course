{
 "cells": [
  {
   "cell_type": "code",
   "execution_count": 3,
   "metadata": {},
   "outputs": [
    {
     "name": "stdout",
     "output_type": "stream",
     "text": [
      "Hello Python world\n"
     ]
    }
   ],
   "source": [
    "message = \"Hello Python Crash Course world!\"\n",
    "message = \"Hello Python world\"\n",
    "print(message)"
   ]
  },
  {
   "cell_type": "code",
   "execution_count": 4,
   "metadata": {},
   "outputs": [
    {
     "name": "stdout",
     "output_type": "stream",
     "text": [
      "Hello Python Crash Course world!\n"
     ]
    }
   ],
   "source": [
    "message = \"Hello Python Crash Course world!\""
   ]
  },
  {
   "cell_type": "code",
   "execution_count": 3,
   "metadata": {},
   "outputs": [],
   "source": [
    " \n",
    "\n",
    "#     1. Variable names can contain only letters, numbers, and uderscores.They can start with a letter or an underscore,\n",
    "#     but not with a number.For instance you can call a variable mesage_1, but not 1_message.\n",
    "    \n",
    "#     2. Spaces are not allowed in variable names, but underscores can be used to separate word in variable names. For example,\n",
    "#     greeting_message works, but greeting message will cause errors.v\n",
    "    \n",
    "#     3. Variable names should be short but descriptive. For example, name is better than, stundent_name is better s_n, and \n",
    "#     name_length is better that length_of_persons_name\n",
    "    \n",
    "#     4. Be careful when using lowercase letter l and the uppercase letter O because they could be confused wi\n",
    "    \n",
    "\n"
   ]
  },
  {
   "cell_type": "code",
   "execution_count": 8,
   "metadata": {},
   "outputs": [
    {
     "name": "stdout",
     "output_type": "stream",
     "text": [
      "Hello Python Crash Course reader!\n"
     ]
    }
   ],
   "source": [
    "mesage =\"Hello Python Crash Course reader!\"\n",
    "print(mesage)"
   ]
  },
  {
   "cell_type": "code",
   "execution_count": 9,
   "metadata": {},
   "outputs": [
    {
     "name": "stdout",
     "output_type": "stream",
     "text": [
      "value has been stored\n"
     ]
    }
   ],
   "source": [
    "simple_message = \"value has been stored\"\n",
    "print(simple_message)"
   ]
  },
  {
   "cell_type": "code",
   "execution_count": 11,
   "metadata": {},
   "outputs": [
    {
     "name": "stdout",
     "output_type": "stream",
     "text": [
      " I have changed the variable\n"
     ]
    }
   ],
   "source": [
    "new_variable = \" I have changed the variable\"\n",
    "print(new_variable)"
   ]
  },
  {
   "cell_type": "code",
   "execution_count": 12,
   "metadata": {},
   "outputs": [
    {
     "name": "stdout",
     "output_type": "stream",
     "text": [
      " I have changed the variable like that\n"
     ]
    }
   ],
   "source": [
    "new_variable = \" I have changed the variable like that\"\n",
    "print(new_variable)"
   ]
  },
  {
   "cell_type": "code",
   "execution_count": null,
   "metadata": {},
   "outputs": [],
   "source": []
  }
 ],
 "metadata": {
  "kernelspec": {
   "display_name": "Python 3",
   "language": "python",
   "name": "python3"
  },
  "language_info": {
   "codemirror_mode": {
    "name": "ipython",
    "version": 3
   },
   "file_extension": ".py",
   "mimetype": "text/x-python",
   "name": "python",
   "nbconvert_exporter": "python",
   "pygments_lexer": "ipython3",
   "version": "3.8.5"
  }
 },
 "nbformat": 4,
 "nbformat_minor": 4
}
