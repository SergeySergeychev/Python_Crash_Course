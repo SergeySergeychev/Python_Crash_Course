{
 "cells": [
  {
   "cell_type": "code",
   "execution_count": null,
   "metadata": {},
   "outputs": [],
   "source": [
    "# Working with Classes and Instances"
   ]
  },
  {
   "cell_type": "code",
   "execution_count": null,
   "metadata": {},
   "outputs": [],
   "source": [
    "# The Car Class\n",
    "\n",
    "class Car():\n",
    "    \"\"\"A simple attempt to represent a car.\"\"\"\n",
    "    \n",
    "    def __init__(self, make, model, year):\n",
    "        \"\"\"Initialize attributes to describe a car.\"\"\"\n",
    "        self.make = make\n",
    "        self.model = model\n",
    "        self.year = year\n",
    "        \n",
    "    def get_descriptive_name(self):\n",
    "        \"\"\"Return a neatly formatted descriptive name.\"\"\"\n",
    "        long_name  = str(self.year) + ' ' + self.make + ' ' + self.model\n",
    "        return long_name.title()\n",
    "    \n",
    "my_new_car = Car('audi', 'a4', 2016)\n",
    "print(my_new_car.get_descriptive_name())"
   ]
  },
  {
   "cell_type": "code",
   "execution_count": null,
   "metadata": {},
   "outputs": [],
   "source": [
    "class Car():\n",
    "    \"\"\"A simple attempt to represent a car.\"\"\"\n",
    "    \n",
    "    def __init__(self, make, model, year):\n",
    "        \"\"\"Initialize attributes to describe a car.\"\"\"\n",
    "        self.make = make\n",
    "        self.model = model\n",
    "        self.year = year\n",
    "        self.odometer_reading = 0\n",
    "        \n",
    "    def get_descriptive_name(self):\n",
    "        \"\"\"Return a neatly formatted descriptive name.\"\"\"\n",
    "        long_name  = str(self.year) + ' ' + self.make + ' ' + self.model + ' ' + str(self.odometer_reading)\n",
    "        return long_name.title()\n",
    "    \n",
    "    def read_odometer(self):\n",
    "        \"\"\"Print a statement showing the car's mileage.\"\"\"\n",
    "        print(\"This car has \" + str(self.odometer_reading) + \" miles on it.\")\n",
    "        \n",
    "my_new_car = Car('audi', 'a4', 2016,)\n",
    "print(my_new_car.get_descriptive_name())\n",
    "my_new_car.read_odometer()"
   ]
  },
  {
   "cell_type": "code",
   "execution_count": null,
   "metadata": {},
   "outputs": [],
   "source": [
    "# Modifying an Attribute's Value Directly\n",
    "\n",
    "my_new_car.odometer_reading = 23 # We use dot notation to access the car's odometer_reading attribue \n",
    "                                # and set it value directly\n",
    "my_new_car.read_odometer() # call method to read odometer\n",
    "\n"
   ]
  },
  {
   "cell_type": "code",
   "execution_count": null,
   "metadata": {},
   "outputs": [],
   "source": [
    "class Car():\n",
    "    \"\"\"A simple attempt to represent a car.\"\"\"\n",
    "    \n",
    "    def __init__(self, make, model, year):\n",
    "        \"\"\"Initialize attributes to describe a car.\"\"\"\n",
    "        self.make = make\n",
    "        self.model = model\n",
    "        self.year = year\n",
    "        self.odometer_reading = 0\n",
    "        \n",
    "    def get_descriptive_name(self):\n",
    "        \"\"\"Return a neatly formatted descriptive name.\"\"\"\n",
    "        long_name  = str(self.year) + ' ' + self.make + ' ' + self.model \n",
    "        return long_name.title()\n",
    "    \n",
    "    def read_odometer(self):\n",
    "        \"\"\"Print a statement showing the car's mileage.\"\"\"\n",
    "        print(\"This car has \" + str(self.odometer_reading) + \" miles on it.\")\n",
    "        \n",
    "    def update_odometer(self, mileage):\n",
    "        \"\"\"Set the odometer reading to the given value.\"\"\"\n",
    "        self.odometer_reading = mileage\n",
    "        \n",
    "        \n",
    "my_new_car = Car('audi', 'a4', 2016)  \n",
    "print(my_new_car.get_descriptive_name())\n",
    "\n",
    "my_new_car.update_odometer(23)\n",
    "my_new_car.read_odometer()\n",
    "      \n",
    "     \n",
    "      "
   ]
  },
  {
   "cell_type": "code",
   "execution_count": 33,
   "metadata": {},
   "outputs": [],
   "source": [
    "class Car():\n",
    "    \"\"\"A simple attempt to represent a car.\"\"\"\n",
    "    \n",
    "    def __init__(self, make, model, year):\n",
    "        \"\"\"Initialize attributes to describe a car.\"\"\"\n",
    "        self.make = make\n",
    "        self.model = model\n",
    "        self.year = year\n",
    "        self.odometer_reading = 0 \n",
    "        \n",
    "    def get_descriptive_name(self):\n",
    "        \"\"\"Return a neatly formatted descriptive name.\"\"\"\n",
    "        long_name  = str(self.year) + ' ' + self.make + ' ' + self.model \n",
    "        return long_name.title()\n",
    "    \n",
    "    def read_odometer(self):\n",
    "        \"\"\"Print a statement showing the car's mileage.\"\"\"\n",
    "        print(\"This car has \" + str(self.odometer_reading) + \" miles on it.\")\n",
    "        \n",
    "    def update_odometer(self, mileage):\n",
    "        \"\"\"Set the odometer reading to the given value.\n",
    "        Reject the change if it attempts to roll the odometer back.\"\"\"\n",
    "        if mileage >= self.odometer_reading:\n",
    "            self.odometer_reading = mileage\n",
    "        else:\n",
    "            print(\"You can't roll back odometer!\")\n",
    "         \n",
    "    \n",
    "    def increment_odometer(self,miles):\n",
    "        \"\"\"Add the given amount to the odometer readig.\"\"\"\n",
    "        self.odometer_reading += miles\n",
    "        \n",
    "     \n"
   ]
  },
  {
   "cell_type": "code",
   "execution_count": 15,
   "metadata": {},
   "outputs": [
    {
     "name": "stdout",
     "output_type": "stream",
     "text": [
      "This car has 8 miles on it.\n"
     ]
    }
   ],
   "source": [
    "my_new_car = Car('audi', 'a4', 2016)\n",
    "my_new_car.update_odometer(8)\n",
    "my_new_car.read_odometer()"
   ]
  },
  {
   "cell_type": "code",
   "execution_count": 18,
   "metadata": {},
   "outputs": [
    {
     "name": "stdout",
     "output_type": "stream",
     "text": [
      "This car has 4 miles on it.\n"
     ]
    }
   ],
   "source": [
    "my_new_car = Car('audi', 'a4', 2016)\n",
    "my_new_car.update_odometer(4)\n",
    "my_new_car.read_odometer()"
   ]
  },
  {
   "cell_type": "code",
   "execution_count": 34,
   "metadata": {},
   "outputs": [
    {
     "name": "stdout",
     "output_type": "stream",
     "text": [
      "2013 Subaru Outback\n",
      "This car has 100 miles on it.\n",
      "This car has 200 miles on it.\n"
     ]
    }
   ],
   "source": [
    "my_used_car = Car('subaru', 'outback', 2013)\n",
    "print(my_used_car.get_descriptive_name())\n",
    "\n",
    "my_used_car.update_odometer(100)\n",
    "my_used_car.read_odometer()\n",
    "my_used_car.increment_odometer(100)\n",
    "my_used_car.read_odometer()"
   ]
  },
  {
   "cell_type": "code",
   "execution_count": 51,
   "metadata": {},
   "outputs": [
    {
     "name": "stdout",
     "output_type": "stream",
     "text": [
      "Restaurant's name: Hungry Angry.\n",
      "Restaurant's cuisine: Street Food.\n",
      "Welcome, restaurant is open.\n",
      "Number of customers: 0.\n",
      "Number of customers: 22.\n"
     ]
    }
   ],
   "source": [
    "class Restaurant():\n",
    "    \"\"\"A simple attemp to represent restaurant\"\"\"\n",
    "    \n",
    "    def  __init__(self,restaurant_name,cuisine_type):\n",
    "        \"\"\"Initialize attributes to represent restaurant.\"\"\"\n",
    "        self.restaurant_name = restaurant_name\n",
    "        self.cuisine_type = cuisine_type\n",
    "        self.number_served = 0\n",
    "        \n",
    "    def number_of_customers(self):\n",
    "        \"\"\"Prints statement about customers quantity\"\"\"\n",
    "        print(\"Number of customers: \" + str(self.number_served) + \".\")\n",
    "        \n",
    "    def set_number_served(self, customer):\n",
    "        \"\"\"Counts customers at the moment\"\"\"\n",
    "        self.number_served = customer\n",
    "    \n",
    "    def increment_number_served(self, increment_number_of_customers):\n",
    "        \"\"\"Increment number of customers to total amount.\"\"\"\n",
    "        self.number_served += increment_number_of_customers\n",
    "       \n",
    "    \n",
    "    def describe_restaurant(self):\n",
    "        \"\"\"Print a statements showing restaurant's name and cuisine's type.\"\"\"\n",
    "        print(\"Restaurant's name: \" + self.restaurant_name.title() + \".\")\n",
    "        print(\"Restaurant's cuisine: \" + self.cuisine_type.title() + \".\")\n",
    "        \n",
    "    def open_restaurant(self):\n",
    "        \"\"\"Simulates sign 'open'\"\"\"\n",
    "        print(\"Welcome, restaurant is open.\")\n",
    "        \n",
    "hungry_angry = Restaurant('hungry angry', 'street food')\n",
    "hungry_angry.describe_restaurant()\n",
    "hungry_angry.open_restaurant()\n",
    "hungry_angry.number_of_customers()\n",
    "hungry_angry.set_number_served(11)\n",
    "hungry_angry.increment_number_served(11)\n",
    "hungry_angry.number_of_customers()\n",
    "        \n",
    "        \n",
    "        \n",
    "        \n",
    "    "
   ]
  },
  {
   "cell_type": "code",
   "execution_count": 73,
   "metadata": {
    "scrolled": true
   },
   "outputs": [
    {
     "name": "stdout",
     "output_type": "stream",
     "text": [
      "The number of login attempts: 1.\n",
      "Resets all attempts to 0 tries.\n"
     ]
    }
   ],
   "source": [
    "class User():\n",
    "    \"\"\"Description of an user.\"\"\"\n",
    "    \n",
    "    def __init__(self, first_name, last_name, age, height):\n",
    "        \"\"\"Infromation about an user.\"\"\"\n",
    "        self.first_name = first_name\n",
    "        self.last_name = last_name\n",
    "        self.age = age\n",
    "        self.height = height\n",
    "        self.login_attempts = 0\n",
    "        \n",
    "    def describe_user(self):\n",
    "        \"\"\"Prints out infromation about user.\"\"\"\n",
    "        print(\"\\nFirst name: \" + self.first_name.title() + \".\")\n",
    "        print(\"\\nLast name: \" + self.last_name.title() + \".\")\n",
    "        print(\"\\nUser's age: \" + str(self.age) + \".\")\n",
    "        print(\"\\nUser's height: \" + str(self.height) + \".\")\n",
    "        \n",
    "    def greet_user(self):\n",
    "        \"\"\"Greetings to an user.\"\"\"\n",
    "        print(\"\\nI want to greet you \"  + self.first_name.title() + ' ' + self.last_name.title() + \".\")\n",
    "        \n",
    "    def increment_login_attempts(self):\n",
    "        \"\"\"Increments login attempts by 1.\"\"\"\n",
    "        self.login_attempts += 1\n",
    "        print(\"The number of login attempts: \" + str(self.login_attempts) + \".\")\n",
    "        \n",
    "    def reset_login_attempts(self):\n",
    "        \"\"\"Resetes all login attempts.\"\"\"\n",
    "        if self.login_attempts >= 0:\n",
    "            self.login_attempts -= self.login_attempts \n",
    "            print(\"Resets all attempts to \" + str(self.login_attempts) + \" tries.\")\n",
    "        \n",
    "        \n",
    "alexander = User('alexander', 'sergeychev', 34, 175)\n",
    "alexander.increment_login_attempts()\n",
    "alexander.reset_login_attempts()\n",
    "\n",
    "        "
   ]
  },
  {
   "cell_type": "code",
   "execution_count": null,
   "metadata": {},
   "outputs": [],
   "source": []
  }
 ],
 "metadata": {
  "kernelspec": {
   "display_name": "Python 3",
   "language": "python",
   "name": "python3"
  },
  "language_info": {
   "codemirror_mode": {
    "name": "ipython",
    "version": 3
   },
   "file_extension": ".py",
   "mimetype": "text/x-python",
   "name": "python",
   "nbconvert_exporter": "python",
   "pygments_lexer": "ipython3",
   "version": "3.8.5"
  }
 },
 "nbformat": 4,
 "nbformat_minor": 4
}
