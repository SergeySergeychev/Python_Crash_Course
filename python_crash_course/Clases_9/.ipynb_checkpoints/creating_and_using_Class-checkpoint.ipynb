{
 "cells": [
  {
   "cell_type": "code",
   "execution_count": null,
   "metadata": {},
   "outputs": [],
   "source": [
    "# Classes\n",
    "# In object-oriented programming you write classes that represent real-world things and situations,\n",
    "# and you create objects based on these classes.When you write a class, you define the general behavior that \n",
    "# a whole category of objects can have."
   ]
  },
  {
   "cell_type": "code",
   "execution_count": null,
   "metadata": {},
   "outputs": [],
   "source": [
    "# Creating and Using a Class\n",
    "    #Creating the Dog Class.\n",
    "    \n",
    "class Dog():\n",
    "    \"\"\"A simple attemt to model a dog.\"\"\"\n",
    "    \n",
    "    def __init__(self, name, age):\n",
    "        ###Initialize name and age attributes.\"\"\"\n",
    "        self.name = name\n",
    "        self.age = age\n",
    "        \n",
    "    def sit(self):\n",
    "        \"\"\"Simulate a dog sitting in response to a command.\"\"\"\n",
    "        print(self.name.title() + \" is now sitting.\")\n",
    "\n",
    "    def roll_over(self):\n",
    "        \"\"\"Simulate rolling over in response to a command.\"\"\"\n",
    "        print(self.name.title() + \" rolled over!\")"
   ]
  },
  {
   "cell_type": "code",
   "execution_count": null,
   "metadata": {
    "scrolled": true
   },
   "outputs": [],
   "source": [
    "my_dog = Dog('willie', 6) # Python will call the __init__() method in Dog with the arguments 'willie', 6.   \n",
    "# The __init__ method() creates an  instance reprenting this particular\n",
    "# dog and sets the name and age attributes.\n",
    "\n",
    "print(\"My dog's name is \" + my_dog.name.title() + \".\")# using dot to access the value of my_dog's attribute name\n",
    "print(\"My dog is \" + str(my_dog.age) + \" years old.\")# using dot to access the value of my dog's attribute age."
   ]
  },
  {
   "cell_type": "code",
   "execution_count": null,
   "metadata": {},
   "outputs": [],
   "source": [
    "# Calling Methods\n",
    "\n",
    "my_dog = Dog('willie', 6)\n",
    "my_dog.sit()    \n",
    "my_dog.roll_over()"
   ]
  },
  {
   "cell_type": "code",
   "execution_count": null,
   "metadata": {},
   "outputs": [],
   "source": [
    "# Creating Multiple Instances\n",
    "\n",
    "# You can create as many instances from a class as you need.\n",
    "\n",
    "my_dog = Dog('willie', 6)\n",
    "your_dog = Dog('lucy', 3)\n",
    "\n",
    "print(\"My dog's name is \" + my_dog.name.title() + \".\")             \n",
    "print(\"My dog is \" + str(my_dog.age) + \" years old\")\n",
    "my_dog.sit()\n",
    "\n",
    "print(\"\\nYour dog's name is \" + your_dog.name.title() + \".\")\n",
    "print(\"Your dog is \" + str(your_dog.age) + \" years old.\")\n",
    "your_dog.sit()"
   ]
  },
  {
   "cell_type": "code",
   "execution_count": null,
   "metadata": {},
   "outputs": [],
   "source": [
    "class Restaurants():\n",
    "    \"\"\"Moddeling a Restauran\"\"\"\n",
    "    \n",
    "    def __init__(self, restaurant_name, cuisine_type):\n",
    "            \"\"\"Initialize restaurant name and cuisine type attributes.\"\"\"\n",
    "            self.restaurant_name = restaurant_name\n",
    "            self.cuisine_type = cuisine_type\n",
    "        \n",
    "    def describe_restaurant(self):\n",
    "            \"\"\"Method print's restaurant name and cuisine_type\"\"\"\n",
    "            print(\"The restauran's name is \" + self.restaurant_name.title() + \".\")\n",
    "            print(\"The cuisine's type is \" + self.cuisine_type.title() + \".\")\n",
    "            \n",
    "    def open_restaurant(self):\n",
    "            \"\"\" Method tell's restaurant working time\"\"\"\n",
    "            print(self.restaurant_name.title() + \", working time is from 9:00 am  till 22:00 pm.\")\n",
    "            \n",
    "        "
   ]
  },
  {
   "cell_type": "code",
   "execution_count": null,
   "metadata": {
    "scrolled": true
   },
   "outputs": [],
   "source": [
    "hungry_angry  = Restaurants('hungry angry', 'street food')\n",
    "podnieki = Restaurants('like at home','local cuisine')\n",
    "abzali = Restaurants('abzali', 'asian cuisine')\n",
    "hungry_angry.describe_restaurant()\n",
    "podnieki.describe_restaurant()\n",
    "abzali.describe_restaurant()"
   ]
  },
  {
   "cell_type": "code",
   "execution_count": 8,
   "metadata": {},
   "outputs": [],
   "source": [
    "class User():\n",
    "    \"\"\"Description of an user.\"\"\"\n",
    "    \n",
    "    def __init__(self, first_name, last_name, age, height):\n",
    "        \"\"\"Infromation about an user.\"\"\"\n",
    "        self.first_name = first_name\n",
    "        self.last_name = last_name\n",
    "        self.age = age\n",
    "        self.height = height\n",
    "        \n",
    "    def describe_user(self):\n",
    "        \"\"\"Prints out infromation about user.\"\"\"\n",
    "        print(\"\\nFirst name: \" + self.first_name.title() + \".\")\n",
    "        print(\"\\nLast name: \" + self.last_name.title() + \".\")\n",
    "        print(\"\\nUser's age: \" + str(self.age) + \".\")\n",
    "        print(\"\\nUser's height: \" + str(self.height) + \".\")\n",
    "        \n",
    "    def greet_user(self):\n",
    "        \"\"\"Greetings to an user.\"\"\"\n",
    "        print(\"\\nI want to greet you \"  + self.first_name.title() + ' ' + self.last_name.title() + \".\")\n",
    "        \n",
    "        "
   ]
  },
  {
   "cell_type": "code",
   "execution_count": 9,
   "metadata": {},
   "outputs": [
    {
     "name": "stdout",
     "output_type": "stream",
     "text": [
      "\n",
      "First name: Sergey.\n",
      "\n",
      "Last name: Sergeychev.\n",
      "\n",
      "User's age: 34.\n",
      "\n",
      "User's height: 182.\n",
      "\n",
      "I want to greet you Sergey Sergeychev.\n"
     ]
    }
   ],
   "source": [
    "sergey = User('sergey','sergeychev', 34, 182)\n",
    "sergey.describe_user()\n",
    "sergey.greet_user()"
   ]
  },
  {
   "cell_type": "code",
   "execution_count": 11,
   "metadata": {},
   "outputs": [
    {
     "name": "stdout",
     "output_type": "stream",
     "text": [
      "\n",
      "First name: Denis.\n",
      "\n",
      "Last name: Bogdanov.\n",
      "\n",
      "User's age: 32.\n",
      "\n",
      "User's height: 170.\n",
      "\n",
      "I want to greet you Denis Bogdanov.\n"
     ]
    }
   ],
   "source": [
    "denis = User('denis', 'bogdanov', 32, 170)\n",
    "denis.describe_user()\n",
    "denis.greet_user()"
   ]
  },
  {
   "cell_type": "code",
   "execution_count": 12,
   "metadata": {},
   "outputs": [
    {
     "name": "stdout",
     "output_type": "stream",
     "text": [
      "\n",
      "First name: Alexander.\n",
      "\n",
      "Last name: Sergeychev.\n",
      "\n",
      "User's age: 34.\n",
      "\n",
      "User's height: 175.\n",
      "\n",
      "I want to greet you Alexander Sergeychev.\n"
     ]
    }
   ],
   "source": [
    "alexander = User ('alexander','sergeychev', 34, 175)\n",
    "alexander.describe_user()\n",
    "alexander.greet_user()"
   ]
  },
  {
   "cell_type": "code",
   "execution_count": null,
   "metadata": {},
   "outputs": [],
   "source": []
  }
 ],
 "metadata": {
  "kernelspec": {
   "display_name": "Python 3",
   "language": "python",
   "name": "python3"
  },
  "language_info": {
   "codemirror_mode": {
    "name": "ipython",
    "version": 3
   },
   "file_extension": ".py",
   "mimetype": "text/x-python",
   "name": "python",
   "nbconvert_exporter": "python",
   "pygments_lexer": "ipython3",
   "version": "3.8.5"
  }
 },
 "nbformat": 4,
 "nbformat_minor": 4
}
