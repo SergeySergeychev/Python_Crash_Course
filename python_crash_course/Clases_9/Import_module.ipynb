{
 "cells": [
  {
   "cell_type": "code",
   "execution_count": null,
   "metadata": {},
   "outputs": [],
   "source": [
    "from Car import ElectricCar\n",
    "\n",
    "my_tesla = ElectricCar('tesla', 'model S', 2016)\n",
    "\n",
    "print(my_tesla.get_descriptive_name())\n",
    "my_tesla.battery.describe_battery()\n",
    "my_tesla.battery.get_range()"
   ]
  },
  {
   "cell_type": "code",
   "execution_count": null,
   "metadata": {},
   "outputs": [],
   "source": [
    "# Importing Multiple Classes from a Module\n",
    "from Car import Car, ElectricCar\n",
    "\n",
    "my_beetle = Car('volkswagen', 'beetle', 2016)\n",
    "print(my_beetle.get_descriptive_name())\n",
    "\n",
    "my_tesla = ElectricCar('tesla','module S', 2016)\n",
    "print(my_tesla.get_descriptive_name())"
   ]
  },
  {
   "cell_type": "code",
   "execution_count": null,
   "metadata": {},
   "outputs": [],
   "source": [
    "# Importing an Entire Module. \n",
    "\n",
    "import Car\n",
    "\n",
    "my_beetle = Car.Car('volkswagen', 'beetle', 2016)\n",
    "print(my_beetle.get_descriptive_name())\n",
    "\n",
    "my_tesla = Car.ElectricCar('tesla','module S', 2016)\n",
    "print(my_tesla.get_descriptive_name())"
   ]
  },
  {
   "cell_type": "code",
   "execution_count": null,
   "metadata": {},
   "outputs": [],
   "source": [
    "# Importing a Module into a Module.\n",
    "\n",
    "from Car import Car\n",
    "from electric_car import ElectricCar\n",
    "\n",
    "my_beetle = Car('volkswagen', 'beetle', 2016)\n",
    "print(my_beetle.get_descriptive_name())\n",
    "\n",
    "my_tesla = ElectricCar('tesla', 'model S', 2016)\n",
    "print(my_tesla.get_descriptive_name())"
   ]
  },
  {
   "cell_type": "code",
   "execution_count": null,
   "metadata": {},
   "outputs": [],
   "source": [
    "from restaurant import Restaurant\n",
    "\n",
    "hungry_angry = Restaurant('hungry angry', 'street food')\n",
    "hungry_angry.describe_restaurant()"
   ]
  },
  {
   "cell_type": "code",
   "execution_count": 1,
   "metadata": {},
   "outputs": [
    {
     "name": "stdout",
     "output_type": "stream",
     "text": [
      "\n",
      "Administrators set of privileges:\n",
      "- ban user\n"
     ]
    }
   ],
   "source": [
    "from admin import Admin, Privileges\n",
    "\n",
    "admin = Admin('sergey', 'sergeychev', 34, 182)\n",
    "admin_privileges = ['ban user']\n",
    "admin.privileges.privileges = admin_privileges\n",
    "admin.privileges.show_privileges()"
   ]
  },
  {
   "cell_type": "code",
   "execution_count": 2,
   "metadata": {},
   "outputs": [],
   "source": [
    "# The Python Standard Library\n",
    "# The Python standard library is set of modules included with every Python installation"
   ]
  },
  {
   "cell_type": "code",
   "execution_count": 3,
   "metadata": {},
   "outputs": [
    {
     "name": "stdout",
     "output_type": "stream",
     "text": [
      "Jen's favorite language is Python.\n",
      "Sarah's favorite language is C.\n",
      "Edward's favorite language is Ruby.\n",
      "Phil's favorite language is Python.\n"
     ]
    }
   ],
   "source": [
    "from collections import OrderedDict\n",
    "favorite_languages = OrderedDict()\n",
    "\n",
    "favorite_languages['jen'] = 'python'\n",
    "favorite_languages['sarah'] = 'c'\n",
    "favorite_languages['edward'] ='ruby'\n",
    "favorite_languages['phil'] = 'python'\n",
    "\n",
    "for name, language in favorite_languages.items():\n",
    "    print(name.title() +\"'s favorite language is \" +\n",
    "          language.title() + \".\")"
   ]
  },
  {
   "cell_type": "code",
   "execution_count": 10,
   "metadata": {},
   "outputs": [
    {
     "name": "stdout",
     "output_type": "stream",
     "text": [
      "Dictionary is a list of key, value variables.\n",
      "Ordered Dictionary is a list of, value variables in order. Output is the same as input was made.\n",
      "Loop is a function to go trought variables.\n",
      "If is a convetional statement.\n",
      "Class is a container of arguments, which we can modify by using methods.\n"
     ]
    }
   ],
   "source": [
    "from collections import OrderedDict\n",
    "glossary = OrderedDict()\n",
    "\n",
    "glossary['dictionary'] = 'a list of key, value variables'\n",
    "glossary['ordered dictionary'] = 'a list of, value variables in order. Output is the same as input was made'\n",
    "glossary['loop'] = 'a function to go through variables' \n",
    "glossary['if'] = 'a convetional statement'\n",
    "glossary['class'] = 'a container of arguments, which we can modify by using methods'\n",
    "\n",
    "for key, value in glossary.items():\n",
    "    print(key.title() + \" is \" + value + \".\")"
   ]
  },
  {
   "cell_type": "code",
   "execution_count": null,
   "metadata": {},
   "outputs": [],
   "source": []
  }
 ],
 "metadata": {
  "kernelspec": {
   "display_name": "Python 3",
   "language": "python",
   "name": "python3"
  },
  "language_info": {
   "codemirror_mode": {
    "name": "ipython",
    "version": 3
   },
   "file_extension": ".py",
   "mimetype": "text/x-python",
   "name": "python",
   "nbconvert_exporter": "python",
   "pygments_lexer": "ipython3",
   "version": "3.8.5"
  }
 },
 "nbformat": 4,
 "nbformat_minor": 4
}
