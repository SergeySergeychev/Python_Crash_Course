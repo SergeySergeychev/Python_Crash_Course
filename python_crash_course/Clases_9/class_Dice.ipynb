{
 "cells": [
  {
   "cell_type": "code",
   "execution_count": 1,
   "metadata": {},
   "outputs": [
    {
     "name": "stdout",
     "output_type": "stream",
     "text": [
      "Rolling six sided dice six times:\n",
      "- 1\n",
      "- 2\n",
      "- 3\n",
      "- 2\n",
      "- 3\n",
      "- 1\n",
      "Rolling ten sided dice ten times:\n",
      "- 7\n",
      "- 10\n",
      "- 9\n",
      "- 6\n",
      "- 9\n",
      "- 5\n",
      "- 9\n",
      "- 2\n",
      "- 1\n",
      "- 9\n",
      "Rolling twenty sided dice twenty times:\n",
      "- 17\n",
      "- 3\n",
      "- 5\n",
      "- 19\n",
      "- 12\n",
      "- 2\n",
      "- 8\n",
      "- 9\n",
      "- 16\n",
      "- 2\n",
      "- 10\n",
      "- 20\n",
      "- 7\n",
      "- 5\n",
      "- 3\n",
      "- 1\n",
      "- 4\n",
      "- 8\n",
      "- 2\n",
      "- 4\n"
     ]
    }
   ],
   "source": [
    "\n",
    "class Dice():\n",
    "    \n",
    "    \"\"\"A simple attempt to represent dice.\"\"\"\n",
    "    def __init__(self, sides='6,10,20'):\n",
    "        \"\"\"Initialize attributes to represent dice.\"\"\"\n",
    "        self.sides = sides\n",
    "        \n",
    "    def roll_dice(self,dice_6='6 sided', dice_10='10 sided', dice_20='20 sided'):\n",
    "        \"\"\"\n",
    "        Importing function randint from random module.\n",
    "        Represent die rolling\n",
    "        \"\"\"\n",
    "        from random import randint\n",
    "        print(\"Rolling six sided dice six times:\")\n",
    "        for dice_6 in range(0, 6): \n",
    "            self.sides = randint(1, 6)      \n",
    "            print(\"- \" + str(self.sides))\n",
    "        print(\"Rolling ten sided dice ten times:\")\n",
    "        for dice_10 in range(0, 10): \n",
    "            self.sides = randint(1, 10)      \n",
    "            print(\"- \" + str(self.sides))\n",
    "        print(\"Rolling twenty sided dice twenty times:\")\n",
    "        for dice_20 in range(0, 20): \n",
    "            self.sides = randint(1, 20)       \n",
    "            print(\"- \" + str(self.sides))\n",
    "            \n",
    "dice = Dice()\n",
    "dice.roll_dice()\n",
    "        \n",
    "        \n",
    "        "
   ]
  },
  {
   "cell_type": "code",
   "execution_count": null,
   "metadata": {},
   "outputs": [],
   "source": [
    "from random import randint\n",
    "x = randint(1, 1000)\n",
    "print(x)"
   ]
  },
  {
   "cell_type": "code",
   "execution_count": 2,
   "metadata": {},
   "outputs": [
    {
     "name": "stdout",
     "output_type": "stream",
     "text": [
      "10 rolls of a 6-sided die:\n",
      "[4, 4, 1, 5, 2, 5, 2, 2, 2, 5]\n",
      "\n",
      " 10 rolls of a 20-sided dice:\n",
      "[5, 8, 3, 4, 6, 5, 6, 5, 2, 2]\n",
      "\n",
      " 20 rolls of a 20-sided dice:\n",
      "[12, 10, 12, 1, 1, 5, 13, 10, 7, 14, 14, 20, 10, 11, 9, 6, 13, 14, 6, 3]\n"
     ]
    }
   ],
   "source": [
    "from random import randint\n",
    "\n",
    "class Dice():\n",
    "    \"\"\"Represents a die, which can be rolled.\"\"\"\n",
    "    \n",
    "    def __init__(self, sides=6):\n",
    "        \"\"\"Initialize the die.\"\"\"\n",
    "        self.sides = sides\n",
    "        \n",
    "    def roll_dice(self):\n",
    "        \"\"\"Return a number between 1 and the number of sides\"\"\"\n",
    "        return randint(1, self.sides)\n",
    "    \n",
    "# Make a 6-sided die, and show the result of 10 rolls\n",
    "\n",
    "d6 = Dice()\n",
    "\n",
    "results = []\n",
    "for roll_num in range(10):\n",
    "    result = d6.roll_dice()\n",
    "    results.append(result)\n",
    "print(\"10 rolls of a 6-sided die:\")\n",
    "print(results)\n",
    "\n",
    "# Make a 10-sided die, and show the results of 10 rolls.\n",
    "d10 = Dice(sides=10)\n",
    "\n",
    "results = []\n",
    "for roll_num in range(10):\n",
    "    result = d10.roll_dice()\n",
    "    results.append(result)\n",
    "print(\"\\n 10 rolls of a 20-sided dice:\")\n",
    "print(results)\n",
    "\n",
    "d20 = Dice(sides=20)\n",
    "\n",
    "results = []\n",
    "for roll_num in range(20):\n",
    "    result = d20.roll_dice()\n",
    "    results.append(result)\n",
    "print(\"\\n 20 rolls of a 20-sided dice:\") \n",
    "print(results)\n"
   ]
  },
  {
   "cell_type": "code",
   "execution_count": null,
   "metadata": {},
   "outputs": [],
   "source": [
    "\n"
   ]
  }
 ],
 "metadata": {
  "kernelspec": {
   "display_name": "Python 3",
   "language": "python",
   "name": "python3"
  },
  "language_info": {
   "codemirror_mode": {
    "name": "ipython",
    "version": 3
   },
   "file_extension": ".py",
   "mimetype": "text/x-python",
   "name": "python",
   "nbconvert_exporter": "python",
   "pygments_lexer": "ipython3",
   "version": "3.8.5"
  }
 },
 "nbformat": 4,
 "nbformat_minor": 4
}
