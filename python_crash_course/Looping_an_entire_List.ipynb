{
 "cells": [
  {
   "cell_type": "code",
   "execution_count": 1,
   "metadata": {},
   "outputs": [],
   "source": [
    "# Looping trought an Entire List."
   ]
  },
  {
   "cell_type": "code",
   "execution_count": 2,
   "metadata": {},
   "outputs": [
    {
     "name": "stdout",
     "output_type": "stream",
     "text": [
      "alice\n",
      "david\n",
      "carolina\n"
     ]
    }
   ],
   "source": [
    "# For every magician in the list of magicians, print the magician's name.\n",
    "\n",
    "magicians = ['alice','david','carolina'] # We defined a list.\n",
    "for magician in magicians: # This line tells Python to pull a name from the list magicians, \n",
    "                           # and store it in the variable magician.\n",
    "    print(magician)        # Python repeats line 2 and 3 for each name from the list.   "
   ]
  },
  {
   "cell_type": "code",
   "execution_count": 3,
   "metadata": {},
   "outputs": [],
   "source": [
    "# A Closer Look at Looping.\n",
    "\n",
    "# The set of the steps is repeated once for each item in the list.\n",
    "\n",
    "# It's helpful to chouse meaningful name for temporary variable that hold each value in the list.\n",
    "            #EXAMPLE:\n",
    "                        # 1. for cat in cats: \n",
    "                        # 2. for dog in dogs:\n",
    "                        # 3. for item in items_list:\n",
    "        # Using singular and plural names can help you identify whether a section of code is working with a single\n",
    "        # element from the list or the entire list."
   ]
  },
  {
   "cell_type": "code",
   "execution_count": 4,
   "metadata": {},
   "outputs": [],
   "source": [
    "# Doing More Work  Within a for Loop"
   ]
  },
  {
   "cell_type": "code",
   "execution_count": 5,
   "metadata": {},
   "outputs": [
    {
     "name": "stdout",
     "output_type": "stream",
     "text": [
      "Alice, that was a great trick\n",
      "David, that was a great trick\n",
      "Carolina, that was a great trick\n"
     ]
    }
   ],
   "source": [
    "magicians = ['alice','david','carolina']\n",
    "for magician in magicians:\n",
    "    print(magician.title() + \", that was a great trick!\") # each indented line is executed once for each value in the list."
   ]
  },
  {
   "cell_type": "code",
   "execution_count": 7,
   "metadata": {},
   "outputs": [
    {
     "name": "stdout",
     "output_type": "stream",
     "text": [
      "Alice, that was a great trick!\n",
      "I cant wait to see your next trick, Alice\n",
      "\n",
      "David, that was a great trick!\n",
      "I cant wait to see your next trick, David\n",
      "\n",
      "Carolina, that was a great trick!\n",
      "I cant wait to see your next trick, Carolina\n",
      "\n"
     ]
    }
   ],
   "source": [
    "magicians = ['alice','david','carolina']\n",
    "for magician in magicians:\n",
    "        print(magician.title() + \", that was a great trick!\")\n",
    "        print(\"I cant wait to see your next trick, \" + magician.title() + '\\n')"
   ]
  },
  {
   "cell_type": "code",
   "execution_count": 8,
   "metadata": {},
   "outputs": [
    {
     "name": "stdout",
     "output_type": "stream",
     "text": [
      "Alice, that was a great trick!\n",
      "I cant wait to see your next trick, Alice\n",
      "\n",
      "David, that was a great trick!\n",
      "I cant wait to see your next trick, David\n",
      "\n",
      "Carolina, that was a great trick!\n",
      "I cant wait to see your next trick, Carolina\n",
      "\n",
      "Thank yu, everyone. That was a great magic show!\n"
     ]
    }
   ],
   "source": [
    "# Doing Something After a for Loop.\n",
    "\n",
    "magicians = ['alice','david','carolina']\n",
    "for magician in magicians:\n",
    "        print(magician.title() + \", that was a great trick!\")\n",
    "        print(\"I cant wait to see your next trick, \" + magician.title() + '\\n')\n",
    "        \n",
    "print(\"Thank yu, everyone. That was a great magic show!\")#Any line of code afterr the for loop that are not indented are \n",
    "                                                            # are executed only once without repetition."
   ]
  },
  {
   "cell_type": "code",
   "execution_count": 9,
   "metadata": {},
   "outputs": [],
   "source": [
    "# Avoiding Indentation Errors.\n",
    "# Python uses indentation to determine when one line of code is connected to the line above it."
   ]
  },
  {
   "cell_type": "code",
   "execution_count": 12,
   "metadata": {},
   "outputs": [
    {
     "ename": "IndentationError",
     "evalue": "expected an indented block (<ipython-input-12-bb6269108d1b>, line 5)",
     "output_type": "error",
     "traceback": [
      "\u001b[1;36m  File \u001b[1;32m\"<ipython-input-12-bb6269108d1b>\"\u001b[1;36m, line \u001b[1;32m5\u001b[0m\n\u001b[1;33m    print(magician.title() + \", that was a great trick!\")\u001b[0m\n\u001b[1;37m    ^\u001b[0m\n\u001b[1;31mIndentationError\u001b[0m\u001b[1;31m:\u001b[0m expected an indented block\n"
     ]
    }
   ],
   "source": [
    "# Forgetting to Indent\n",
    "# Always indent the line after the fo statement in a loop.\n",
    "magicians = ['alice','david','carolina']\n",
    "for magician in magicians:\n",
    "print(magician.title() + \", that was a great trick!\")\n",
    "       \n"
   ]
  },
  {
   "cell_type": "code",
   "execution_count": 13,
   "metadata": {},
   "outputs": [
    {
     "name": "stdout",
     "output_type": "stream",
     "text": [
      "Alice, that was a great trick!\n",
      "David, that was a great trick!\n",
      "Carolina, that was a great trick!\n",
      "I cant wait to see your next trick, Carolina\n",
      "\n"
     ]
    }
   ],
   "source": [
    "magicians = ['alice','david','carolina']\n",
    "for magician in magicians:\n",
    "        print(magician.title() + \", that was a great trick!\")\n",
    "print(\"I cant wait to see your next trick, \" + magician.title() + '\\n') # This is a logical error, code does not produce\n",
    "                                                                        # the desired result."
   ]
  },
  {
   "cell_type": "code",
   "execution_count": 14,
   "metadata": {},
   "outputs": [
    {
     "ename": "IndentationError",
     "evalue": "unexpected indent (<ipython-input-14-c1e9af23cb22>, line 2)",
     "output_type": "error",
     "traceback": [
      "\u001b[1;36m  File \u001b[1;32m\"<ipython-input-14-c1e9af23cb22>\"\u001b[1;36m, line \u001b[1;32m2\u001b[0m\n\u001b[1;33m    print(message)\u001b[0m\n\u001b[1;37m    ^\u001b[0m\n\u001b[1;31mIndentationError\u001b[0m\u001b[1;31m:\u001b[0m unexpected indent\n"
     ]
    }
   ],
   "source": [
    "message = \" Hello Python world\"\n",
    "    print(message) # Indenting Unnecessarily."
   ]
  },
  {
   "cell_type": "code",
   "execution_count": 16,
   "metadata": {},
   "outputs": [
    {
     "name": "stdout",
     "output_type": "stream",
     "text": [
      "Alice, that was a great trick!\n",
      "I cant wait to see your next trick, Alice\n",
      "\n",
      "Thank you, everyone. That was a great magic show!\n",
      "David, that was a great trick!\n",
      "I cant wait to see your next trick, David\n",
      "\n",
      "Thank you, everyone. That was a great magic show!\n",
      "Carolina, that was a great trick!\n",
      "I cant wait to see your next trick, Carolina\n",
      "\n",
      "Thank you, everyone. That was a great magic show!\n"
     ]
    }
   ],
   "source": [
    "magicians = ['alice','david','carolina']\n",
    "for magician in magicians:\n",
    "        print(magician.title() + \", that was a great trick!\")\n",
    "        print(\"I cant wait to see your next trick, \" + magician.title() + '\\n')\n",
    "        \n",
    "        print(\"Thank you, everyone. That was a great magic show!\") # Indenting Unnecessarily After the loop caused\n",
    "                                                                    # logical error."
   ]
  },
  {
   "cell_type": "code",
   "execution_count": 17,
   "metadata": {},
   "outputs": [
    {
     "ename": "SyntaxError",
     "evalue": "invalid syntax (<ipython-input-17-7737a0f5faed>, line 5)",
     "output_type": "error",
     "traceback": [
      "\u001b[1;36m  File \u001b[1;32m\"<ipython-input-17-7737a0f5faed>\"\u001b[1;36m, line \u001b[1;32m5\u001b[0m\n\u001b[1;33m    for magician in magicians\u001b[0m\n\u001b[1;37m                             ^\u001b[0m\n\u001b[1;31mSyntaxError\u001b[0m\u001b[1;31m:\u001b[0m invalid syntax\n"
     ]
    }
   ],
   "source": [
    "# Forgetting the Colon.\n",
    "# The colon ':' at the end of  a for statement tells Python to interpret the next line as the start of a loop.\n",
    "\n",
    "magicians = ['alice','david','carolina']\n",
    "for magician in magicians # Such errors are difficult to find because we often just see what we expect to see.\n",
    "        print(magician.title() + \", that was a great trick!\")\n",
    "       "
   ]
  },
  {
   "cell_type": "code",
   "execution_count": 19,
   "metadata": {},
   "outputs": [
    {
     "name": "stdout",
     "output_type": "stream",
     "text": [
      "Klasiska\n",
      "Chili\n",
      "Pikanta\n"
     ]
    }
   ],
   "source": [
    "pizzas = ['Klasiska', 'Chili', 'Pikanta']\n",
    "for piza in pizzas:\n",
    "    print(piza)"
   ]
  },
  {
   "cell_type": "code",
   "execution_count": 28,
   "metadata": {},
   "outputs": [
    {
     "name": "stdout",
     "output_type": "stream",
     "text": [
      "I like Klasiska pizza. \n",
      "\n",
      "I like Chili pizza. \n",
      "\n",
      "I like Pikanta pizza. \n",
      "\n",
      "I really love pizza!\n"
     ]
    }
   ],
   "source": [
    "pizzas = ['klasiska', 'chili', 'pikanta']\n",
    "for piza in pizzas:\n",
    "    print(\"I like \" + piza.title() +\" pizza.\",'\\n')\n",
    "    \n",
    "print(\"I really love pizza!\")    \n",
    "    "
   ]
  },
  {
   "cell_type": "code",
   "execution_count": 38,
   "metadata": {},
   "outputs": [
    {
     "name": "stdout",
     "output_type": "stream",
     "text": [
      "Each of this animals live in our houseas, dog \n",
      "\n",
      "Each of this animals live in our houseas, cat \n",
      "\n",
      "Each of this animals live in our houseas, mouse \n",
      "\n",
      "dog like to run for cat and cat like to run for mouse .\n"
     ]
    }
   ],
   "source": [
    "animals = ['dog', 'cat', 'mouse']\n",
    "for animal in animals:\n",
    "    print(\"Each of this animals live in our houseas, \" + animal, '\\n')\n",
    "print(animals[0] + \" like to run for \" + animals[1] + \" and cat like to run for \" + animals[2] + \" .\")    "
   ]
  },
  {
   "cell_type": "code",
   "execution_count": null,
   "metadata": {},
   "outputs": [],
   "source": []
  }
 ],
 "metadata": {
  "kernelspec": {
   "display_name": "Python 3",
   "language": "python",
   "name": "python3"
  },
  "language_info": {
   "codemirror_mode": {
    "name": "ipython",
    "version": 3
   },
   "file_extension": ".py",
   "mimetype": "text/x-python",
   "name": "python",
   "nbconvert_exporter": "python",
   "pygments_lexer": "ipython3",
   "version": "3.8.5"
  }
 },
 "nbformat": 4,
 "nbformat_minor": 4
}
