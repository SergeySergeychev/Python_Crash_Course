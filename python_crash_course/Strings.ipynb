{
 "cells": [
  {
   "cell_type": "code",
   "execution_count": 1,
   "metadata": {},
   "outputs": [],
   "source": [
    "# A string is simply a series of characters. \n",
    "# Anything inside quates is cosidered a string in Python,\n",
    "# and you can use single or double quates around your strigs.\n",
    "# example: \"This is a string.\"\n",
    "# example_num_2: 'This is also a string.'"
   ]
  },
  {
   "cell_type": "code",
   "execution_count": 2,
   "metadata": {},
   "outputs": [
    {
     "name": "stdout",
     "output_type": "stream",
     "text": [
      "Ada Lovelace\n"
     ]
    }
   ],
   "source": [
    "# Changing case in a STRING with METHODS\n",
    "name = \"ada lovelace\"\n",
    "print(name.title()) #title() dispalys each wordin titlecase, where each word begins with a capital letter."
   ]
  },
  {
   "cell_type": "code",
   "execution_count": 3,
   "metadata": {},
   "outputs": [
    {
     "name": "stdout",
     "output_type": "stream",
     "text": [
      "ADA LOVELACE\n",
      "ada lovelace\n"
     ]
    }
   ],
   "source": [
    "name = \"Ada Lovelace\"\n",
    "print(name.upper()) # .upper() will transform all letters in uppercase\n",
    "print(name.lower()) # .lower() will transfor all letters in lowercase"
   ]
  },
  {
   "cell_type": "code",
   "execution_count": 5,
   "metadata": {},
   "outputs": [
    {
     "name": "stdout",
     "output_type": "stream",
     "text": [
      "ada lovelace\n"
     ]
    }
   ],
   "source": [
    "# Combining or Cocatenating Strings\n",
    "# It's usefull to cocatenate strings. For example, you might want to store first name and last name in separate variables.\n",
    "\n",
    "# combine two variables to display full name of person \n",
    "\n",
    "first_name = \"ada\" \n",
    "last_name = \"lovelace\"\n",
    "\n",
    "full_name = first_name + \" \" + last_name # combine first_name , a space , and a last_name\n",
    "\n",
    "print(full_name)"
   ]
  },
  {
   "cell_type": "code",
   "execution_count": 6,
   "metadata": {},
   "outputs": [
    {
     "name": "stdout",
     "output_type": "stream",
     "text": [
      "Hello, Ada Lovelace!\n"
     ]
    }
   ],
   "source": [
    "# This Method of combining string is called cocatenation.\n",
    "\n",
    "first_name = \"ada\"\n",
    "last_name = \"lovelace\"\n",
    "full_name = first_name + \" \" + last_name\n",
    "\n",
    "print(\"Hello, \" + full_name.title() + \"!\") # Here, the full name is used in a sentence that greets the user, and \n",
    "                                           # the .title() method is used to format the name appropriately.   "
   ]
  },
  {
   "cell_type": "code",
   "execution_count": 11,
   "metadata": {},
   "outputs": [
    {
     "name": "stdout",
     "output_type": "stream",
     "text": [
      "Hello, Ada Lovelace!\n"
     ]
    }
   ],
   "source": [
    "# we can store greetings as new variable name\n",
    "\n",
    "new_variable_name = \"Hello, \" + full_name.title()+\"!\"\n",
    "print(new_variable_name)"
   ]
  },
  {
   "cell_type": "code",
   "execution_count": 13,
   "metadata": {},
   "outputs": [
    {
     "name": "stdout",
     "output_type": "stream",
     "text": [
      "\tPython\n"
     ]
    }
   ],
   "source": [
    "# Adding Whitespace to Strings with Tabs or Newlines\n",
    "\n",
    "print(\"\\tPython\") # We are adding tab to make text more organized"
   ]
  },
  {
   "cell_type": "code",
   "execution_count": 14,
   "metadata": {},
   "outputs": [
    {
     "name": "stdout",
     "output_type": "stream",
     "text": [
      "Languages:\n",
      "Python\n",
      "C\n",
      "JavaScript\n"
     ]
    }
   ],
   "source": [
    "print(\"Languages:\\nPython\\nC\\nJavaScript\") # To add newline in a string , use the character combination \\n:"
   ]
  },
  {
   "cell_type": "code",
   "execution_count": 15,
   "metadata": {},
   "outputs": [
    {
     "name": "stdout",
     "output_type": "stream",
     "text": [
      "Languages:\n",
      "\tPython\n",
      "\tC\n",
      "\tJavascript\n"
     ]
    }
   ],
   "source": [
    "print(\"Languages:\\n\\tPython\\n\\tC\\n\\tJavascript\") # We are generating four lines of output."
   ]
  },
  {
   "cell_type": "code",
   "execution_count": 21,
   "metadata": {},
   "outputs": [
    {
     "data": {
      "text/plain": [
       "'python'"
      ]
     },
     "execution_count": 21,
     "metadata": {},
     "output_type": "execute_result"
    }
   ],
   "source": [
    "# Stripping Whitespace\n",
    "\n",
    "favorite_language = 'python ' # adding whitespace at the end of the text\n",
    "favorite_language.rstrip() # temporarily removing whitespace with method .rstrip() "
   ]
  },
  {
   "cell_type": "code",
   "execution_count": 22,
   "metadata": {},
   "outputs": [
    {
     "data": {
      "text/plain": [
       "'python'"
      ]
     },
     "execution_count": 22,
     "metadata": {},
     "output_type": "execute_result"
    }
   ],
   "source": [
    "favorite_language = favorite_language.rstrip() # to remove white space from the string permamently, store the stripped value\n",
    "                                               # back into the variable\n",
    "favorite_language"
   ]
  },
  {
   "cell_type": "code",
   "execution_count": 26,
   "metadata": {},
   "outputs": [
    {
     "data": {
      "text/plain": [
       "'python'"
      ]
     },
     "execution_count": 26,
     "metadata": {},
     "output_type": "execute_result"
    }
   ],
   "source": [
    "favorite_language = ' python '\n",
    "favorite_language.rstrip() #temporarily removing whitespace from right side\n",
    "favorite_language.lstrip() #temporarily removing whitespace from left side\n",
    "favorite_language.strip() #temporarily removing whitespace from both sides"
   ]
  },
  {
   "cell_type": "code",
   "execution_count": 28,
   "metadata": {},
   "outputs": [
    {
     "data": {
      "text/plain": [
       "\"One of Python's strengths is its diverse commuity\""
      ]
     },
     "execution_count": 28,
     "metadata": {},
     "output_type": "execute_result"
    }
   ],
   "source": [
    "# Avoiding Syntax Errors with Strings\n",
    "# For example if you gonna use apostrophe with a single quotes, you will produce an error.\n",
    "\n",
    "message = \"One of Python's strengths is its diverse community\" # only one apostrophe,no problem for python to read the string\n",
    "message"
   ]
  },
  {
   "cell_type": "code",
   "execution_count": 29,
   "metadata": {},
   "outputs": [
    {
     "ename": "SyntaxError",
     "evalue": "invalid syntax (<ipython-input-29-330f81b7ddff>, line 1)",
     "output_type": "error",
     "traceback": [
      "\u001b[1;36m  File \u001b[1;32m\"<ipython-input-29-330f81b7ddff>\"\u001b[1;36m, line \u001b[1;32m1\u001b[0m\n\u001b[1;33m    message = 'One of Python's strenghts is its diverse community'\u001b[0m\n\u001b[1;37m                             ^\u001b[0m\n\u001b[1;31mSyntaxError\u001b[0m\u001b[1;31m:\u001b[0m invalid syntax\n"
     ]
    }
   ],
   "source": [
    "#message = 'One of Python's strenghts is its diverse community' # The error occurs at ^ right after the second single quote\n",
    "message"
   ]
  },
  {
   "cell_type": "code",
   "execution_count": 33,
   "metadata": {},
   "outputs": [
    {
     "name": "stdout",
     "output_type": "stream",
     "text": [
      "Hello, Elizabeth would you like to learn python?\n"
     ]
    }
   ],
   "source": [
    "persons_name = \"Elizabeth\"\n",
    "text_to_person = \"Hello, \" + persons_name +\" \" + \"would you like to learn python?\"\n",
    "print(text_to_person)"
   ]
  },
  {
   "cell_type": "code",
   "execution_count": 34,
   "metadata": {},
   "outputs": [
    {
     "name": "stdout",
     "output_type": "stream",
     "text": [
      "MARK\n"
     ]
    }
   ],
   "source": [
    "persons_name = \"Mark\"\n",
    "print(persons_name.upper())"
   ]
  },
  {
   "cell_type": "code",
   "execution_count": 35,
   "metadata": {},
   "outputs": [
    {
     "name": "stdout",
     "output_type": "stream",
     "text": [
      "eric\n"
     ]
    }
   ],
   "source": [
    "persons_name = \"Eric\"\n",
    "print(persons_name.lower())"
   ]
  },
  {
   "cell_type": "code",
   "execution_count": 36,
   "metadata": {},
   "outputs": [
    {
     "name": "stdout",
     "output_type": "stream",
     "text": [
      "Sergey\n"
     ]
    }
   ],
   "source": [
    "persons_name = \"sergey\"\n",
    "print(persons_name.capitalize())"
   ]
  },
  {
   "cell_type": "code",
   "execution_count": 37,
   "metadata": {},
   "outputs": [
    {
     "name": "stdout",
     "output_type": "stream",
     "text": [
      "Udrick\n"
     ]
    }
   ],
   "source": [
    "persons_name = \"udrick\"\n",
    "print(persons_name.title())"
   ]
  },
  {
   "cell_type": "raw",
   "metadata": {},
   "source": [
    "quote = 'Nelson Mandela once said,\\n\\t \"The greatest glory in living lies not in never falling,\\n\\t but in rising every time we fall \"'\n",
    "print(quote)"
   ]
  },
  {
   "cell_type": "code",
   "execution_count": 42,
   "metadata": {},
   "outputs": [
    {
     "name": "stdout",
     "output_type": "stream",
     "text": [
      "\tNelson Mandela once said, \"The greatest glory in living lies not in never falling,\n",
      "\tbut in rising every time we fall\"\n"
     ]
    }
   ],
   "source": [
    "quote = '\\tNelson Mandela once said, \"The greatest glory in living lies not in never falling,\\n\\tbut in rising every time we fall\"'\n",
    "print(quote)"
   ]
  },
  {
   "cell_type": "code",
   "execution_count": 47,
   "metadata": {},
   "outputs": [
    {
     "name": "stdout",
     "output_type": "stream",
     "text": [
      "\n",
      "\tNelson Mandela once said, \"The greatest glory in living lies not in never falling,\n",
      "\tbut in rising every time we fall\"\n"
     ]
    }
   ],
   "source": [
    "quote = 'once said, \"The greatest glory in living lies not in never falling,\\n\\tbut in rising every time we fall\"'\n",
    "famous_person = \" \\n\\tNelson Mandela \"\n",
    "message = famous_person + \" \" + quote\n",
    "print(message)\n"
   ]
  },
  {
   "cell_type": "code",
   "execution_count": 52,
   "metadata": {},
   "outputs": [
    {
     "name": "stdout",
     "output_type": "stream",
     "text": [
      "\n",
      "\tNelson Mandela\n"
     ]
    }
   ],
   "source": [
    "quote = 'once said, \"The greatest glory in living lies not in never falling,\\n\\tbut in rising every time we fall\"'\n",
    "famous_person = \"\\n\\tNelson Mandela\"\n",
    "\n",
    "print(famous_person)"
   ]
  },
  {
   "cell_type": "code",
   "execution_count": 53,
   "metadata": {},
   "outputs": [
    {
     "name": "stdout",
     "output_type": "stream",
     "text": [
      "Nelson Mandela\n"
     ]
    }
   ],
   "source": [
    "print(famous_person.lstrip())"
   ]
  },
  {
   "cell_type": "code",
   "execution_count": 54,
   "metadata": {},
   "outputs": [
    {
     "name": "stdout",
     "output_type": "stream",
     "text": [
      "\n",
      "\tNelson Mandela\n"
     ]
    }
   ],
   "source": [
    "print(famous_person.rstrip())"
   ]
  },
  {
   "cell_type": "code",
   "execution_count": 55,
   "metadata": {},
   "outputs": [
    {
     "name": "stdout",
     "output_type": "stream",
     "text": [
      "Nelson Mandela\n"
     ]
    }
   ],
   "source": [
    "print(famous_person.strip())"
   ]
  },
  {
   "cell_type": "code",
   "execution_count": null,
   "metadata": {},
   "outputs": [],
   "source": []
  }
 ],
 "metadata": {
  "kernelspec": {
   "display_name": "Python 3",
   "language": "python",
   "name": "python3"
  },
  "language_info": {
   "codemirror_mode": {
    "name": "ipython",
    "version": 3
   },
   "file_extension": ".py",
   "mimetype": "text/x-python",
   "name": "python",
   "nbconvert_exporter": "python",
   "pygments_lexer": "ipython3",
   "version": "3.8.5"
  }
 },
 "nbformat": 4,
 "nbformat_minor": 4
}
