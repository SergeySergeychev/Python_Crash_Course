{
 "cells": [
  {
   "cell_type": "code",
   "execution_count": null,
   "metadata": {},
   "outputs": [],
   "source": [
    "# USERS INPUT AND WHILE LOOPS"
   ]
  },
  {
   "cell_type": "code",
   "execution_count": null,
   "metadata": {},
   "outputs": [],
   "source": [
    "# How input function works"
   ]
  },
  {
   "cell_type": "code",
   "execution_count": null,
   "metadata": {},
   "outputs": [],
   "source": [
    "message = input(\"Tell me something, and i will repeat it back to you: \")\n",
    "print(message)"
   ]
  },
  {
   "cell_type": "code",
   "execution_count": null,
   "metadata": {},
   "outputs": [],
   "source": [
    "# Write Clear Prompts.\n",
    "\n",
    "name = input(\"Please enter your name: \") # add a space at the end of your prompts.\n",
    "print(\"Hello, \" + name + \"!\")"
   ]
  },
  {
   "cell_type": "code",
   "execution_count": null,
   "metadata": {},
   "outputs": [],
   "source": [
    "prompt = \"if you tell us who you are, we can personalize the message you see.\"\n",
    "prompt += \"\\nWhat is you first name? \" # The operator += takes the string that was stored in prompt and adds the new \n",
    "                                        # the new string onto the end.\n",
    "\n",
    "name = input(prompt)\n",
    "print(\"\\nHello, \" + name + \"!\")"
   ]
  },
  {
   "cell_type": "code",
   "execution_count": null,
   "metadata": {},
   "outputs": [],
   "source": [
    "# Using int() to Accept Numerical Input.\n",
    "# When you use the input() function, Python interprets everything the user enters as a string."
   ]
  },
  {
   "cell_type": "code",
   "execution_count": null,
   "metadata": {},
   "outputs": [],
   "source": [
    "age = input(\"How old are you? \")\n",
    "age\n"
   ]
  },
  {
   "cell_type": "code",
   "execution_count": null,
   "metadata": {},
   "outputs": [],
   "source": [
    "age = input(\"How old are you? \")\n",
    "age >= 18\n"
   ]
  },
  {
   "cell_type": "code",
   "execution_count": null,
   "metadata": {},
   "outputs": [],
   "source": [
    "age = input(\"How old are you? \")\n",
    "age = int(age) # The function int() converts a string representation to numerical respresentation.\n",
    "age >= 18"
   ]
  },
  {
   "cell_type": "code",
   "execution_count": null,
   "metadata": {},
   "outputs": [],
   "source": [
    "height = input(\"How tall are you, in inches? \")\n",
    "height = int(height)\n",
    "\n",
    "if height >= 36:\n",
    "    print(\"\\nYou're tall enough to ride!\")\n",
    "else:\n",
    "    print(\"\\n You'll be able to ride when you're a little older.\")"
   ]
  },
  {
   "cell_type": "code",
   "execution_count": null,
   "metadata": {},
   "outputs": [],
   "source": [
    "# The Modulo Operator\n",
    "# Modulo operator(%) which divides one number by another number and returns the remainder:"
   ]
  },
  {
   "cell_type": "code",
   "execution_count": null,
   "metadata": {},
   "outputs": [],
   "source": [
    "4 % 3"
   ]
  },
  {
   "cell_type": "code",
   "execution_count": null,
   "metadata": {},
   "outputs": [],
   "source": [
    "5 % 3"
   ]
  },
  {
   "cell_type": "code",
   "execution_count": null,
   "metadata": {},
   "outputs": [],
   "source": [
    "6 % 3"
   ]
  },
  {
   "cell_type": "code",
   "execution_count": null,
   "metadata": {},
   "outputs": [],
   "source": [
    "number = input(\"Enter a number, and I'll tell you if it's even or odd: \")\n",
    "number = int(number)\n",
    "\n",
    "if number % 2 == 0:\n",
    "    print(\"\\nThe number \" + str(number) + \" is even.\")\n",
    "else:\n",
    "    print(\"\\nThe number \" + str(number) + \" is odd.\")"
   ]
  },
  {
   "cell_type": "code",
   "execution_count": null,
   "metadata": {},
   "outputs": [],
   "source": [
    "# Introducing while Loops"
   ]
  },
  {
   "cell_type": "code",
   "execution_count": null,
   "metadata": {},
   "outputs": [],
   "source": [
    "current_number = 1 # starting point of the loop while.\n",
    "while current_number <= 5: # python repeats the loop as long as condition is True.\n",
    "    print(current_number) # prints current_number.\n",
    "    current_number += 1 # this code is equal to current_number = current_number + 1."
   ]
  },
  {
   "cell_type": "code",
   "execution_count": null,
   "metadata": {},
   "outputs": [],
   "source": [
    "prompt = \"\\nTell me something, and I will repeat it back to you:\"\n",
    "prompt += \"\\nEnter 'quit' to end the program. \"\n",
    "message = \"\"\n",
    "while message != 'quit':    \n",
    "    message = input(prompt)\n",
    "    print(message)"
   ]
  },
  {
   "cell_type": "code",
   "execution_count": null,
   "metadata": {
    "scrolled": false
   },
   "outputs": [],
   "source": [
    "prompt = \"\\nTell me something, and I will repeat it back to you:\"\n",
    "prompt += \"\\nEnter 'quit' to end the program. \"\n",
    "\n",
    "message = \"\"\n",
    "while message != 'quit':    \n",
    "    message = input(prompt)\n",
    "    \n",
    "    if message != 'quit':\n",
    "        print(message)\n",
    "    "
   ]
  },
  {
   "cell_type": "code",
   "execution_count": null,
   "metadata": {},
   "outputs": [],
   "source": [
    "prompt = \"\\nTell me something, and I will repeat it back to you:\"\n",
    "prompt += \"\\nEnter 'quit' to end the program. \"\n",
    "\n",
    "active = True\n",
    "while active:\n",
    "    message = input(prompt)\n",
    "    \n",
    "    if message == 'quit':\n",
    "        active = False\n",
    "    else:\n",
    "        print(message)"
   ]
  },
  {
   "cell_type": "code",
   "execution_count": null,
   "metadata": {},
   "outputs": [],
   "source": [
    "#  7-1.Rental Car\n",
    "\n",
    "rental_car = input(\"Which car did you chouse: \")\n",
    "print(\"Let me see if i can find you a \" + rental_car)"
   ]
  },
  {
   "cell_type": "code",
   "execution_count": null,
   "metadata": {},
   "outputs": [],
   "source": [
    "people_quantity = \"Hello, tell me please how many \"\n",
    "people_quantity += \"people are in your dinner group? \"\n",
    "\n",
    "prompt = input(people_quantity)\n",
    "prompt = int(prompt)\n",
    "\n",
    "if prompt >= 8:\n",
    "    print(\"Sorry, you will have to wait.\")\n",
    "else: \n",
    "    print(\"Your table is ready.\")"
   ]
  },
  {
   "cell_type": "code",
   "execution_count": null,
   "metadata": {},
   "outputs": [],
   "source": [
    "number = input(\"Please enter a number: \")\n",
    "number = int(number)\n",
    "\n",
    "if number % 10 == 0:\n",
    "    print(\"The number: \" + str(number) + \" is multiple of 10.\" )\n",
    "else:\n",
    "    print(\"The number: \" + str(number) + \" is not multiple of 10.\")"
   ]
  },
  {
   "cell_type": "code",
   "execution_count": null,
   "metadata": {},
   "outputs": [],
   "source": [
    "# Using break to Exit a Loop\n"
   ]
  },
  {
   "cell_type": "code",
   "execution_count": null,
   "metadata": {},
   "outputs": [],
   "source": [
    "prompt = \"\\nPlease enter the name of a city you have visited:\"\n",
    "prompt = \"\\n(Enter 'quit' when you are finished.)\"\n",
    "\n",
    "while True:\n",
    "    city = input(prompt)\n",
    "    \n",
    "    if city == 'quit':# When enter 'quit', the break statement runs, causing Python to exit the loop.\n",
    "        break \n",
    "    else:\n",
    "        print(\"I'd love to go to \" + city.title() + \"!\")"
   ]
  },
  {
   "cell_type": "code",
   "execution_count": null,
   "metadata": {},
   "outputs": [],
   "source": [
    "# Using continue in a Loop\n",
    "\n",
    "current_number = 0 # Countdown point less then 10.\n",
    "\n",
    "while current_number < 10: # Loop checks numbers which are less then 10.\n",
    "    current_number += 1 # We increment(combine) the count by 1.\n",
    "    if current_number % 2 == 0: # if number is divisible by 2 with non reminder.\n",
    "        continue # continue ignore the rest of the loop and return to the beginning.\n",
    "                 # If the current number is not divisible by 2 , the rest of the loops  is executed.   \n",
    "    print(current_number)\n",
    "    \n"
   ]
  },
  {
   "cell_type": "code",
   "execution_count": null,
   "metadata": {},
   "outputs": [],
   "source": [
    "# Avoiding ifinite Loops.\n",
    "\n",
    "x = 1 \n",
    "while x <= 5:\n",
    "    print(x)\n",
    "    x += 1"
   ]
  },
  {
   "cell_type": "code",
   "execution_count": null,
   "metadata": {},
   "outputs": [],
   "source": [
    "adding_topping = \"Choose your pizza's topping: \"\n",
    "topping = \"\"\n",
    "while topping != 'quit':\n",
    "    topping = input(adding_topping)\n",
    "    \n",
    "    if topping != 'quit':\n",
    "        print(\"You have added \" +topping)\n",
    "   "
   ]
  },
  {
   "cell_type": "code",
   "execution_count": null,
   "metadata": {},
   "outputs": [],
   "source": []
  },
  {
   "cell_type": "code",
   "execution_count": null,
   "metadata": {},
   "outputs": [],
   "source": [
    "        \n",
    "prompt = \"Please tell me how old are you: \" \n",
    "\n",
    "while True:\n",
    "    age = input(prompt)\n",
    "    age = int(age)\n",
    "    \n",
    "    if age >= 18:\n",
    "        print(\"You are old enough. You can come in.\")\n",
    "        break\n",
    "    else:\n",
    "        print(\"Sorry you can't come in.\")\n",
    "        "
   ]
  },
  {
   "cell_type": "code",
   "execution_count": null,
   "metadata": {
    "scrolled": true
   },
   "outputs": [],
   "source": [
    "prompt_age = \"How old are you? \"\n",
    "age = input(prompt_age)\n",
    "age = int(age)\n",
    "ticket = \"Your ticket price will be: \"\n",
    "\n",
    "while age: \n",
    "    if age < 3:\n",
    "        ticket_price = 0\n",
    "        print(ticket + str(ticket_price))\n",
    "        if age < 3:\n",
    "            break\n",
    "            \n",
    "    elif age < 10:\n",
    "        ticket_price = 5\n",
    "        print(ticket + str(ticket_price))\n",
    "        if age < 10:\n",
    "            break\n",
    "            \n",
    "    else:       \n",
    "        ticket_price = 10 \n",
    "        if age >=10:\n",
    "            print(ticket + str(ticket_price))\n",
    "            break                "
   ]
  },
  {
   "cell_type": "code",
   "execution_count": null,
   "metadata": {},
   "outputs": [],
   "source": [
    "current_number = input(\"Enter numerical: \")    \n",
    "number = int(current_number)\n",
    "\n",
    "while number < 21:\n",
    "    number += 1\n",
    "    if number % 3 == 0:\n",
    "        continue\n",
    "        \n",
    "    print(\"\\t\",number)"
   ]
  },
  {
   "cell_type": "code",
   "execution_count": 5,
   "metadata": {
    "scrolled": false
   },
   "outputs": [
    {
     "name": "stdout",
     "output_type": "stream",
     "text": [
      "How old are you? 2\n",
      "If you wan't to exit , type 'quit'quit\n"
     ]
    }
   ],
   "source": [
    "\n",
    "   \n",
    "            \n",
    "    "
   ]
  },
  {
   "cell_type": "code",
   "execution_count": null,
   "metadata": {},
   "outputs": [],
   "source": []
  }
 ],
 "metadata": {
  "kernelspec": {
   "display_name": "Python 3",
   "language": "python",
   "name": "python3"
  },
  "language_info": {
   "codemirror_mode": {
    "name": "ipython",
    "version": 3
   },
   "file_extension": ".py",
   "mimetype": "text/x-python",
   "name": "python",
   "nbconvert_exporter": "python",
   "pygments_lexer": "ipython3",
   "version": "3.8.5"
  }
 },
 "nbformat": 4,
 "nbformat_minor": 4
}
