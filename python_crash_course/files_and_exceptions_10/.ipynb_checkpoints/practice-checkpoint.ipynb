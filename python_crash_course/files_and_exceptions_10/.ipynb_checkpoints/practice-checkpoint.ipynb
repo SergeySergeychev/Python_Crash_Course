{
 "cells": [
  {
   "cell_type": "code",
   "execution_count": null,
   "metadata": {},
   "outputs": [],
   "source": [
    "# Reading from a file.\n",
    "\n",
    "# Reading an entire file.\n",
    "with open('pi_digits.txt') as file_object: # Function open the file from the mothers(executed files) directory.\n",
    "    contents = file_object.read() # using method .read to read entire contents of the file pi_digits.txt\n",
    "    print(contents.rstrip()) # rstrip() removing extra blank line at the end of the file."
   ]
  },
  {
   "cell_type": "code",
   "execution_count": null,
   "metadata": {},
   "outputs": [],
   "source": [
    "file_path = r'C:\\Users\\sserg\\1PythonPractice\\python_crash_course'\n",
    "file_path +=r'\\Files_and_exceptions_10\\python_work\\text_files\\read_me.txt'\n",
    "print(file_path) \n",
    "with open(file_path) as file_object:\n",
    "    contents = file_object.read()\n",
    "    print(contents.rstrip())\n",
    " "
   ]
  },
  {
   "cell_type": "code",
   "execution_count": null,
   "metadata": {},
   "outputs": [],
   "source": [
    "# Reading line by Line\n",
    "\n",
    "filename = 'pi_digits.txt'\n",
    "\n",
    "with open(filename) as file_object: \n",
    "    for line in file_object: # looping through the file\n",
    "        print(line.rstrip())"
   ]
  },
  {
   "cell_type": "code",
   "execution_count": null,
   "metadata": {},
   "outputs": [],
   "source": [
    "# Making a List of Lines from a File\n",
    "\n",
    "filename = 'pi_digits.txt' # variable to open file.\n",
    "\n",
    "with open(filename) as file_object:\n",
    "    lines = file_object.readlines() # method readline stores each line in a list.\n",
    "    # Even after with block ended we can continue to work with file.\n",
    "print(lines,\"\\n\")\n",
    "for line in lines:\n",
    "    print(line.rstrip())"
   ]
  },
  {
   "cell_type": "code",
   "execution_count": null,
   "metadata": {},
   "outputs": [],
   "source": [
    "# Working with a File's Contents.\n",
    "filename = 'pi_digits.txt'\n",
    "\n",
    "with open(filename) as file_object:\n",
    "    lines = file_object.readlines()\n",
    "    print(lines)\n",
    "    \n",
    "pi_string = ''    \n",
    "for line in lines:\n",
    "    pi_string += line.rstrip() # adding each line digits to pi_string and removes newline characters.\n",
    "    \n",
    "print(pi_string)    \n",
    "print(len(pi_string)) # show how long(lenght) the string is.\n"
   ]
  },
  {
   "cell_type": "code",
   "execution_count": null,
   "metadata": {},
   "outputs": [],
   "source": [
    "# Working with a File's Contents.\n",
    "filename = 'pi_digits.txt'\n",
    "\n",
    "with open(filename) as file_object:\n",
    "    lines = file_object.readlines()\n",
    "    print(lines)\n",
    "    \n",
    "pi_string = ''    \n",
    "for line in lines:\n",
    "    pi_string += line.strip() # strip removes all whitespaces.\n",
    "    \n",
    "print(pi_string)    \n",
    "print(len(pi_string)) # show how long(lenght) the string is.\n",
    "# When we reading from text file, python interprets all text in the file as a string,\n",
    "# by using int() or float() we can work with values in numerical context"
   ]
  },
  {
   "cell_type": "code",
   "execution_count": null,
   "metadata": {},
   "outputs": [],
   "source": [
    "# Large Files: One Million Digits\n",
    "\n",
    "filename = 'pi_million_digits.txt'\n",
    "\n",
    "with open(filename) as file_object:\n",
    "    lines = file_object.readlines()\n",
    "    \n",
    "pi_string = ''\n",
    "for line in lines:\n",
    "    pi_string += line.strip()\n",
    "    \n",
    "print(pi_string[:52] + \"...\")\n",
    "print(len(pi_string))"
   ]
  },
  {
   "cell_type": "code",
   "execution_count": null,
   "metadata": {},
   "outputs": [],
   "source": [
    "filename = 'pi_million_digits.txt'\n",
    "\n",
    "with open(filename) as file_object:\n",
    "    lines = file_object.readlines()\n",
    "    \n",
    "pi_string = ''    \n",
    "for line in lines:\n",
    "    pi_string += line.strip()\n",
    "    \n",
    "birthday = input(\"Enter your birthday, in the form ddmmyy: \")\n",
    "if birthday in pi_string:\n",
    "    print(\"Your birthday appears in the first million digits of pi!\")\n",
    "else:\n",
    "    print(\"Your birthday does not appear in the first million digits of pi.\")\n",
    "    "
   ]
  },
  {
   "cell_type": "code",
   "execution_count": null,
   "metadata": {},
   "outputs": [],
   "source": [
    "file_path = r'C:\\Users\\sserg\\1PythonPractice'\n",
    "file_path += r'\\python_crash_course\\Files_and_exceptions_10\\pi_digits.txt'\n",
    "\n",
    "with open(file_path) as file_object:\n",
    "    lines = file_object.readlines()\n",
    "    print(lines)\n",
    "for line in lines:\n",
    "    print(line.rstrip())\n",
    "        \n",
    "    \n",
    "    "
   ]
  },
  {
   "cell_type": "code",
   "execution_count": null,
   "metadata": {},
   "outputs": [],
   "source": [
    "file_name = 'pi_digits.txt'\n",
    "\n",
    "with open(file_name) as file_object:\n",
    "    lines = file_object.readlines()\n",
    "\n",
    "pi_string = ''    \n",
    "for line in lines:\n",
    "    pi_string +=line.strip()\n",
    "    \n",
    "\n",
    "print(pi_string)\n",
    "print(len(pi_string))"
   ]
  },
  {
   "cell_type": "code",
   "execution_count": null,
   "metadata": {},
   "outputs": [],
   "source": [
    "filename = 'pi_million_digits.txt'\n",
    "\n",
    "with open(filename) as file_object:\n",
    "    lines = file_object.readlines()\n",
    "\n",
    "pi_string = ''    \n",
    "for line in lines: \n",
    "    pi_string += line.rstrip()\n",
    "    \n",
    "birthday = input(\"Enter your birthday, in the form ddmmyy:\")\n",
    "\n",
    "if birthday in pi_string:\n",
    "    print (\"Your birthday appears in the first digits of pi!\")\n",
    "else:\n",
    "    print(\"Your birthday does not appear in the first million digits of pi.\")\n",
    "    \n"
   ]
  },
  {
   "cell_type": "code",
   "execution_count": null,
   "metadata": {},
   "outputs": [],
   "source": [
    "x = 1\n",
    "type(1)"
   ]
  },
  {
   "cell_type": "code",
   "execution_count": null,
   "metadata": {},
   "outputs": [],
   "source": [
    "filename = 'learning_python.txt'\n",
    "\n",
    "with open(filename) as file_object:\n",
    "    contents = file_object.read()\n",
    "    print(contents)"
   ]
  },
  {
   "cell_type": "code",
   "execution_count": null,
   "metadata": {},
   "outputs": [],
   "source": [
    "filename = 'learning_python.txt'\n",
    "\n",
    "with open(filename) as file_object:\n",
    "    for line in file_object:\n",
    "        print(line.rstrip())"
   ]
  },
  {
   "cell_type": "code",
   "execution_count": null,
   "metadata": {},
   "outputs": [],
   "source": [
    "filename = 'learning_python.txt'\n",
    "\n",
    "with open(filename) as file_object:\n",
    "    lines = file_object.read()\n",
    "    lines = lines.replace('Python', 'C')    \n",
    "\n",
    "print(lines)"
   ]
  },
  {
   "cell_type": "code",
   "execution_count": null,
   "metadata": {},
   "outputs": [],
   "source": [
    "# Writing to a File\n",
    "\n",
    "filename = 'programming.txt'\n",
    "\n",
    "with open(filename, 'w') as file_object:\n",
    "    file_object.write(\"I love programming.\\n\")\n",
    "    file_object.write(\"I love creating new games.\\n\")\n",
    "with open(filename) as file_object:\n",
    "    contents = file_object.read()\n",
    "    print(contents)"
   ]
  },
  {
   "cell_type": "code",
   "execution_count": null,
   "metadata": {},
   "outputs": [],
   "source": [
    "# Appending to a File\n",
    "# If you want to add content to a file instead of writing over existing content, you can open the file in apppend mode.'a'\n",
    "\n",
    "filename = 'programming.txt'\n",
    "\n",
    "with open(filename, 'a') as file_object: # with 'a' argument to open the file for appending rather than writing over...\n",
    "    file_object.write(\"I aslo love finding meaning in large datasets.\\n\")\n",
    "    file_object.write(\"I love creating apps that can run in a browser.\\n\")\n",
    "    \n",
    "with open(filename) as file_object:  \n",
    "    contents = file_object.read()\n",
    "    print(contents)\n",
    "    \n",
    "    "
   ]
  },
  {
   "cell_type": "code",
   "execution_count": null,
   "metadata": {},
   "outputs": [],
   "source": [
    "filename = 'guest.txt'\n",
    "\n",
    "nickname = input(\"Enter your nickname: \")\n",
    "\n",
    "with open(filename, 'w') as file_object:\n",
    "    file_object.write(nickname)\n",
    "    \n",
    "    \n",
    "with open(filename) as file_object:\n",
    "    contents = file_object.read()\n",
    "    print(contents)"
   ]
  },
  {
   "cell_type": "code",
   "execution_count": null,
   "metadata": {},
   "outputs": [],
   "source": [
    "filename = 'guest_book'\n",
    "\n",
    "username = input(\"Enter your name: \")\n",
    "                  \n",
    "with open(filename, 'a') as file_object:\n",
    "    while file_object:\n",
    "        print(\"Hello, \" + username.title() + \"!\")\n",
    "        approved_visit = username.title() + \" has been added to guest book.\\n\"\n",
    "        file_object.write(approved_visit)\n",
    "        \n",
    "        break"
   ]
  },
  {
   "cell_type": "code",
   "execution_count": null,
   "metadata": {},
   "outputs": [],
   "source": [
    "filename = 'guest_book'\n",
    "\n",
    "with open(filename, 'a') as file_object:\n",
    "    while file_object:\n",
    "        user_name = input(\"Enter your name: \")\n",
    "        print(\"Hello, \" + user_name.title() + \"!\")\n",
    "        approved_visit = user_name.title() + \" has been added to guest book.\"\n",
    "        file_object.write(approved_visit)\n",
    "        break\n",
    "        \n",
    "      \n",
    "        "
   ]
  },
  {
   "cell_type": "code",
   "execution_count": null,
   "metadata": {},
   "outputs": [],
   "source": [
    "filename = 'guest_book'\n",
    "\n",
    "with open(filename, 'a') as file_object:\n",
    "    while file_object:\n",
    "        \n",
    "        username = input(\"Enter your name: \") # Enter you username.\n",
    "        print(\"Hello, \" + username.title() + \"!\") # Greets user.\n",
    "        approved_visit =username.title() + \" has been added to guest book.\\n\"\n",
    "        file_object.write(approved_visit) # Recording visits of user in guest book.\n",
    "        \n",
    "        \n",
    "        quit_option = input(\"Enter 'q' to quit: \") # Quiting the infinity loop.\n",
    "        if quit_option == 'q':\n",
    "            break"
   ]
  },
  {
   "cell_type": "code",
   "execution_count": null,
   "metadata": {},
   "outputs": [],
   "source": [
    "filename = 'i_like_programming.txt'\n",
    "\n",
    "interview = input(\"\\nTell me, why do you like programming?:\\n\")\n",
    "\n",
    "with open(filename, 'a') as file_object:\n",
    "    while file_object:\n",
    "        file_object.write(interview + \"\\n\")\n",
    "        \n",
    "        break"
   ]
  },
  {
   "cell_type": "code",
   "execution_count": null,
   "metadata": {},
   "outputs": [],
   "source": [
    "name = input(\"What's you name? \")\n",
    "\n",
    "filename = 'guest.txt'\n",
    "\n",
    "with open(filename, 'w') as file_object:\n",
    "    file_object.write(name)"
   ]
  },
  {
   "cell_type": "code",
   "execution_count": 3,
   "metadata": {},
   "outputs": [
    {
     "name": "stdout",
     "output_type": "stream",
     "text": [
      "\n",
      "What's you name? alex\n",
      "Hi alex, you've been added to the guest book.\n",
      "\n",
      "What's you name? quit\n"
     ]
    }
   ],
   "source": [
    "filename = 'guest_book.txt'\n",
    "while True:\n",
    "    name = input(\"\\nWhat's you name? \")\n",
    "    if name == 'quit':\n",
    "        break\n",
    "    else:\n",
    "        with open(filename, 'a') as file_object:\n",
    "            file_object.write(name +\"\\n\")\n",
    "        print(\"Hi \" + name + \", you've been added to the guest book.\")    "
   ]
  },
  {
   "cell_type": "code",
   "execution_count": 7,
   "metadata": {},
   "outputs": [
    {
     "name": "stdout",
     "output_type": "stream",
     "text": [
      "\n",
      "Why do you like programming? I want create smart machines\n",
      "Whould you like to let someone else respond? (y/n) n\n"
     ]
    }
   ],
   "source": [
    "filename = 'programming_poll.txt'\n",
    "\n",
    "responses = []\n",
    "while True:\n",
    "    response = input(\"\\nWhy do you like programming? \")\n",
    "    responses.append(response)\n",
    "    \n",
    "    continue_poll = input(\"Whould you like to let someone else respond? (y/n) \")\n",
    "    if continue_poll != 'y':\n",
    "        break\n",
    "        \n",
    "with open(filename, 'a') as file_object:\n",
    "    for response in responses:\n",
    "        file_object.write(response + \"\\n\")"
   ]
  },
  {
   "cell_type": "code",
   "execution_count": null,
   "metadata": {},
   "outputs": [],
   "source": []
  }
 ],
 "metadata": {
  "kernelspec": {
   "display_name": "Python 3",
   "language": "python",
   "name": "python3"
  },
  "language_info": {
   "codemirror_mode": {
    "name": "ipython",
    "version": 3
   },
   "file_extension": ".py",
   "mimetype": "text/x-python",
   "name": "python",
   "nbconvert_exporter": "python",
   "pygments_lexer": "ipython3",
   "version": "3.8.5"
  }
 },
 "nbformat": 4,
 "nbformat_minor": 4
}
