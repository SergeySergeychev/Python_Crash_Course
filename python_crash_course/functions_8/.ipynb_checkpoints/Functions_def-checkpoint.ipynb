{
 "cells": [
  {
   "cell_type": "code",
   "execution_count": null,
   "metadata": {},
   "outputs": [],
   "source": [
    "# Functions\n",
    "\n",
    "# Function is named block of code that are designed to do one specific job.''"
   ]
  },
  {
   "cell_type": "code",
   "execution_count": null,
   "metadata": {},
   "outputs": [],
   "source": [
    "def greet_user():\n",
    "    \"\"\"Display a  simple greeting.\"\"\"\n",
    "    print(\"Hello!\")\n",
    "    \n",
    "greet_user()    "
   ]
  },
  {
   "cell_type": "code",
   "execution_count": null,
   "metadata": {},
   "outputs": [],
   "source": [
    "# Passing Information to a Funciton.\n",
    "\n",
    "def greet_user(username):\n",
    "    \"\"\"Display a simple greeting to user\"\"\"\n",
    "    print(\"Hello, \" + username.title() + \"!\")\n",
    "    \n",
    "greet_user('jesse')# In this casse argument 'jesse' was passed to the function greet_useer()\n",
    "                    # , and the value was stored in parameter username\n",
    "   "
   ]
  },
  {
   "cell_type": "code",
   "execution_count": null,
   "metadata": {},
   "outputs": [],
   "source": [
    "# Arguments and Parameters."
   ]
  },
  {
   "cell_type": "code",
   "execution_count": null,
   "metadata": {},
   "outputs": [],
   "source": [
    "def display_message():\n",
    "    \"Display a message\"\n",
    "    print(\"I have learned that argument have been stored in fuctions parameter\")\n",
    "    \n",
    "display_message()    "
   ]
  },
  {
   "cell_type": "code",
   "execution_count": null,
   "metadata": {},
   "outputs": [],
   "source": [
    "def favorite_book(title):\n",
    "    \"\"\"Function prints one of my favorite books\"\"\"\n",
    "    print(\"One of my favorite book is \" + title.title())\n",
    "    \n",
    "favorite_book('mama')    "
   ]
  },
  {
   "cell_type": "code",
   "execution_count": null,
   "metadata": {},
   "outputs": [],
   "source": [
    "def describe_pet(animal_type, pet_name):\n",
    "    \"\"\"Display information about a pet.\"\"\"\n",
    "    print(\"\\nI have a \" + animal_type + \".\")\n",
    "    print(\"My \" + animal_type + \"'s name is \" + pet_name.title() + \".\")\n",
    "    \n",
    "describe_pet('hamster', 'harry')\n",
    "describe_pet('dog', 'willie')"
   ]
  },
  {
   "cell_type": "code",
   "execution_count": null,
   "metadata": {},
   "outputs": [],
   "source": [
    "# Order matters in positional Arguments\n",
    "describe_pet('harry', 'hamster') # check if your call mathches the order of the parameters in the function def."
   ]
  },
  {
   "cell_type": "code",
   "execution_count": null,
   "metadata": {},
   "outputs": [],
   "source": [
    "# Keyword Arguments\n",
    "\n",
    "def describe_pet(animal_type, pet_name):\n",
    "    \"\"\"Display information about a pet.\"\"\"\n",
    "    print(\"\\nI have a \" + animal_type + \".\")\n",
    "    print(\"My \" + animal_type + \"'s name is \" + pet_name.title() + \".\")\n",
    "\n",
    "describe_pet(animal_type = 'hamster', pet_name = 'harry')  \n",
    "# The order of keyword arguments doesn't matter because Python knows where each value should go.\n",
    "describe_pet(pet_name = 'harry', animal_type ='hamster')"
   ]
  },
  {
   "cell_type": "code",
   "execution_count": null,
   "metadata": {},
   "outputs": [],
   "source": [
    "def describe_pet(pet_name, animal_type = 'dog'):\n",
    "    \"\"\"Display information about a pet.\"\"\"\n",
    "    print(\"\\nI have a \" + animal_type + \".\")\n",
    "    print(\"My \" + animal_type + \"'s name is \" + pet_name.title() + \".\")\n",
    "    \n",
    "describe_pet('willie') \n",
    "describe_pet(pet_name = 'willie')"
   ]
  },
  {
   "cell_type": "code",
   "execution_count": null,
   "metadata": {},
   "outputs": [],
   "source": [
    "describe_pet(pet_name = 'willie',animal_type = 'parrot')\n",
    "# Because an explicit argument for animal_type is provided, Python  will ignore the parameter's default value."
   ]
  },
  {
   "cell_type": "code",
   "execution_count": null,
   "metadata": {},
   "outputs": [],
   "source": [
    "# When you use default values, any parameter with a default value needs to be listed after all the parameters \n",
    "# that don't have default values."
   ]
  },
  {
   "cell_type": "code",
   "execution_count": null,
   "metadata": {},
   "outputs": [],
   "source": [
    "# Equivalent Function Calls\n",
    "# It doesn't really matter wich calling style you use. As long as your function calls produce \n",
    "# the output you want, just use the style you find easiest to understand."
   ]
  },
  {
   "cell_type": "code",
   "execution_count": null,
   "metadata": {},
   "outputs": [],
   "source": [
    "def make_t_shirt(printed_text, size_of_t_shirt = 'medium'):          \n",
    "    print(\"The size of T-Shirt is \" + size_of_t_shirt + \" with text on it: \" + printed_text)\n",
    "        \n",
    "make_t_shirt(printed_text = 'how do you like my text?')  \n",
    "\n",
    "        "
   ]
  },
  {
   "cell_type": "code",
   "execution_count": null,
   "metadata": {},
   "outputs": [],
   "source": [
    "def describe_city(name_of_a_city, country ):\n",
    "    print(name_of_a_city.title() + \" is city in \" + country.title())\n",
    "    \n",
    "describe_city(country = 'russia', name_of_a_city = 'moscow')    "
   ]
  },
  {
   "cell_type": "code",
   "execution_count": null,
   "metadata": {},
   "outputs": [],
   "source": [
    "# Return Value\n",
    "# The value the function returns is called a return value."
   ]
  },
  {
   "cell_type": "code",
   "execution_count": null,
   "metadata": {},
   "outputs": [],
   "source": [
    "# Returning a simple value"
   ]
  },
  {
   "cell_type": "code",
   "execution_count": null,
   "metadata": {},
   "outputs": [],
   "source": [
    "def get_formatted_name(first_name, last_name):\n",
    "    \"\"\"Return a full name, neatly formatted.\"\"\"\n",
    "    full_name = first_name + ' ' + last_name\n",
    "    return full_name.title()\n",
    "\n",
    "musician = get_formatted_name('jimi', 'handrix')\n",
    "print(musician)"
   ]
  },
  {
   "cell_type": "code",
   "execution_count": null,
   "metadata": {},
   "outputs": [],
   "source": [
    "# Making an Argument Optional"
   ]
  },
  {
   "cell_type": "code",
   "execution_count": null,
   "metadata": {},
   "outputs": [],
   "source": [
    "def get_formatted_name(first_name, middle_name, last_name):\n",
    "    \"\"\"Return a full name, neatly formatted.\"\"\"\n",
    "    full_name = first_name + ' ' + middle_name + ' ' + last_name\n",
    "    return full_name.title()\n",
    "\n",
    "musician = get_formatted_name('john', 'lee', 'hooker')\n",
    "print(musician)"
   ]
  },
  {
   "cell_type": "code",
   "execution_count": null,
   "metadata": {},
   "outputs": [],
   "source": [
    "\n",
    "  \n",
    "def get_formatted_name(first_name, last_name, middle_name = ''):\n",
    "    \n",
    "    \"\"\"Return a full name, neatly formatted.\"\"\"\n",
    "    if middle_name:\n",
    "        full_name = first_name + ' ' + middle_name + ' ' + last_name\n",
    "    else:\n",
    "        full_name = first_name +' ' + last_name\n",
    "    return full_name.title()        \n",
    "        \n",
    "musician = get_formatted_name('jimi', 'handrix') \n",
    "print(musician)\n",
    "musician = get_formatted_name('jimi', 'handrix', 'lee')\n",
    "print(musician)"
   ]
  },
  {
   "cell_type": "code",
   "execution_count": null,
   "metadata": {},
   "outputs": [],
   "source": [
    "musician = get_formatted_name('jimi', 'handrix', 'lee')"
   ]
  },
  {
   "cell_type": "code",
   "execution_count": null,
   "metadata": {},
   "outputs": [],
   "source": [
    "# Returning a Dictionary\n",
    "\n",
    "def build_person(first_name, last_name):\n",
    "    \"\"\"Return a dictionary of iformation about a person.\"\"\"\n",
    "    person = {'first': first_name, 'last': last_name}\n",
    "    return person\n",
    "\n",
    "musician = build_person('jimi','handrix')\n",
    "print(musician)"
   ]
  },
  {
   "cell_type": "code",
   "execution_count": null,
   "metadata": {},
   "outputs": [],
   "source": [
    "def build_person(first_name, last_name, age=''):\n",
    "    \"\"\"Return a dictionary of iformation about a person.\"\"\"\n",
    "    person = {'first': first_name, 'last': last_name}\n",
    "    if age:\n",
    "        person['age'] = age\n",
    "    return person    \n",
    "\n",
    "musician = build_person(first_name = 'jimi',last_name ='handrix',age = 27)\n",
    "print(musician)"
   ]
  },
  {
   "cell_type": "code",
   "execution_count": null,
   "metadata": {},
   "outputs": [],
   "source": [
    "# Using a Function with a while loop"
   ]
  },
  {
   "cell_type": "code",
   "execution_count": null,
   "metadata": {},
   "outputs": [],
   "source": [
    "def get_formatted_name(first_name, last_name):\n",
    "    \"\"\"Return a dictionary of iformation about a person.\"\"\"\n",
    "    person = {'first': first_name, 'last': last_name}\n",
    "    return person\n",
    "\n",
    "# This is an ifinite loop!\n",
    "\n",
    "while True:\n",
    "    print(\"\\nPlease tell me your name:\")\n",
    "    f_name = input(\"First name: \")\n",
    "    l_name = input(\"Last name: \")\n",
    "    \n",
    "    formated_name = get_formatted_name(f_name, l_name)\n",
    "    print(formated_name)"
   ]
  },
  {
   "cell_type": "code",
   "execution_count": null,
   "metadata": {
    "scrolled": true
   },
   "outputs": [],
   "source": [
    "def get_formatted_name(first_name, last_name):\n",
    "    \"\"\"Return a dictionary of iformation about a person.\"\"\"\n",
    "    full_name = first_name + ' ' + last_name\n",
    "    return full_name\n",
    "\n",
    "while True:\n",
    "    print(\"\\nPlease tell me your name: \")\n",
    "    print(\"(enter 'q' at any time to quit)\")\n",
    "\n",
    "    f_name = input(\"First name: \")\n",
    "    if f_name == 'q':\n",
    "        break\n",
    "        \n",
    "    l_name = input(\"Last name: \")        \n",
    "    if l_name == 'q':\n",
    "        break\n",
    "        \n",
    "    formated_name = get_formatted_name(f_name, l_name)\n",
    "    print(\"\\nHello, \" + formated_name + \"!\")    "
   ]
  },
  {
   "cell_type": "code",
   "execution_count": null,
   "metadata": {},
   "outputs": [],
   "source": [
    "def city_country(name_of_a_city, name_of_a_country):\n",
    "    \"\"\"Display city and country , neatly formatted.\"\"\"\n",
    "    cities_countries = name_of_a_city + \", \" + name_of_a_country\n",
    "    return cities_countries.title()\n",
    "\n",
    "city_country = city_country('vilnius','lithuanie')\n",
    "print(city_country)"
   ]
  },
  {
   "cell_type": "code",
   "execution_count": null,
   "metadata": {},
   "outputs": [],
   "source": [
    "def make_album(artist_name, album_title, number_of_tracks=''):\n",
    "    \"Describe a music album.\"\n",
    "    album = {'artist name': artist_name.title(), 'album_title': album_title.title()}\n",
    "    \n",
    "    if number_of_tracks:\n",
    "        album['number of tracks'] = number_of_tracks\n",
    "    return album\n",
    "             \n",
    "finished_album = make_album('jimi handrix' ,'never give up', 10)  \n",
    "print(finished_album)"
   ]
  },
  {
   "cell_type": "code",
   "execution_count": null,
   "metadata": {},
   "outputs": [],
   "source": [
    "album = {'artisn name': 'jimi', 'album_title': 'never give up'}\n",
    "album['number of tracks'] = 10\n",
    "print(album)"
   ]
  },
  {
   "cell_type": "code",
   "execution_count": 2,
   "metadata": {},
   "outputs": [
    {
     "name": "stdout",
     "output_type": "stream",
     "text": [
      "Hello, tell me you favorite artists name and album: \n",
      "Artists name: jimi\n",
      "Albums title: handrix\n",
      "Tracks quantity: 10\n",
      "{'artist name': 'Jimi', 'album_title': 'Handrix', 'number of tracks': '10'}\n",
      "enter 'q' to quit.q\n"
     ]
    }
   ],
   "source": [
    "def make_album(artist_name, album_title, number_of_tracks=''):\n",
    "    \"Describe a music album.\"\n",
    "    album = {'artist name': artist_name.title(), 'album_title': album_title.title()}\n",
    "    \n",
    "    if number_of_tracks:\n",
    "        album['number of tracks'] = number_of_tracks\n",
    "    return album\n",
    "\n",
    "while True:\n",
    "    print(\"Hello, tell me you favorite artists name and album: \")\n",
    "    \n",
    "    a_name = input(\"Artists name: \")\n",
    "        \n",
    "    a_title = input(\"Albums title: \")\n",
    "  \n",
    "    t_quantity = input(\"Tracks quantity: \")\n",
    "    \n",
    "    favorite_album = make_album(a_name, a_title, t_quantity)        \n",
    "    print(favorite_album)\n",
    "    \n",
    "    quit = input(\"enter 'q' to quit.\")\n",
    "    if quit == 'q':\n",
    "        break\n",
    "    else:\n",
    "        continue\n",
    "    \n",
    "   \n",
    "       "
   ]
  },
  {
   "cell_type": "code",
   "execution_count": null,
   "metadata": {},
   "outputs": [],
   "source": []
  },
  {
   "cell_type": "code",
   "execution_count": null,
   "metadata": {},
   "outputs": [],
   "source": []
  }
 ],
 "metadata": {
  "kernelspec": {
   "display_name": "Python 3",
   "language": "python",
   "name": "python3"
  },
  "language_info": {
   "codemirror_mode": {
    "name": "ipython",
    "version": 3
   },
   "file_extension": ".py",
   "mimetype": "text/x-python",
   "name": "python",
   "nbconvert_exporter": "python",
   "pygments_lexer": "ipython3",
   "version": "3.8.5"
  }
 },
 "nbformat": 4,
 "nbformat_minor": 4
}
