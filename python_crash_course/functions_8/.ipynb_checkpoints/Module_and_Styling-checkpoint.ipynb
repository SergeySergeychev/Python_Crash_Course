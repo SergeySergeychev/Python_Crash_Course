{
 "cells": [
  {
   "cell_type": "code",
   "execution_count": 16,
   "metadata": {},
   "outputs": [],
   "source": [
    "# Importing an Entire Module"
   ]
  },
  {
   "cell_type": "code",
   "execution_count": 9,
   "metadata": {},
   "outputs": [
    {
     "name": "stdout",
     "output_type": "stream",
     "text": [
      "\n",
      "Making a 16-inch pizza with the folowing toppings.\n",
      "- mushrooms\n",
      "- green peppers\n",
      "- extra cheese\n"
     ]
    }
   ],
   "source": [
    "def make_pizza(size, *toppings):\n",
    "    \"\"\"Summarize the pizza we are about to make.\"\"\"\n",
    "    print(\"\\nMaking a \" + str(size) + \n",
    "          \"-inch pizza with the folowing toppings.\")\n",
    "    for topping in toppings:\n",
    "        print(\"- \" + topping)"
   ]
  },
  {
   "cell_type": "code",
   "execution_count": 17,
   "metadata": {},
   "outputs": [
    {
     "name": "stdout",
     "output_type": "stream",
     "text": [
      "\n",
      "Making a 16-inch pizza with the folowing toppings.\n",
      "- mushrooms\n",
      "- green peppers\n",
      "- extra cheese\n"
     ]
    }
   ],
   "source": [
    "import my_pizza \n",
    "make_pizza(16, 'mushrooms','green peppers', 'extra cheese')        "
   ]
  },
  {
   "cell_type": "code",
   "execution_count": 18,
   "metadata": {
    "scrolled": true
   },
   "outputs": [
    {
     "name": "stdout",
     "output_type": "stream",
     "text": [
      "\n",
      "Making a 16-inch pizza with the folowing toppings.\n",
      "- mushrooms\n",
      "- onions\n",
      "- extra cheese\n"
     ]
    }
   ],
   "source": [
    "# Importing specific function.\n",
    "# from module_name import function_name.\n",
    "\n",
    "from make_pizza import make_pizza\n",
    "make_pizza(16,'mushrooms', 'onions', 'extra cheese')\n"
   ]
  },
  {
   "cell_type": "code",
   "execution_count": 14,
   "metadata": {},
   "outputs": [
    {
     "name": "stdout",
     "output_type": "stream",
     "text": [
      "\n",
      "Making a 16-inch pizza with the folowing toppings.\n",
      "- mushrooms\n",
      "- onions\n",
      "- extra cheese\n"
     ]
    }
   ],
   "source": [
    "# Using as to give a Function an Alias.\n",
    "# from module_name import function_name as fn.\n",
    "\n",
    "from make_pizza import make_pizza as mp\n",
    "mp(16,'mushrooms', 'onions', 'extra cheese')"
   ]
  },
  {
   "cell_type": "code",
   "execution_count": 21,
   "metadata": {},
   "outputs": [
    {
     "name": "stdout",
     "output_type": "stream",
     "text": [
      "\n",
      "Making a 16-inch pizza with the folowing toppings.\n",
      "- mushrooms\n",
      "- onions\n",
      "- extra cheese\n"
     ]
    }
   ],
   "source": [
    "# Using as to give a Module an Alias.\n",
    "# import module_name as mn\n",
    "import make_pizza as m\n",
    "\n",
    "m.make_pizza(16,'mushrooms', 'onions', 'extra cheese')"
   ]
  },
  {
   "cell_type": "code",
   "execution_count": 23,
   "metadata": {},
   "outputs": [
    {
     "name": "stdout",
     "output_type": "stream",
     "text": [
      "\n",
      "Making a 16-inch pizza with the folowing toppings.\n",
      "- mushrooms\n",
      "- onions\n",
      "- extra cheese\n"
     ]
    }
   ],
   "source": [
    "# Importing All Function in a Module\n",
    "# from module_name import*\n",
    "\n",
    "from make_pizza import *\n",
    "make_pizza(16,'mushrooms', 'onions', 'extra cheese')\n"
   ]
  },
  {
   "cell_type": "code",
   "execution_count": 24,
   "metadata": {},
   "outputs": [],
   "source": [
    "# Styling Function.\n",
    "# Function should have descriptive names, and the names should use lowercase letters and underscores.\n",
    "# Every function should have a comment that explains concisely what the function does.\n",
    "# Use docstring format to describe function.\n",
    "# def function_name(parameter_0, parameter_1='default value'):! no spaces after equal sign.!\n",
    "# def function_name(parameter_0, parameter_1='default value'):! no spaces after equal sign.!"
   ]
  },
  {
   "cell_type": "code",
   "execution_count": 27,
   "metadata": {},
   "outputs": [],
   "source": [
    "#If function definition is longer than 79 characters.\n",
    "\n",
    "# def function name(\n",
    "#         parameter_0,paramaeter_1,parameter_2,\n",
    "#         parameter_3, parameter_4, parameter_5):\n",
    "            "
   ]
  },
  {
   "cell_type": "code",
   "execution_count": 26,
   "metadata": {},
   "outputs": [
    {
     "name": "stdout",
     "output_type": "stream",
     "text": [
      "Printing model: dodecahedron\n",
      "Printing model: robot pendant\n",
      "Printing model: iphone case\n"
     ]
    }
   ],
   "source": [
    "import printing_models\n",
    "\n",
    "unprinted_design = ['iphone case', 'robot pendant', 'dodecahedron']        \n",
    "completed_models = []\n",
    "\n",
    "printing_models.print_models(unprinted_design, completed_models)"
   ]
  },
  {
   "cell_type": "code",
   "execution_count": 28,
   "metadata": {},
   "outputs": [
    {
     "name": "stdout",
     "output_type": "stream",
     "text": [
      "Printing model: dodecahedron\n",
      "Printing model: robot pendant\n",
      "Printing model: iphone case\n",
      "\n",
      "The following models have been printed:\n",
      "dodecahedron\n",
      "robot pendant\n",
      "iphone case\n"
     ]
    }
   ],
   "source": [
    "import printing_functions         \n",
    "unprinted_design = ['iphone case', 'robot pendant', 'dodecahedron']        \n",
    "completed_models = []\n",
    "\n",
    "printing_functions.print_models(unprinted_design, completed_models)\n",
    "printing_functions.show_completed_models(completed_models)"
   ]
  },
  {
   "cell_type": "code",
   "execution_count": 30,
   "metadata": {},
   "outputs": [
    {
     "name": "stdout",
     "output_type": "stream",
     "text": [
      "Printing model: dodecahedron\n",
      "Printing model: robot pendant\n",
      "Printing model: iphone case\n"
     ]
    }
   ],
   "source": [
    "from printing_models import print_models\n",
    "\n",
    "unprinted_design = ['iphone case', 'robot pendant', 'dodecahedron']        \n",
    "completed_models = []\n",
    "\n",
    "print_models(unprinted_design, completed_models)"
   ]
  },
  {
   "cell_type": "code",
   "execution_count": 32,
   "metadata": {},
   "outputs": [
    {
     "name": "stdout",
     "output_type": "stream",
     "text": [
      "Printing model: dodecahedron\n",
      "Printing model: robot pendant\n",
      "Printing model: iphone case\n"
     ]
    }
   ],
   "source": [
    "from printing_models import print_models as pm\n",
    "unprinted_design = ['iphone case', 'robot pendant', 'dodecahedron']        \n",
    "completed_models = []\n",
    "\n",
    "pm(unprinted_design, completed_models)"
   ]
  },
  {
   "cell_type": "code",
   "execution_count": 37,
   "metadata": {},
   "outputs": [
    {
     "name": "stdout",
     "output_type": "stream",
     "text": [
      "Printing model: dodecahedron\n",
      "Printing model: robot pendant\n",
      "Printing model: iphone case\n"
     ]
    }
   ],
   "source": [
    "import printing_models as pm\n",
    "\n",
    "unprinted_design = ['iphone case', 'robot pendant', 'dodecahedron']        \n",
    "completed_models = []\n",
    "\n",
    "pm.print_models(unprinted_design, completed_models)"
   ]
  },
  {
   "cell_type": "code",
   "execution_count": 38,
   "metadata": {},
   "outputs": [
    {
     "name": "stdout",
     "output_type": "stream",
     "text": [
      "Printing model: dodecahedron\n",
      "Printing model: robot pendant\n",
      "Printing model: iphone case\n"
     ]
    }
   ],
   "source": [
    "from printing_models import *\n",
    "\n",
    "unprinted_design = ['iphone case', 'robot pendant', 'dodecahedron']        \n",
    "completed_models = []\n",
    "\n",
    "print_models(unprinted_design, completed_models)"
   ]
  },
  {
   "cell_type": "code",
   "execution_count": null,
   "metadata": {},
   "outputs": [],
   "source": []
  }
 ],
 "metadata": {
  "kernelspec": {
   "display_name": "Python 3",
   "language": "python",
   "name": "python3"
  },
  "language_info": {
   "codemirror_mode": {
    "name": "ipython",
    "version": 3
   },
   "file_extension": ".py",
   "mimetype": "text/x-python",
   "name": "python",
   "nbconvert_exporter": "python",
   "pygments_lexer": "ipython3",
   "version": "3.8.5"
  }
 },
 "nbformat": 4,
 "nbformat_minor": 4
}
