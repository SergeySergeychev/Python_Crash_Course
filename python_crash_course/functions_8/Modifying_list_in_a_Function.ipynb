{
 "cells": [
  {
   "cell_type": "code",
   "execution_count": null,
   "metadata": {},
   "outputs": [],
   "source": [
    "# Modifying a List in a Function"
   ]
  },
  {
   "cell_type": "code",
   "execution_count": 14,
   "metadata": {},
   "outputs": [
    {
     "ename": "SyntaxError",
     "evalue": "'return' outside function (<ipython-input-14-440600436580>, line 9)",
     "output_type": "error",
     "traceback": [
      "\u001b[1;36m  File \u001b[1;32m\"<ipython-input-14-440600436580>\"\u001b[1;36m, line \u001b[1;32m9\u001b[0m\n\u001b[1;33m    return  unptinted_designs\u001b[0m\n\u001b[1;37m    ^\u001b[0m\n\u001b[1;31mSyntaxError\u001b[0m\u001b[1;31m:\u001b[0m 'return' outside function\n"
     ]
    }
   ],
   "source": [
    "# Start with some designs that need to be printed.\n",
    "unprinted_designs = ['iphone case', 'robot pendant', 'dodecahedron']\n",
    "completed_models = []\n",
    "\n",
    "# Simulate printing each desing, until none are left.\n",
    "# Move each design to completed_models after printing.\n",
    "while unprinted_designs:\n",
    "    current_design = unprinted_designs.pop()\n",
    "  \n",
    "    # Simulate creating a 3D print from the design.\n",
    "    print(\"Printing model: \" + current_design)\n",
    "    completed_models.append(current_design)\n",
    "\n",
    "# Display all completed models.\n",
    "print(\"\\nThe Following models have been printed:\")\n",
    "for completed_model in completed_models:\n",
    "    print(completed_model)\n",
    "\n",
    "       "
   ]
  },
  {
   "cell_type": "code",
   "execution_count": 51,
   "metadata": {},
   "outputs": [
    {
     "name": "stdout",
     "output_type": "stream",
     "text": [
      "Printing model: dodecahedron\n",
      "Printing model: robot pendant\n",
      "Printing model: iphone case\n",
      "\n",
      "The following models have been printed:\n",
      "dodecahedron\n",
      "robot pendant\n",
      "iphone case\n",
      "[]\n"
     ]
    }
   ],
   "source": [
    "\n",
    "\n",
    "def print_models(unprinted_designs, completed_models):\n",
    "    \"\"\"\n",
    "    Simulate printing each design, until none are left.\n",
    "    Move each design to completed_models after printing.\n",
    "    \"\"\"\n",
    "    while unprinted_designs:\n",
    "        current_design = unprinted_designs.pop()\n",
    "        print(\"Printing model: \" + current_design)\n",
    "        completed_models.append(current_design)\n",
    "         \n",
    "        \n",
    "def show_completed_models(completed_models):\n",
    "    \"\"\"Show all the models that were  printed.\"\"\"\n",
    "    print(\"\\nThe following models have been printed:\")\n",
    "    for completed_model in completed_models:\n",
    "        print(completed_model)\n",
    "\n",
    "unprinted_designs = ['iphone case', 'robot pendant', 'dodecahedron']        \n",
    "completed_models = []\n",
    "\n",
    "print_models(unprinted_designs, completed_models)\n",
    "show_completed_models(completed_models)\n",
    "print(unprinted_designs)\n"
   ]
  },
  {
   "cell_type": "code",
   "execution_count": 37,
   "metadata": {
    "scrolled": true
   },
   "outputs": [
    {
     "name": "stdout",
     "output_type": "stream",
     "text": [
      "Printing model: dodecahedron\n",
      "Printing model: robot pendant\n",
      "Printing model: iphone case\n",
      "\n",
      "The following models have been printed:\n",
      "dodecahedron\n",
      "robot pendant\n",
      "iphone case\n",
      "['iphone case', 'robot pendant', 'dodecahedron']\n"
     ]
    }
   ],
   "source": [
    "# preventing a Functio from Modifying a List\n",
    "\n",
    "\n",
    "\n",
    "def print_models(unprinted_designs, completed_models):\n",
    "    \"\"\"\n",
    "    Simulate printing each design, until none are left.\n",
    "    Move each design to completed_models after printing.\n",
    "    \"\"\"\n",
    "    while unprinted_designs:\n",
    "        current_design = unprinted_designs.pop()\n",
    "        print(\"Printing model: \" + current_design)\n",
    "        completed_models.append(current_design)\n",
    "        \n",
    "def show_completed_models(completed_models):\n",
    "    \"\"\"Show all the models that were  printed.\"\"\"\n",
    "    print(\"\\nThe following models have been printed:\")\n",
    "    for completed_model in completed_models:\n",
    "        print(completed_model)\n",
    "             \n",
    "unprinted_designs = ['iphone case', 'robot pendant', 'dodecahedron']        \n",
    "completed_models = []\n",
    "\n",
    "print_models(unprinted_designs[:], completed_models)\n",
    "show_completed_models(completed_models)\n",
    "print(unprinted_designs)"
   ]
  },
  {
   "cell_type": "code",
   "execution_count": 35,
   "metadata": {
    "scrolled": true
   },
   "outputs": [
    {
     "name": "stdout",
     "output_type": "stream",
     "text": [
      "['Great Slavik', 'Great Kazbek', 'Great Rudik', 'Great Mark']\n",
      "[]\n"
     ]
    }
   ],
   "source": [
    "magicians = ['mark', 'rudik', 'kazbek', 'slavik']\n",
    "great_magicians = []\n",
    "\n",
    "def show_magicians(magicians):\n",
    "    \"\"\"Presents all magicians\"\"\"\n",
    "    for magician in magicians:\n",
    "        print(magician.title())\n",
    "\n",
    "def make_great(magicians, great_magicians):\n",
    "    while magicians:\n",
    "        great_magician = \"great\" + ' ' + magicians.pop()\n",
    "        great_magicians.append(great_magician.title())\n",
    "\n",
    "        \n",
    "make_great(magicians,great_magicians)\n",
    "        \n",
    "print(great_magicians)  \n",
    "print(magicians)\n",
    "       "
   ]
  },
  {
   "cell_type": "code",
   "execution_count": 61,
   "metadata": {},
   "outputs": [
    {
     "name": "stdout",
     "output_type": "stream",
     "text": [
      "Slavik The Great\n",
      "Kazbek The Great\n",
      "Rudik The Great\n",
      "Mark The Great\n"
     ]
    }
   ],
   "source": [
    "magicians = ['mark', 'rudik', 'kazbek', 'slavik']\n",
    "\n",
    "\n",
    "def show_magicians(magicians):\n",
    "    \"\"\"Presents all magicians\"\"\"\n",
    "    for magician in magicians:\n",
    "        print(magician.title())\n",
    "\n",
    "def make_great(great_magicians):\n",
    "    \"\"\"Modifying magicians to Great Magicians\"\"\"\n",
    "    # Build a new list to hold great magicians\n",
    "    great_magicians = []\n",
    "    \n",
    "    # Make each magician great\n",
    "    while magicians:\n",
    "        magician = magicians.pop()\n",
    "        great_magician =magician.title() + ' the Great'\n",
    "        great_magicians.append(great_magician)\n",
    "        \n",
    "    # Add great magicians to magicians\n",
    "    for great_magician in great_magicians:\n",
    "        magicians.append(great_magician)\n",
    "       \n",
    "make_great(great_magicians)\n",
    "show_magicians(magicians)\n",
    "   \n"
   ]
  },
  {
   "cell_type": "code",
   "execution_count": 107,
   "metadata": {},
   "outputs": [
    {
     "name": "stdout",
     "output_type": "stream",
     "text": [
      "Mark\n",
      "Rudik\n",
      "Kazbek\n",
      "Slavik\n",
      "\n",
      "Great magicians:\n",
      "Slavik The Great\n",
      "Kazbek The Great\n",
      "Rudik The Great\n",
      "Mark The Great\n",
      "\n",
      "Magicians:\n",
      "Mark\n",
      "Rudik\n",
      "Kazbek\n",
      "Slavik\n"
     ]
    }
   ],
   "source": [
    "\n",
    "def make_great(magicians):\n",
    "    \"\"\"Modifying magicians to Great Magicians\"\"\"\n",
    "    # Build a new list to hold great magicians\n",
    "    great_magicians = []\n",
    "      \n",
    "    # Make each magician great.\n",
    "    while magicians:\n",
    "        magician = magicians.pop()\n",
    "        great_magician =magician.title() + ' the Great'\n",
    "        great_magicians.append(great_magician)\n",
    "         \n",
    "    # Add great magicians into magicians.\n",
    "    for great_magician in great_magicians:\n",
    "        magicians.append(great_magician)\n",
    "        \n",
    "    return magicians   \n",
    "   \n",
    "def show_magicians(magicians):\n",
    "    \"\"\"Presents all magicians\"\"\"\n",
    "    \n",
    "    for magician in magicians:\n",
    "        print(magician.title()) \n",
    "        \n",
    "        \n",
    "magicians = ['mark', 'rudik', 'kazbek', 'slavik']      \n",
    "show_magicians(magicians) \n",
    "\n",
    "print(\"\\nGreat magicians:\")\n",
    "great_magicians = make_great(magicians[:])\n",
    "show_magicians(great_magicians)\n",
    "\n",
    "print(\"\\nMagicians:\")\n",
    "show_magicians(magicians)\n"
   ]
  },
  {
   "cell_type": "code",
   "execution_count": null,
   "metadata": {},
   "outputs": [],
   "source": [
    "def favorite_book(title):\n",
    "    print(\"My favorit book is \" + title.title())\n",
    "    \n",
    "favorite_book(\"Alise in wonder land\")    "
   ]
  },
  {
   "cell_type": "code",
   "execution_count": null,
   "metadata": {},
   "outputs": [],
   "source": [
    "# Passing an Arbitrary Number of Arguments\n",
    "\n",
    "def make_pizza(*toppings):\n",
    "    \"\"\"Print the list of toppings that have been requested.\"\"\"\n",
    "    print(toppings)\n",
    "    \n",
    "make_pizza('pepperoni')\n",
    "make_pizza('mushrooms', 'green peppers', 'extra cheese')\n"
   ]
  },
  {
   "cell_type": "code",
   "execution_count": null,
   "metadata": {
    "scrolled": false
   },
   "outputs": [],
   "source": [
    "\n",
    "def make_pizza(*toppings):\n",
    "    \"\"\"Summarize the pizza we are about to make.\"\"\"\n",
    "    print(\"\\nMaking pizza with the following toppings:\")\n",
    "    for topping in toppings:\n",
    "        print(\"- \" + topping)\n",
    "    \n",
    "make_pizza('pepperoni')\n",
    "make_pizza('mushrooms', 'green peppers', 'extra cheese')\n"
   ]
  },
  {
   "cell_type": "code",
   "execution_count": null,
   "metadata": {},
   "outputs": [],
   "source": [
    "\n",
    "def make_pizza(size,*toppings):\n",
    "    \"\"\"Summarize the pizza we are about to make.\"\"\"\n",
    "    print(\"\\n Makeing a \" +str(size) + \n",
    "          \"-inch pizza with the following toppings:\")\n",
    "    for topping in toppings:\n",
    "        print(\"- \" + topping)\n",
    "    \n",
    "make_pizza(16, 'pepperoni')\n",
    "make_pizza(12, 'mushrooms', 'green peppers', 'extra cheese')\n"
   ]
  },
  {
   "cell_type": "code",
   "execution_count": null,
   "metadata": {},
   "outputs": [],
   "source": [
    "# Using Arbitrary Keyword Arguments\n",
    "\n",
    "def build_profile(first, last, **user_info):\n",
    "    \"\"\"Building a dictionay containing everything we know about a user.\"\"\"\n",
    "    profile = {}\n",
    "    profile['first_name'] = first\n",
    "    profile['last_name'] = last\n",
    "    for key, value in user_info.items():\n",
    "        profile[key] = value\n",
    "    return profile    \n",
    "\n",
    "user_profile = build_profile('albert', 'einstein', \n",
    "                             location='princeton',\n",
    "                             field='physics',\n",
    "                            weight=100)\n",
    "print(user_profile)"
   ]
  },
  {
   "cell_type": "code",
   "execution_count": null,
   "metadata": {},
   "outputs": [],
   "source": [
    "def add_to_sandwich(*toppings):\n",
    "    \"\"\"Adding topping to the sandwich\"\"\"\n",
    "    print(\"Making sandwich \\nwith:\")\n",
    "    for topping in toppings:\n",
    "        print(\"\\t\",topping)\n",
    "\n",
    "add_to_sandwich('cheese', 'salat', 'olives')"
   ]
  },
  {
   "cell_type": "code",
   "execution_count": null,
   "metadata": {},
   "outputs": [],
   "source": [
    "def build_my_profile(first, last, work, sport):\n",
    "    \"\"\"Building a dictionary about my self\"\"\"\n",
    "    profile = {}\n",
    "    profile['first name'] = first\n",
    "    profile['last name'] = last\n",
    "    profile['work place'] = work\n",
    "    profile['sport activities'] = sport\n",
    "    return profile\n",
    "    \n",
    "user_profile = build_my_profile('sergey', 'sergeychev',\n",
    "                                'NBS' ,'weight lifting',\n",
    "                                )\n",
    "print(user_profile)"
   ]
  },
  {
   "cell_type": "code",
   "execution_count": 113,
   "metadata": {},
   "outputs": [
    {
     "name": "stdout",
     "output_type": "stream",
     "text": [
      "{'manufacturer': 'toyota', 'model name': 'avensis', 'color': 'black', 'lcd_display': True}\n"
     ]
    }
   ],
   "source": [
    "def car_info(manufacturer, model, **additional_info):\n",
    "    \"\"\"Storing info in dictionary.\"\"\"\n",
    "    car ={}\n",
    "    car['manufacturer'] = manufacturer\n",
    "    car['model name'] = model\n",
    "    \n",
    "    for key, value in additional_info.items():\n",
    "        car[key] = value\n",
    "        \n",
    "    return car    \n",
    "\n",
    "model_info = car_info('toyota', 'avensis',\n",
    "                      color = 'black',\n",
    "                      lcd_display = True )\n",
    "print(model_info\n",
    "     )"
   ]
  },
  {
   "cell_type": "code",
   "execution_count": null,
   "metadata": {},
   "outputs": [],
   "source": []
  }
 ],
 "metadata": {
  "kernelspec": {
   "display_name": "Python 3",
   "language": "python",
   "name": "python3"
  },
  "language_info": {
   "codemirror_mode": {
    "name": "ipython",
    "version": 3
   },
   "file_extension": ".py",
   "mimetype": "text/x-python",
   "name": "python",
   "nbconvert_exporter": "python",
   "pygments_lexer": "ipython3",
   "version": "3.8.5"
  }
 },
 "nbformat": 4,
 "nbformat_minor": 4
}
